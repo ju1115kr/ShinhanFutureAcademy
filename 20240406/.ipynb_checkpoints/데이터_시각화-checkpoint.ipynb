{
 "cells": [
  {
   "cell_type": "markdown",
   "metadata": {
    "id": "GHGQMB1mm2AT"
   },
   "source": [
    "## 데이터 시각화\n",
    "데이터 시각화는 데이터 분석 과정에서 중요한 단계 중 하나로, 데이터를 그래픽 형태로 표현하는 과정을 의미합니다. 이는 숫자나 텍스트로만 이루어진 복잡한 데이터 세트를 이해하기 쉽고, 직관적인 시각적 형태로 전환하여, 패턴, 추세, 이상치 같은 중요 정보를 빠르게 식별할 수 있게 해줍니다."
   ]
  },
  {
   "cell_type": "code",
   "execution_count": null,
   "metadata": {
    "id": "YoGAVNj3myn8"
   },
   "outputs": [],
   "source": []
  },
  {
   "cell_type": "markdown",
   "metadata": {
    "id": "yThklEpSoRW5"
   },
   "source": [
    "### 선 스타일\n",
    "* ```-``` (Solid)\n",
    "* ```--``` (Dashed)\n",
    "* ```:``` (Dotted)\n",
    "* ```-.``` (Dash-dot)\n",
    "\n",
    "위 네가지 종류를 선택할 수 있습니다."
   ]
  },
  {
   "cell_type": "code",
   "execution_count": null,
   "metadata": {
    "colab": {
     "base_uri": "https://localhost:8080/",
     "height": 430
    },
    "id": "HVR7Tf7toHWJ",
    "outputId": "2af065b9-d448-4c3e-b1ea-be89045e243e"
   },
   "outputs": [],
   "source": []
  },
  {
   "cell_type": "markdown",
   "metadata": {
    "id": "3jNIpRQVtaFy"
   },
   "source": [
    "## 연습문제 (연습 데이터는 bike 데이터를 활용하세요.)\n",
    "1. 계절별 대여 횟수 비교: 계절별로 총 대여 횟수(cnt)의 평균을 막대 그래프로 표시하세요."
   ]
  },
  {
   "cell_type": "code",
   "execution_count": null,
   "metadata": {
    "id": "tetYW6lss7RO"
   },
   "outputs": [],
   "source": []
  },
  {
   "cell_type": "markdown",
   "metadata": {
    "id": "j_eULYFjtglj"
   },
   "source": [
    "2. 월별 대여 횟수 추이: 월별 총 대여 횟수(cnt)의 변화를 선 그래프로 나타내세요."
   ]
  },
  {
   "cell_type": "code",
   "execution_count": null,
   "metadata": {
    "id": "egaBdu4HthEe"
   },
   "outputs": [],
   "source": []
  },
  {
   "cell_type": "markdown",
   "metadata": {
    "id": "OyDFhEqhthbL"
   },
   "source": [
    "3. 온도와 대여 횟수의 관계: 온도(temp)와 총 대여 횟수(cnt) 사이의 관계를 산점도로 나타내세요."
   ]
  },
  {
   "cell_type": "code",
   "execution_count": null,
   "metadata": {
    "id": "KBvLhCsJuQCs"
   },
   "outputs": [],
   "source": []
  },
  {
   "cell_type": "markdown",
   "metadata": {
    "id": "GyRGc7JMuXzp"
   },
   "source": [
    "4. 요일별 대여 횟수 분포: 요일(weekday)별로 총 대여 횟수(cnt)의 분포를 바이올린 플롯으로 표시하세요."
   ]
  },
  {
   "cell_type": "code",
   "execution_count": null,
   "metadata": {
    "id": "tDymrie1uYQb"
   },
   "outputs": [],
   "source": []
  },
  {
   "cell_type": "markdown",
   "metadata": {
    "id": "Ry3fJdaluYpc"
   },
   "source": [
    "5. 연도별 월별 대여 횟수 변화: 연도(yr)와 월(mnth)별로 총 대여 횟수(cnt)의 변화를 선 그래프로 비교하세요."
   ]
  },
  {
   "cell_type": "code",
   "execution_count": null,
   "metadata": {
    "id": "9zcMCY6VusBh"
   },
   "outputs": [],
   "source": []
  }
 ],
 "metadata": {
  "colab": {
   "provenance": []
  },
  "kernelspec": {
   "display_name": "Python 3 (ipykernel)",
   "language": "python",
   "name": "python3"
  },
  "language_info": {
   "codemirror_mode": {
    "name": "ipython",
    "version": 3
   },
   "file_extension": ".py",
   "mimetype": "text/x-python",
   "name": "python",
   "nbconvert_exporter": "python",
   "pygments_lexer": "ipython3",
   "version": "3.11.5"
  }
 },
 "nbformat": 4,
 "nbformat_minor": 1
}
