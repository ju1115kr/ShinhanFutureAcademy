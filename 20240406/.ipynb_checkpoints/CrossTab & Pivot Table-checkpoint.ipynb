{
 "cells": [
  {
   "cell_type": "markdown",
   "id": "1c7eaa85",
   "metadata": {},
   "source": [
    "## CrossTab\n",
    "Pandas의 crosstab 함수는 데이터 내에서 두 개 이상의 요소 간의 교차 분석을 수행하는 데 사용됩니다. 이 함수는 주로 두 변수 사이의 관계를 분석하기 위해 사용되며, 이를 통해 각 변수의 빈도수를 요약한 교차 테이블(혹은 교차분석표)을 생성할 수 있습니다. crosstab은 특히 카테고리 데이터의 분석에 유용하며, 설문 조사 응답, 사용자 선호도 등 다양한 데이터를 분석하는 데 적합합니다.\n",
    "\n",
    "* index: 교차 테이블의 행을 구성할 데이터 (하나 이상의 배열이 될 수 있음).\n",
    "* columns: 교차 테이블의 열을 구성할 데이터 (하나 이상의 배열이 될 수 있음).\n",
    "* values: 선택적 매개변수로, 집계 함수(aggfunc)와 함께 사용되어 특정 값을 기준으로 집계를 수행합니다.\n",
    "* aggfunc: values에 적용할 집계 함수 (예: sum, mean 등).\n",
    "* margins: True로 설정하면, 모든 행/열의 합계를 추가합니다.\n",
    "* normalize: 데이터를 정규화할지 여부를 결정합니다. 특정 축에 대해 정규화하거나 전체 테이블을 정규화할 수 있습니다."
   ]
  },
  {
   "cell_type": "code",
   "execution_count": null,
   "id": "5060427a",
   "metadata": {},
   "outputs": [],
   "source": []
  },
  {
   "cell_type": "markdown",
   "id": "d64fdb0c",
   "metadata": {},
   "source": [
    "## Pivot Table\n",
    "Pandas의 pivot_table은 Excel의 피벗 테이블과 유사한 기능을 제공합니다. 이 함수는 데이터프레임의 데이터를 요약하는 데 사용되며, 복잡한 데이터에서 중요한 정보를 추출하고, 특정 요약 통계를 제공하는 데 매우 유용합니다. pivot_table을 사용하면, 데이터를 다양한 방식으로 재구성하고, 그룹화된 데이터에 대한 집계 함수를 적용할 수 있습니다.\n",
    "\n",
    "* data: 분석할 데이터프레임입니다.\n",
    "* values: 집계하려는 컬럼 이름들의 리스트입니다. 기본적으로 수치 데이터 컬럼을 집계합니다.\n",
    "* index: 피벗 테이블의 행으로 사용할 컬럼 또는 컬럼 리스트입니다.\n",
    "* columns: 피벗 테이블의 열로 사용할 컬럼 또는 컬럼 리스트입니다.\n",
    "* aggfunc: 데이터 집계에 사용할 함수입니다. 기본값은 'mean'이지만, 'sum', 'count', 'max', 'min' 등 다양한 함수를 사용할 수 있습니다.\n",
    "* fill_value: NA/null 값을 대체할 값입니다.\n",
    "* margins: True로 설정하면, 모든 행과 열의 합계/평균을 추가합니다.\n",
    "* dropna: True로 설정하면, 모든 값이 NA인 컬럼을 포함하지 않습니다.\n",
    "* margins_name: margins가 True일 때, 합계/평균 행의 이름을 지정합니다.\n",
    "\n",
    "crosstab은 두 변수 간의 교차 분석에 주로 사용되며, pivot_table은 데이터를 보다 복잡하고 다차원적으로 요약하는 데 사용됩니다. crosstab의 기본 동작은 빈도수 계산이고, pivot_table의 기본 동작은 평균을 계산하는 것입니다."
   ]
  },
  {
   "cell_type": "code",
   "execution_count": null,
   "id": "27151178",
   "metadata": {},
   "outputs": [],
   "source": []
  },
  {
   "cell_type": "markdown",
   "id": "da4e1019",
   "metadata": {},
   "source": [
    "## 연습문제\n",
    "1. 성별(sex)과 흡연 유무(smoker)에 따른 고객 수를 교차 분석하세요."
   ]
  },
  {
   "cell_type": "code",
   "execution_count": null,
   "id": "280e7b48",
   "metadata": {},
   "outputs": [],
   "source": []
  },
  {
   "cell_type": "markdown",
   "id": "c91fc7e8",
   "metadata": {},
   "source": [
    "2. 요일(day)별로 성별(sex) 고객 수를 교차 분석하세요."
   ]
  },
  {
   "cell_type": "code",
   "execution_count": null,
   "id": "f42f2218",
   "metadata": {},
   "outputs": [],
   "source": []
  },
  {
   "cell_type": "markdown",
   "id": "f18a0a73",
   "metadata": {},
   "source": [
    "3. 시간(time)과 요일(day)에 따른 흡연자(smoker)와 비흡연자의 분포를 교차 분석하세요."
   ]
  },
  {
   "cell_type": "code",
   "execution_count": null,
   "id": "fc59f756",
   "metadata": {},
   "outputs": [],
   "source": []
  },
  {
   "cell_type": "markdown",
   "id": "d5042ae8",
   "metadata": {},
   "source": [
    "4. 요일(day)별, 시간(time)별 성별(sex) 고객 수를 교차 분석하되, 각 카테고리별 총합도 표시하세요(margins=True 사용)."
   ]
  },
  {
   "cell_type": "code",
   "execution_count": null,
   "id": "1e603e2a",
   "metadata": {},
   "outputs": [],
   "source": []
  },
  {
   "cell_type": "markdown",
   "id": "4c1731ac",
   "metadata": {},
   "source": [
    "5. 성별(sex)과 요일(day)에 따른 평균 팁 금액을 교차 분석하세요(aggfunc='mean'과 values 사용)."
   ]
  },
  {
   "cell_type": "code",
   "execution_count": null,
   "id": "8cd2d256",
   "metadata": {},
   "outputs": [],
   "source": []
  },
  {
   "cell_type": "markdown",
   "id": "136a7147",
   "metadata": {},
   "source": [
    "6. 요일(day)별 총 계산서 금액(total_bill)의 평균을 피벗 테이블을 사용해 분석하세요."
   ]
  },
  {
   "cell_type": "code",
   "execution_count": null,
   "id": "f070f18a",
   "metadata": {},
   "outputs": [],
   "source": []
  },
  {
   "cell_type": "markdown",
   "id": "ec6cfafa",
   "metadata": {},
   "source": [
    "7. 성별(sex)과 흡연 유무(smoker)를 기준으로 팁(tip)의 평균을 분석하세요."
   ]
  },
  {
   "cell_type": "code",
   "execution_count": null,
   "id": "0696f14b",
   "metadata": {},
   "outputs": [],
   "source": []
  },
  {
   "cell_type": "markdown",
   "id": "81c6e119",
   "metadata": {},
   "source": [
    "8. 요일(day)과 시간(time)을 행으로 하고, 성별(sex)을 열로 하여, 팁 금액(tip)의 총합을 계산하세요."
   ]
  },
  {
   "cell_type": "code",
   "execution_count": null,
   "id": "ab5a477f",
   "metadata": {},
   "outputs": [],
   "source": []
  },
  {
   "cell_type": "markdown",
   "id": "81767074",
   "metadata": {},
   "source": [
    "9. 시간(time)별, 요일(day)별로 최대 총 계산서 금액(total_bill)과 최소 팁 금액(tip)을 동시에 분석하세요(aggfunc에 리스트 사용)."
   ]
  },
  {
   "cell_type": "code",
   "execution_count": null,
   "id": "0228bd2b",
   "metadata": {},
   "outputs": [],
   "source": []
  },
  {
   "cell_type": "markdown",
   "id": "c8841f27",
   "metadata": {},
   "source": [
    "10. 성별(sex)을 행으로, 흡연 유무(smoker)를 열로 하여, 총 계산서 금액(total_bill)의 평균을 계산하고, 결과를 총계를 포함하여 분석하세요."
   ]
  },
  {
   "cell_type": "code",
   "execution_count": null,
   "id": "a6117484",
   "metadata": {},
   "outputs": [],
   "source": []
  }
 ],
 "metadata": {
  "kernelspec": {
   "display_name": "Python 3 (ipykernel)",
   "language": "python",
   "name": "python3"
  },
  "language_info": {
   "codemirror_mode": {
    "name": "ipython",
    "version": 3
   },
   "file_extension": ".py",
   "mimetype": "text/x-python",
   "name": "python",
   "nbconvert_exporter": "python",
   "pygments_lexer": "ipython3",
   "version": "3.11.5"
  }
 },
 "nbformat": 4,
 "nbformat_minor": 5
}
