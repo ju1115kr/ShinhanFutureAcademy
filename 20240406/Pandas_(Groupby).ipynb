{
 "cells": [
  {
   "cell_type": "markdown",
   "metadata": {
    "id": "s6EHfpf4ZuzM"
   },
   "source": [
    "## Groupby\n",
    "Pandas의 groupby 기능은 데이터를 분할, 적용, 결합하는 과정을 통해 데이터 집계, 변환, 필터링 작업을 효율적으로 수행할 수 있게 해줍니다. 이 기능은 SQL의 GROUP BY 문과 유사하며, 복잡한 데이터 분석 작업을 간단하게 만들어 줍니다."
   ]
  },
  {
   "cell_type": "code",
   "execution_count": 1,
   "metadata": {
    "colab": {
     "base_uri": "https://localhost:8080/",
     "height": 206
    },
    "id": "lhWxXQXSZq5w",
    "outputId": "3a4e3b8c-60b9-4321-9cb2-be04fd07322c"
   },
   "outputs": [
    {
     "data": {
      "text/plain": [
       "<Axes: xlabel='year'>"
      ]
     },
     "execution_count": 1,
     "metadata": {},
     "output_type": "execute_result"
    },
    {
     "data": {
      "image/png": "[encoded data removed]",
      "text/plain": [
       "<Figure size 640x480 with 1 Axes>"
      ]
     },
     "metadata": {},
     "output_type": "display_data"
    }
   ],
   "source": [
    "import pandas as pd\n",
    "df = pd.read_csv(\"Data/gapminder.tsv\", sep='\\t')\n",
    "\n",
    "# 연도'별'--[기대수명 및 인구수]의 평균\n",
    "lifeExp_year = df.groupby(\"year\")[[\"lifeExp\", \"pop\"]].mean()\n",
    "lifeExp_year.plot()"
   ]
  },
  {
   "cell_type": "code",
   "execution_count": 2,
   "metadata": {},
   "outputs": [],
   "source": [
    "# 대륙 및 연도'별' -- 기대수명 중앙값\n",
    "df.groupby([\"continent\", \"year\"])['lifeExp'].median().to_excel(\"lifeExp_continent_year.xlsx\")"
   ]
  },
  {
   "cell_type": "code",
   "execution_count": 3,
   "metadata": {},
   "outputs": [
    {
     "data": {
      "text/plain": [
       "continent\n",
       "Africa      52\n",
       "Americas    25\n",
       "Asia        33\n",
       "Europe      30\n",
       "Oceania      2\n",
       "Name: country, dtype: int64"
      ]
     },
     "execution_count": 3,
     "metadata": {},
     "output_type": "execute_result"
    }
   ],
   "source": [
    "# count() : 중복 허용한 갯수\n",
    "# nunique() : 중복 없는 갯수\n",
    "df.groupby(\"continent\")[\"country\"].nunique()"
   ]
  },
  {
   "cell_type": "code",
   "execution_count": null,
   "metadata": {},
   "outputs": [],
   "source": []
  },
  {
   "cell_type": "markdown",
   "metadata": {
    "id": "-YAJPUpZdAKA"
   },
   "source": [
    "### 1. 주요 함수들\n",
    "* mean(): 그룹별 평균 값을 계산합니다.\n",
    "* sum(): 그룹별 합계를 계산합니다.\n",
    "* size(): 각 그룹의 크기(행의 개수)를 계산합니다.\n",
    "* count(): 각 그룹의 non-NA/null 값의 개수를 계산합니다.\n",
    "* min(), max(): 각 그룹의 최소값과 최대값을 계산합니다.\n",
    "* describe(): 각 그룹에 대한 기술통계를 요약하여 보여줍니다."
   ]
  },
  {
   "cell_type": "code",
   "execution_count": null,
   "metadata": {
    "colab": {
     "base_uri": "https://localhost:8080/"
    },
    "id": "UUlztg2Va_k8",
    "outputId": "4beb4376-09ba-4b30-8bb8-d33b7b625f17"
   },
   "outputs": [],
   "source": []
  },
  {
   "cell_type": "code",
   "execution_count": 5,
   "metadata": {
    "colab": {
     "base_uri": "https://localhost:8080/",
     "height": 455
    },
    "id": "auduupoTdHlx",
    "outputId": "58cdc875-0b6f-42d5-db2c-3d8834735189"
   },
   "outputs": [
    {
     "data": {
      "application/vnd.google.colaboratory.intrinsic+json": {
       "summary": "{\n  \"name\": \"df\",\n  \"rows\": 142,\n  \"fields\": [\n    {\n      \"column\": \"country\",\n      \"properties\": {\n        \"dtype\": \"string\",\n        \"num_unique_values\": 142,\n        \"samples\": [\n          \"Turkey\",\n          \"Cameroon\",\n          \"Mauritius\"\n        ],\n        \"semantic_type\": \"\",\n        \"description\": \"\"\n      }\n    },\n    {\n      \"column\": \"count\",\n      \"properties\": {\n        \"dtype\": \"number\",\n        \"std\": 0.0,\n        \"min\": 12.0,\n        \"max\": 12.0,\n        \"num_unique_values\": 1,\n        \"samples\": [\n          12.0\n        ],\n        \"semantic_type\": \"\",\n        \"description\": \"\"\n      }\n    },\n    {\n      \"column\": \"mean\",\n      \"properties\": {\n        \"dtype\": \"number\",\n        \"std\": 8486.026594838479,\n        \"min\": 439.3333333333333,\n        \"max\": 65332.91047166666,\n        \"num_unique_values\": 142,\n        \"samples\": [\n          4469.4533796666665\n        ],\n        \"semantic_type\": \"\",\n        \"description\": \"\"\n      }\n    },\n    {\n      \"column\": \"std\",\n      \"properties\": {\n        \"dtype\": \"number\",\n        \"std\": 4272.082353143174,\n        \"min\": 96.42762702063808,\n        \"max\": 33882.13953551086,\n        \"num_unique_values\": 142,\n        \"samples\": [\n          2049.6651018808434\n        ],\n        \"semantic_type\": \"\",\n        \"description\": \"\"\n      }\n    },\n    {\n      \"column\": \"min\",\n      \"properties\": {\n        \"dtype\": \"number\",\n        \"std\": 3638.0977068708157,\n        \"min\": 241.1658765,\n        \"max\": 28118.42998,\n        \"num_unique_values\": 142,\n        \"samples\": [\n          1969.10098\n        ],\n        \"semantic_type\": \"\",\n        \"description\": \"\"\n      }\n    },\n    {\n      \"column\": \"25%\",\n      \"properties\": {\n        \"dtype\": \"number\",\n        \"std\": 5337.262841053079,\n        \"min\": 349.75,\n        \"max\": 35065.8091425,\n        \"num_unique_values\": 142,\n        \"samples\": [\n          2700.48476725\n        ],\n        \"semantic_type\": \"\",\n        \"description\": \"\"\n      }\n    },\n    {\n      \"column\": \"50%\",\n      \"properties\": {\n        \"dtype\": \"number\",\n        \"std\": 7840.962248455707,\n        \"min\": 378.0,\n        \"max\": 53286.23346,\n        \"num_unique_values\": 142,\n        \"samples\": [\n          4255.239335\n        ],\n        \"semantic_type\": \"\",\n        \"description\": \"\"\n      }\n    },\n    {\n      \"column\": \"75%\",\n      \"properties\": {\n        \"dtype\": \"number\",\n        \"std\": 11774.783218328801,\n        \"min\": 417.25,\n        \"max\": 98689.172045,\n        \"num_unique_values\": 142,\n        \"samples\": [\n          5885.78263275\n        ],\n        \"semantic_type\": \"\",\n        \"description\": \"\"\n      }\n    },\n    {\n      \"column\": \"max\",\n      \"properties\": {\n        \"dtype\": \"number\",\n        \"std\": 15170.03619039327,\n        \"min\": 631.6998778,\n        \"max\": 113523.1329,\n        \"num_unique_values\": 142,\n        \"samples\": [\n          8458.276384\n        ],\n        \"semantic_type\": \"\",\n        \"description\": \"\"\n      }\n    }\n  ]\n}",
       "type": "dataframe"
      },
      "text/html": [
       "\n",
       "  <div id=\"df-60aefd13-a1f3-4849-a5c1-af0dc5a068f9\" class=\"colab-df-container\">\n",
       "    <div>\n",
       "<style scoped>\n",
       "    .dataframe tbody tr th:only-of-type {\n",
       "        vertical-align: middle;\n",
       "    }\n",
       "\n",
       "    .dataframe tbody tr th {\n",
       "        vertical-align: top;\n",
       "    }\n",
       "\n",
       "    .dataframe thead th {\n",
       "        text-align: right;\n",
       "    }\n",
       "</style>\n",
       "<table border=\"1\" class=\"dataframe\">\n",
       "  <thead>\n",
       "    <tr style=\"text-align: right;\">\n",
       "      <th></th>\n",
       "      <th>count</th>\n",
       "      <th>mean</th>\n",
       "      <th>std</th>\n",
       "      <th>min</th>\n",
       "      <th>25%</th>\n",
       "      <th>50%</th>\n",
       "      <th>75%</th>\n",
       "      <th>max</th>\n",
       "    </tr>\n",
       "    <tr>\n",
       "      <th>country</th>\n",
       "      <th></th>\n",
       "      <th></th>\n",
       "      <th></th>\n",
       "      <th></th>\n",
       "      <th></th>\n",
       "      <th></th>\n",
       "      <th></th>\n",
       "      <th></th>\n",
       "    </tr>\n",
       "  </thead>\n",
       "  <tbody>\n",
       "    <tr>\n",
       "      <th>Afghanistan</th>\n",
       "      <td>12.0</td>\n",
       "      <td>802.674598</td>\n",
       "      <td>108.202929</td>\n",
       "      <td>635.341351</td>\n",
       "      <td>736.669343</td>\n",
       "      <td>803.483195</td>\n",
       "      <td>852.572136</td>\n",
       "      <td>978.011439</td>\n",
       "    </tr>\n",
       "    <tr>\n",
       "      <th>Albania</th>\n",
       "      <td>12.0</td>\n",
       "      <td>3255.366633</td>\n",
       "      <td>1192.351513</td>\n",
       "      <td>1601.056136</td>\n",
       "      <td>2451.300665</td>\n",
       "      <td>3253.238396</td>\n",
       "      <td>3657.893725</td>\n",
       "      <td>5937.029526</td>\n",
       "    </tr>\n",
       "    <tr>\n",
       "      <th>Algeria</th>\n",
       "      <td>12.0</td>\n",
       "      <td>4426.025973</td>\n",
       "      <td>1310.337656</td>\n",
       "      <td>2449.008185</td>\n",
       "      <td>3188.737834</td>\n",
       "      <td>4853.855903</td>\n",
       "      <td>5386.369921</td>\n",
       "      <td>6223.367465</td>\n",
       "    </tr>\n",
       "    <tr>\n",
       "      <th>Angola</th>\n",
       "      <td>12.0</td>\n",
       "      <td>3607.100529</td>\n",
       "      <td>1165.900251</td>\n",
       "      <td>2277.140884</td>\n",
       "      <td>2724.676675</td>\n",
       "      <td>3264.628814</td>\n",
       "      <td>4401.265373</td>\n",
       "      <td>5522.776375</td>\n",
       "    </tr>\n",
       "    <tr>\n",
       "      <th>Argentina</th>\n",
       "      <td>12.0</td>\n",
       "      <td>8955.553783</td>\n",
       "      <td>1862.583151</td>\n",
       "      <td>5911.315053</td>\n",
       "      <td>7823.006272</td>\n",
       "      <td>9068.784401</td>\n",
       "      <td>9602.035579</td>\n",
       "      <td>12779.379640</td>\n",
       "    </tr>\n",
       "    <tr>\n",
       "      <th>...</th>\n",
       "      <td>...</td>\n",
       "      <td>...</td>\n",
       "      <td>...</td>\n",
       "      <td>...</td>\n",
       "      <td>...</td>\n",
       "      <td>...</td>\n",
       "      <td>...</td>\n",
       "      <td>...</td>\n",
       "    </tr>\n",
       "    <tr>\n",
       "      <th>Vietnam</th>\n",
       "      <td>12.0</td>\n",
       "      <td>1017.712615</td>\n",
       "      <td>567.482251</td>\n",
       "      <td>605.066492</td>\n",
       "      <td>693.697595</td>\n",
       "      <td>742.793140</td>\n",
       "      <td>1088.241554</td>\n",
       "      <td>2441.576404</td>\n",
       "    </tr>\n",
       "    <tr>\n",
       "      <th>West Bank and Gaza</th>\n",
       "      <td>12.0</td>\n",
       "      <td>3759.996781</td>\n",
       "      <td>1716.840614</td>\n",
       "      <td>1515.592329</td>\n",
       "      <td>2537.025333</td>\n",
       "      <td>3408.120386</td>\n",
       "      <td>4663.415027</td>\n",
       "      <td>7110.667619</td>\n",
       "    </tr>\n",
       "    <tr>\n",
       "      <th>Yemen, Rep.</th>\n",
       "      <td>12.0</td>\n",
       "      <td>1569.274672</td>\n",
       "      <td>609.939160</td>\n",
       "      <td>781.717576</td>\n",
       "      <td>853.237410</td>\n",
       "      <td>1854.630925</td>\n",
       "      <td>2012.538889</td>\n",
       "      <td>2280.769906</td>\n",
       "    </tr>\n",
       "    <tr>\n",
       "      <th>Zambia</th>\n",
       "      <td>12.0</td>\n",
       "      <td>1358.199409</td>\n",
       "      <td>247.494984</td>\n",
       "      <td>1071.353818</td>\n",
       "      <td>1195.010682</td>\n",
       "      <td>1291.584180</td>\n",
       "      <td>1486.716399</td>\n",
       "      <td>1777.077318</td>\n",
       "    </tr>\n",
       "    <tr>\n",
       "      <th>Zimbabwe</th>\n",
       "      <td>12.0</td>\n",
       "      <td>635.858042</td>\n",
       "      <td>133.689213</td>\n",
       "      <td>406.884115</td>\n",
       "      <td>525.145203</td>\n",
       "      <td>678.813152</td>\n",
       "      <td>726.831740</td>\n",
       "      <td>799.362176</td>\n",
       "    </tr>\n",
       "  </tbody>\n",
       "</table>\n",
       "<p>142 rows × 8 columns</p>\n",
       "</div>\n",
       "    <div class=\"colab-df-buttons\">\n",
       "\n",
       "  <div class=\"colab-df-container\">\n",
       "    <button class=\"colab-df-convert\" onclick=\"convertToInteractive('df-60aefd13-a1f3-4849-a5c1-af0dc5a068f9')\"\n",
       "            title=\"Convert this dataframe to an interactive table.\"\n",
       "            style=\"display:none;\">\n",
       "\n",
       "  <svg xmlns=\"http://www.w3.org/2000/svg\" height=\"24px\" viewBox=\"0 -960 960 960\">\n",
       "    <path d=\"M120-120v-720h720v720H120Zm60-500h600v-160H180v160Zm220 220h160v-160H400v160Zm0 220h160v-160H400v160ZM180-400h160v-160H180v160Zm440 0h160v-160H620v160ZM180-180h160v-160H180v160Zm440 0h160v-160H620v160Z\"/>\n",
       "  </svg>\n",
       "    </button>\n",
       "\n",
       "  <style>\n",
       "    .colab-df-container {\n",
       "      display:flex;\n",
       "      gap: 12px;\n",
       "    }\n",
       "\n",
       "    .colab-df-convert {\n",
       "      background-color: #E8F0FE;\n",
       "      border: none;\n",
       "      border-radius: 50%;\n",
       "      cursor: pointer;\n",
       "      display: none;\n",
       "      fill: #1967D2;\n",
       "      height: 32px;\n",
       "      padding: 0 0 0 0;\n",
       "      width: 32px;\n",
       "    }\n",
       "\n",
       "    .colab-df-convert:hover {\n",
       "      background-color: #E2EBFA;\n",
       "      box-shadow: 0px 1px 2px rgba(60, 64, 67, 0.3), 0px 1px 3px 1px rgba(60, 64, 67, 0.15);\n",
       "      fill: #174EA6;\n",
       "    }\n",
       "\n",
       "    .colab-df-buttons div {\n",
       "      margin-bottom: 4px;\n",
       "    }\n",
       "\n",
       "    [theme=dark] .colab-df-convert {\n",
       "      background-color: #3B4455;\n",
       "      fill: #D2E3FC;\n",
       "    }\n",
       "\n",
       "    [theme=dark] .colab-df-convert:hover {\n",
       "      background-color: #434B5C;\n",
       "      box-shadow: 0px 1px 3px 1px rgba(0, 0, 0, 0.15);\n",
       "      filter: drop-shadow(0px 1px 2px rgba(0, 0, 0, 0.3));\n",
       "      fill: #FFFFFF;\n",
       "    }\n",
       "  </style>\n",
       "\n",
       "    <script>\n",
       "      const buttonEl =\n",
       "        document.querySelector('#df-60aefd13-a1f3-4849-a5c1-af0dc5a068f9 button.colab-df-convert');\n",
       "      buttonEl.style.display =\n",
       "        google.colab.kernel.accessAllowed ? 'block' : 'none';\n",
       "\n",
       "      async function convertToInteractive(key) {\n",
       "        const element = document.querySelector('#df-60aefd13-a1f3-4849-a5c1-af0dc5a068f9');\n",
       "        const dataTable =\n",
       "          await google.colab.kernel.invokeFunction('convertToInteractive',\n",
       "                                                    [key], {});\n",
       "        if (!dataTable) return;\n",
       "\n",
       "        const docLinkHtml = 'Like what you see? Visit the ' +\n",
       "          '<a target=\"_blank\" href=https://colab.research.google.com/notebooks/data_table.ipynb>data table notebook</a>'\n",
       "          + ' to learn more about interactive tables.';\n",
       "        element.innerHTML = '';\n",
       "        dataTable['output_type'] = 'display_data';\n",
       "        await google.colab.output.renderOutput(dataTable, element);\n",
       "        const docLink = document.createElement('div');\n",
       "        docLink.innerHTML = docLinkHtml;\n",
       "        element.appendChild(docLink);\n",
       "      }\n",
       "    </script>\n",
       "  </div>\n",
       "\n",
       "\n",
       "<div id=\"df-e13a1123-a413-4068-9e0d-62787dd1c160\">\n",
       "  <button class=\"colab-df-quickchart\" onclick=\"quickchart('df-e13a1123-a413-4068-9e0d-62787dd1c160')\"\n",
       "            title=\"Suggest charts\"\n",
       "            style=\"display:none;\">\n",
       "\n",
       "<svg xmlns=\"http://www.w3.org/2000/svg\" height=\"24px\"viewBox=\"0 0 24 24\"\n",
       "     width=\"24px\">\n",
       "    <g>\n",
       "        <path d=\"M19 3H5c-1.1 0-2 .9-2 2v14c0 1.1.9 2 2 2h14c1.1 0 2-.9 2-2V5c0-1.1-.9-2-2-2zM9 17H7v-7h2v7zm4 0h-2V7h2v10zm4 0h-2v-4h2v4z\"/>\n",
       "    </g>\n",
       "</svg>\n",
       "  </button>\n",
       "\n",
       "<style>\n",
       "  .colab-df-quickchart {\n",
       "      --bg-color: #E8F0FE;\n",
       "      --fill-color: #1967D2;\n",
       "      --hover-bg-color: #E2EBFA;\n",
       "      --hover-fill-color: #174EA6;\n",
       "      --disabled-fill-color: #AAA;\n",
       "      --disabled-bg-color: #DDD;\n",
       "  }\n",
       "\n",
       "  [theme=dark] .colab-df-quickchart {\n",
       "      --bg-color: #3B4455;\n",
       "      --fill-color: #D2E3FC;\n",
       "      --hover-bg-color: #434B5C;\n",
       "      --hover-fill-color: #FFFFFF;\n",
       "      --disabled-bg-color: #3B4455;\n",
       "      --disabled-fill-color: #666;\n",
       "  }\n",
       "\n",
       "  .colab-df-quickchart {\n",
       "    background-color: var(--bg-color);\n",
       "    border: none;\n",
       "    border-radius: 50%;\n",
       "    cursor: pointer;\n",
       "    display: none;\n",
       "    fill: var(--fill-color);\n",
       "    height: 32px;\n",
       "    padding: 0;\n",
       "    width: 32px;\n",
       "  }\n",
       "\n",
       "  .colab-df-quickchart:hover {\n",
       "    background-color: var(--hover-bg-color);\n",
       "    box-shadow: 0 1px 2px rgba(60, 64, 67, 0.3), 0 1px 3px 1px rgba(60, 64, 67, 0.15);\n",
       "    fill: var(--button-hover-fill-color);\n",
       "  }\n",
       "\n",
       "  .colab-df-quickchart-complete:disabled,\n",
       "  .colab-df-quickchart-complete:disabled:hover {\n",
       "    background-color: var(--disabled-bg-color);\n",
       "    fill: var(--disabled-fill-color);\n",
       "    box-shadow: none;\n",
       "  }\n",
       "\n",
       "  .colab-df-spinner {\n",
       "    border: 2px solid var(--fill-color);\n",
       "    border-color: transparent;\n",
       "    border-bottom-color: var(--fill-color);\n",
       "    animation:\n",
       "      spin 1s steps(1) infinite;\n",
       "  }\n",
       "\n",
       "  @keyframes spin {\n",
       "    0% {\n",
       "      border-color: transparent;\n",
       "      border-bottom-color: var(--fill-color);\n",
       "      border-left-color: var(--fill-color);\n",
       "    }\n",
       "    20% {\n",
       "      border-color: transparent;\n",
       "      border-left-color: var(--fill-color);\n",
       "      border-top-color: var(--fill-color);\n",
       "    }\n",
       "    30% {\n",
       "      border-color: transparent;\n",
       "      border-left-color: var(--fill-color);\n",
       "      border-top-color: var(--fill-color);\n",
       "      border-right-color: var(--fill-color);\n",
       "    }\n",
       "    40% {\n",
       "      border-color: transparent;\n",
       "      border-right-color: var(--fill-color);\n",
       "      border-top-color: var(--fill-color);\n",
       "    }\n",
       "    60% {\n",
       "      border-color: transparent;\n",
       "      border-right-color: var(--fill-color);\n",
       "    }\n",
       "    80% {\n",
       "      border-color: transparent;\n",
       "      border-right-color: var(--fill-color);\n",
       "      border-bottom-color: var(--fill-color);\n",
       "    }\n",
       "    90% {\n",
       "      border-color: transparent;\n",
       "      border-bottom-color: var(--fill-color);\n",
       "    }\n",
       "  }\n",
       "</style>\n",
       "\n",
       "  <script>\n",
       "    async function quickchart(key) {\n",
       "      const quickchartButtonEl =\n",
       "        document.querySelector('#' + key + ' button');\n",
       "      quickchartButtonEl.disabled = true;  // To prevent multiple clicks.\n",
       "      quickchartButtonEl.classList.add('colab-df-spinner');\n",
       "      try {\n",
       "        const charts = await google.colab.kernel.invokeFunction(\n",
       "            'suggestCharts', [key], {});\n",
       "      } catch (error) {\n",
       "        console.error('Error during call to suggestCharts:', error);\n",
       "      }\n",
       "      quickchartButtonEl.classList.remove('colab-df-spinner');\n",
       "      quickchartButtonEl.classList.add('colab-df-quickchart-complete');\n",
       "    }\n",
       "    (() => {\n",
       "      let quickchartButtonEl =\n",
       "        document.querySelector('#df-e13a1123-a413-4068-9e0d-62787dd1c160 button');\n",
       "      quickchartButtonEl.style.display =\n",
       "        google.colab.kernel.accessAllowed ? 'block' : 'none';\n",
       "    })();\n",
       "  </script>\n",
       "</div>\n",
       "\n",
       "    </div>\n",
       "  </div>\n"
      ],
      "text/plain": [
       "                    count         mean          std          min          25%  \\\n",
       "country                                                                         \n",
       "Afghanistan          12.0   802.674598   108.202929   635.341351   736.669343   \n",
       "Albania              12.0  3255.366633  1192.351513  1601.056136  2451.300665   \n",
       "Algeria              12.0  4426.025973  1310.337656  2449.008185  3188.737834   \n",
       "Angola               12.0  3607.100529  1165.900251  2277.140884  2724.676675   \n",
       "Argentina            12.0  8955.553783  1862.583151  5911.315053  7823.006272   \n",
       "...                   ...          ...          ...          ...          ...   \n",
       "Vietnam              12.0  1017.712615   567.482251   605.066492   693.697595   \n",
       "West Bank and Gaza   12.0  3759.996781  1716.840614  1515.592329  2537.025333   \n",
       "Yemen, Rep.          12.0  1569.274672   609.939160   781.717576   853.237410   \n",
       "Zambia               12.0  1358.199409   247.494984  1071.353818  1195.010682   \n",
       "Zimbabwe             12.0   635.858042   133.689213   406.884115   525.145203   \n",
       "\n",
       "                            50%          75%           max  \n",
       "country                                                     \n",
       "Afghanistan          803.483195   852.572136    978.011439  \n",
       "Albania             3253.238396  3657.893725   5937.029526  \n",
       "Algeria             4853.855903  5386.369921   6223.367465  \n",
       "Angola              3264.628814  4401.265373   5522.776375  \n",
       "Argentina           9068.784401  9602.035579  12779.379640  \n",
       "...                         ...          ...           ...  \n",
       "Vietnam              742.793140  1088.241554   2441.576404  \n",
       "West Bank and Gaza  3408.120386  4663.415027   7110.667619  \n",
       "Yemen, Rep.         1854.630925  2012.538889   2280.769906  \n",
       "Zambia              1291.584180  1486.716399   1777.077318  \n",
       "Zimbabwe             678.813152   726.831740    799.362176  \n",
       "\n",
       "[142 rows x 8 columns]"
      ]
     },
     "execution_count": 5,
     "metadata": {},
     "output_type": "execute_result"
    }
   ],
   "source": [
    "df.groupby(\"country\")['gdpPercap'].describe()"
   ]
  },
  {
   "cell_type": "code",
   "execution_count": 7,
   "metadata": {
    "colab": {
     "base_uri": "https://localhost:8080/"
    },
    "id": "0yn5qM7tf3NE",
    "outputId": "1ee70f08-89bb-40dc-d881-e2cd30a83629"
   },
   "outputs": [
    {
     "data": {
      "text/plain": [
       "year\n",
       "1952    49.057620\n",
       "1957    51.507401\n",
       "1962    53.609249\n",
       "1967    55.678290\n",
       "1972    57.647386\n",
       "1977    59.570157\n",
       "1982    61.533197\n",
       "1987    63.212613\n",
       "1992    64.160338\n",
       "1997    65.014676\n",
       "2002    65.694923\n",
       "2007    67.007423\n",
       "Name: lifeExp, dtype: float64"
      ]
     },
     "execution_count": 7,
     "metadata": {},
     "output_type": "execute_result"
    }
   ],
   "source": [
    "a = df.groupby(\"year\")['lifeExp'].mean()\n",
    "a"
   ]
  },
  {
   "cell_type": "code",
   "execution_count": 8,
   "metadata": {
    "colab": {
     "base_uri": "https://localhost:8080/",
     "height": 467
    },
    "id": "y8pCPfcnf6gx",
    "outputId": "c28ce6d3-fa9c-400c-e5e3-db3d3f03ab48"
   },
   "outputs": [
    {
     "data": {
      "text/plain": [
       "<Axes: xlabel='year'>"
      ]
     },
     "execution_count": 8,
     "metadata": {},
     "output_type": "execute_result"
    },
    {
     "data": {
      "image/png": "[encoded data removed]",
      "text/plain": [
       "<Figure size 640x480 with 1 Axes>"
      ]
     },
     "metadata": {},
     "output_type": "display_data"
    }
   ],
   "source": [
    "a.plot()"
   ]
  },
  {
   "cell_type": "code",
   "execution_count": 6,
   "metadata": {
    "colab": {
     "base_uri": "https://localhost:8080/"
    },
    "id": "WBedaVjtfyFY",
    "outputId": "4a6b7104-7e92-45f6-c89e-8762de70a9ae"
   },
   "outputs": [
    {
     "data": {
      "text/plain": [
       "continent  year\n",
       "Africa     1952    39.135500\n",
       "           1957    41.266346\n",
       "           1962    43.319442\n",
       "           1967    45.334538\n",
       "           1972    47.450942\n",
       "           1977    49.580423\n",
       "           1982    51.592865\n",
       "           1987    53.344788\n",
       "           1992    53.629577\n",
       "           1997    53.598269\n",
       "           2002    53.325231\n",
       "           2007    54.806038\n",
       "Americas   1952    53.279840\n",
       "           1957    55.960280\n",
       "           1962    58.398760\n",
       "           1967    60.410920\n",
       "           1972    62.394920\n",
       "           1977    64.391560\n",
       "           1982    66.228840\n",
       "           1987    68.090720\n",
       "           1992    69.568360\n",
       "           1997    71.150480\n",
       "           2002    72.422040\n",
       "           2007    73.608120\n",
       "Asia       1952    46.314394\n",
       "           1957    49.318544\n",
       "           1962    51.563223\n",
       "           1967    54.663640\n",
       "           1972    57.319269\n",
       "           1977    59.610556\n",
       "           1982    62.617939\n",
       "           1987    64.851182\n",
       "           1992    66.537212\n",
       "           1997    68.020515\n",
       "           2002    69.233879\n",
       "           2007    70.728485\n",
       "Europe     1952    64.408500\n",
       "           1957    66.703067\n",
       "           1962    68.539233\n",
       "           1967    69.737600\n",
       "           1972    70.775033\n",
       "           1977    71.937767\n",
       "           1982    72.806400\n",
       "           1987    73.642167\n",
       "           1992    74.440100\n",
       "           1997    75.505167\n",
       "           2002    76.700600\n",
       "           2007    77.648600\n",
       "Oceania    1952    69.255000\n",
       "           1957    70.295000\n",
       "           1962    71.085000\n",
       "           1967    71.310000\n",
       "           1972    71.910000\n",
       "           1977    72.855000\n",
       "           1982    74.290000\n",
       "           1987    75.320000\n",
       "           1992    76.945000\n",
       "           1997    78.190000\n",
       "           2002    79.740000\n",
       "           2007    80.719500\n",
       "Name: lifeExp, dtype: float64"
      ]
     },
     "execution_count": 6,
     "metadata": {},
     "output_type": "execute_result"
    }
   ],
   "source": [
    "df.groupby(['continent', 'year'])['lifeExp'].mean()"
   ]
  },
  {
   "cell_type": "markdown",
   "metadata": {
    "id": "NzEMqVr4fVRm"
   },
   "source": [
    "### 2. agg 함수\n",
    "Pandas의 agg 함수는 집계(aggregation)를 위해 사용되며, 매우 유연하고 강력한 기능을 제공합니다. agg 함수는 하나 이상의 집계 연산을 데이터에 적용할 수 있게 하며, 이를 통해 데이터의 요약 통계를 쉽게 얻을 수 있습니다. groupby와 함께 사용될 때 특히 유용하며, 다양한 방식으로 집계를 커스텀할 수 있습니다."
   ]
  },
  {
   "cell_type": "code",
   "execution_count": 31,
   "metadata": {
    "id": "wBagjcnVdLeE"
   },
   "outputs": [
    {
     "data": {
      "text/html": [
       "<div>\n",
       "<style scoped>\n",
       "    .dataframe tbody tr th:only-of-type {\n",
       "        vertical-align: middle;\n",
       "    }\n",
       "\n",
       "    .dataframe tbody tr th {\n",
       "        vertical-align: top;\n",
       "    }\n",
       "\n",
       "    .dataframe thead tr th {\n",
       "        text-align: left;\n",
       "    }\n",
       "\n",
       "    .dataframe thead tr:last-of-type th {\n",
       "        text-align: right;\n",
       "    }\n",
       "</style>\n",
       "<table border=\"1\" class=\"dataframe\">\n",
       "  <thead>\n",
       "    <tr>\n",
       "      <th></th>\n",
       "      <th>lifeExp</th>\n",
       "      <th>pop</th>\n",
       "      <th colspan=\"2\" halign=\"left\">gdpPercap</th>\n",
       "    </tr>\n",
       "    <tr>\n",
       "      <th></th>\n",
       "      <th>mean</th>\n",
       "      <th>max</th>\n",
       "      <th>mean</th>\n",
       "      <th>median</th>\n",
       "    </tr>\n",
       "    <tr>\n",
       "      <th>year</th>\n",
       "      <th></th>\n",
       "      <th></th>\n",
       "      <th></th>\n",
       "      <th></th>\n",
       "    </tr>\n",
       "  </thead>\n",
       "  <tbody>\n",
       "    <tr>\n",
       "      <th>1952</th>\n",
       "      <td>49.057620</td>\n",
       "      <td>556263527</td>\n",
       "      <td>3725.276046</td>\n",
       "      <td>1968.528344</td>\n",
       "    </tr>\n",
       "    <tr>\n",
       "      <th>1957</th>\n",
       "      <td>51.507401</td>\n",
       "      <td>637408000</td>\n",
       "      <td>4299.408345</td>\n",
       "      <td>2173.220291</td>\n",
       "    </tr>\n",
       "    <tr>\n",
       "      <th>1962</th>\n",
       "      <td>53.609249</td>\n",
       "      <td>665770000</td>\n",
       "      <td>4725.812342</td>\n",
       "      <td>2335.439533</td>\n",
       "    </tr>\n",
       "    <tr>\n",
       "      <th>1967</th>\n",
       "      <td>55.678290</td>\n",
       "      <td>754550000</td>\n",
       "      <td>5483.653047</td>\n",
       "      <td>2678.334740</td>\n",
       "    </tr>\n",
       "    <tr>\n",
       "      <th>1972</th>\n",
       "      <td>57.647386</td>\n",
       "      <td>862030000</td>\n",
       "      <td>6770.082815</td>\n",
       "      <td>3339.129407</td>\n",
       "    </tr>\n",
       "    <tr>\n",
       "      <th>1977</th>\n",
       "      <td>59.570157</td>\n",
       "      <td>943455000</td>\n",
       "      <td>7313.166421</td>\n",
       "      <td>3798.609244</td>\n",
       "    </tr>\n",
       "    <tr>\n",
       "      <th>1982</th>\n",
       "      <td>61.533197</td>\n",
       "      <td>1000281000</td>\n",
       "      <td>7518.901673</td>\n",
       "      <td>4216.228428</td>\n",
       "    </tr>\n",
       "    <tr>\n",
       "      <th>1987</th>\n",
       "      <td>63.212613</td>\n",
       "      <td>1084035000</td>\n",
       "      <td>7900.920218</td>\n",
       "      <td>4280.300366</td>\n",
       "    </tr>\n",
       "    <tr>\n",
       "      <th>1992</th>\n",
       "      <td>64.160338</td>\n",
       "      <td>1164970000</td>\n",
       "      <td>8158.608521</td>\n",
       "      <td>4386.085502</td>\n",
       "    </tr>\n",
       "    <tr>\n",
       "      <th>1997</th>\n",
       "      <td>65.014676</td>\n",
       "      <td>1230075000</td>\n",
       "      <td>9090.175363</td>\n",
       "      <td>4781.825478</td>\n",
       "    </tr>\n",
       "    <tr>\n",
       "      <th>2002</th>\n",
       "      <td>65.694923</td>\n",
       "      <td>1280400000</td>\n",
       "      <td>9917.848365</td>\n",
       "      <td>5319.804524</td>\n",
       "    </tr>\n",
       "    <tr>\n",
       "      <th>2007</th>\n",
       "      <td>67.007423</td>\n",
       "      <td>1318683096</td>\n",
       "      <td>11680.071820</td>\n",
       "      <td>6124.371108</td>\n",
       "    </tr>\n",
       "  </tbody>\n",
       "</table>\n",
       "</div>"
      ],
      "text/plain": [
       "        lifeExp         pop     gdpPercap             \n",
       "           mean         max          mean       median\n",
       "year                                                  \n",
       "1952  49.057620   556263527   3725.276046  1968.528344\n",
       "1957  51.507401   637408000   4299.408345  2173.220291\n",
       "1962  53.609249   665770000   4725.812342  2335.439533\n",
       "1967  55.678290   754550000   5483.653047  2678.334740\n",
       "1972  57.647386   862030000   6770.082815  3339.129407\n",
       "1977  59.570157   943455000   7313.166421  3798.609244\n",
       "1982  61.533197  1000281000   7518.901673  4216.228428\n",
       "1987  63.212613  1084035000   7900.920218  4280.300366\n",
       "1992  64.160338  1164970000   8158.608521  4386.085502\n",
       "1997  65.014676  1230075000   9090.175363  4781.825478\n",
       "2002  65.694923  1280400000   9917.848365  5319.804524\n",
       "2007  67.007423  1318683096  11680.071820  6124.371108"
      ]
     },
     "execution_count": 31,
     "metadata": {},
     "output_type": "execute_result"
    }
   ],
   "source": [
    "# 연도별 기대수명 평균값 & 인구수 최댓값 & GAP(평균, 중앙값)\n",
    "df.groupby(\"year\").agg({\n",
    "    \"lifeExp\" : \"mean\",\n",
    "    \"pop\" : \"max\",\n",
    "    \"gdpPercap\" : ['mean', 'median']\n",
    "})"
   ]
  },
  {
   "cell_type": "code",
   "execution_count": 40,
   "metadata": {},
   "outputs": [
    {
     "data": {
      "text/html": [
       "<div>\n",
       "<style scoped>\n",
       "    .dataframe tbody tr th:only-of-type {\n",
       "        vertical-align: middle;\n",
       "    }\n",
       "\n",
       "    .dataframe tbody tr th {\n",
       "        vertical-align: top;\n",
       "    }\n",
       "\n",
       "    .dataframe thead tr th {\n",
       "        text-align: left;\n",
       "    }\n",
       "\n",
       "    .dataframe thead tr:last-of-type th {\n",
       "        text-align: right;\n",
       "    }\n",
       "</style>\n",
       "<table border=\"1\" class=\"dataframe\">\n",
       "  <thead>\n",
       "    <tr>\n",
       "      <th></th>\n",
       "      <th colspan=\"2\" halign=\"left\">lifeExp</th>\n",
       "      <th colspan=\"2\" halign=\"left\">pop</th>\n",
       "      <th colspan=\"2\" halign=\"left\">gdpPercap</th>\n",
       "    </tr>\n",
       "    <tr>\n",
       "      <th></th>\n",
       "      <th>mean</th>\n",
       "      <th>median</th>\n",
       "      <th>mean</th>\n",
       "      <th>median</th>\n",
       "      <th>mean</th>\n",
       "      <th>median</th>\n",
       "    </tr>\n",
       "    <tr>\n",
       "      <th>year</th>\n",
       "      <th></th>\n",
       "      <th></th>\n",
       "      <th></th>\n",
       "      <th></th>\n",
       "      <th></th>\n",
       "      <th></th>\n",
       "    </tr>\n",
       "  </thead>\n",
       "  <tbody>\n",
       "    <tr>\n",
       "      <th>1952</th>\n",
       "      <td>49.057620</td>\n",
       "      <td>45.1355</td>\n",
       "      <td>1.695040e+07</td>\n",
       "      <td>3943953.0</td>\n",
       "      <td>3725.276046</td>\n",
       "      <td>1968.528344</td>\n",
       "    </tr>\n",
       "    <tr>\n",
       "      <th>1957</th>\n",
       "      <td>51.507401</td>\n",
       "      <td>48.3605</td>\n",
       "      <td>1.876341e+07</td>\n",
       "      <td>4282942.0</td>\n",
       "      <td>4299.408345</td>\n",
       "      <td>2173.220291</td>\n",
       "    </tr>\n",
       "    <tr>\n",
       "      <th>1962</th>\n",
       "      <td>53.609249</td>\n",
       "      <td>50.8810</td>\n",
       "      <td>2.042101e+07</td>\n",
       "      <td>4686039.5</td>\n",
       "      <td>4725.812342</td>\n",
       "      <td>2335.439533</td>\n",
       "    </tr>\n",
       "    <tr>\n",
       "      <th>1967</th>\n",
       "      <td>55.678290</td>\n",
       "      <td>53.8250</td>\n",
       "      <td>2.265830e+07</td>\n",
       "      <td>5170175.5</td>\n",
       "      <td>5483.653047</td>\n",
       "      <td>2678.334740</td>\n",
       "    </tr>\n",
       "    <tr>\n",
       "      <th>1972</th>\n",
       "      <td>57.647386</td>\n",
       "      <td>56.5300</td>\n",
       "      <td>2.518998e+07</td>\n",
       "      <td>5877996.5</td>\n",
       "      <td>6770.082815</td>\n",
       "      <td>3339.129407</td>\n",
       "    </tr>\n",
       "    <tr>\n",
       "      <th>1977</th>\n",
       "      <td>59.570157</td>\n",
       "      <td>59.6720</td>\n",
       "      <td>2.767638e+07</td>\n",
       "      <td>6404036.5</td>\n",
       "      <td>7313.166421</td>\n",
       "      <td>3798.609244</td>\n",
       "    </tr>\n",
       "    <tr>\n",
       "      <th>1982</th>\n",
       "      <td>61.533197</td>\n",
       "      <td>62.4415</td>\n",
       "      <td>3.020730e+07</td>\n",
       "      <td>7007320.0</td>\n",
       "      <td>7518.901673</td>\n",
       "      <td>4216.228428</td>\n",
       "    </tr>\n",
       "    <tr>\n",
       "      <th>1987</th>\n",
       "      <td>63.212613</td>\n",
       "      <td>65.8340</td>\n",
       "      <td>3.303857e+07</td>\n",
       "      <td>7774861.5</td>\n",
       "      <td>7900.920218</td>\n",
       "      <td>4280.300366</td>\n",
       "    </tr>\n",
       "    <tr>\n",
       "      <th>1992</th>\n",
       "      <td>64.160338</td>\n",
       "      <td>67.7030</td>\n",
       "      <td>3.599092e+07</td>\n",
       "      <td>8688686.5</td>\n",
       "      <td>8158.608521</td>\n",
       "      <td>4386.085502</td>\n",
       "    </tr>\n",
       "    <tr>\n",
       "      <th>1997</th>\n",
       "      <td>65.014676</td>\n",
       "      <td>69.3940</td>\n",
       "      <td>3.883947e+07</td>\n",
       "      <td>9735063.5</td>\n",
       "      <td>9090.175363</td>\n",
       "      <td>4781.825478</td>\n",
       "    </tr>\n",
       "    <tr>\n",
       "      <th>2002</th>\n",
       "      <td>65.694923</td>\n",
       "      <td>70.8255</td>\n",
       "      <td>4.145759e+07</td>\n",
       "      <td>10372918.5</td>\n",
       "      <td>9917.848365</td>\n",
       "      <td>5319.804524</td>\n",
       "    </tr>\n",
       "    <tr>\n",
       "      <th>2007</th>\n",
       "      <td>67.007423</td>\n",
       "      <td>71.9355</td>\n",
       "      <td>4.402122e+07</td>\n",
       "      <td>10517531.0</td>\n",
       "      <td>11680.071820</td>\n",
       "      <td>6124.371108</td>\n",
       "    </tr>\n",
       "  </tbody>\n",
       "</table>\n",
       "</div>"
      ],
      "text/plain": [
       "        lifeExp                    pop                 gdpPercap             \n",
       "           mean   median          mean      median          mean       median\n",
       "year                                                                         \n",
       "1952  49.057620  45.1355  1.695040e+07   3943953.0   3725.276046  1968.528344\n",
       "1957  51.507401  48.3605  1.876341e+07   4282942.0   4299.408345  2173.220291\n",
       "1962  53.609249  50.8810  2.042101e+07   4686039.5   4725.812342  2335.439533\n",
       "1967  55.678290  53.8250  2.265830e+07   5170175.5   5483.653047  2678.334740\n",
       "1972  57.647386  56.5300  2.518998e+07   5877996.5   6770.082815  3339.129407\n",
       "1977  59.570157  59.6720  2.767638e+07   6404036.5   7313.166421  3798.609244\n",
       "1982  61.533197  62.4415  3.020730e+07   7007320.0   7518.901673  4216.228428\n",
       "1987  63.212613  65.8340  3.303857e+07   7774861.5   7900.920218  4280.300366\n",
       "1992  64.160338  67.7030  3.599092e+07   8688686.5   8158.608521  4386.085502\n",
       "1997  65.014676  69.3940  3.883947e+07   9735063.5   9090.175363  4781.825478\n",
       "2002  65.694923  70.8255  4.145759e+07  10372918.5   9917.848365  5319.804524\n",
       "2007  67.007423  71.9355  4.402122e+07  10517531.0  11680.071820  6124.371108"
      ]
     },
     "execution_count": 40,
     "metadata": {},
     "output_type": "execute_result"
    }
   ],
   "source": [
    "df.groupby(\"year\")[['lifeExp','pop','gdpPercap']] \\\n",
    "    .agg(['mean', 'median'])"
   ]
  },
  {
   "cell_type": "code",
   "execution_count": null,
   "metadata": {},
   "outputs": [],
   "source": []
  },
  {
   "cell_type": "markdown",
   "metadata": {
    "id": "uZx-_CyCfcgl"
   },
   "source": [
    "### 3. filter 함수\n",
    "Pandas의 filter 함수는 DataFrame이나 Series에서 특정 조건을 만족하는 데이터를 선택하기 위해 사용됩니다. 하지만 groupby 객체와 함께 사용될 때, filter는 그룹화된 데이터에 대해 조건에 따라 필터링을 수행하고, 특정 기준을 만족하는 그룹만을 반환합니다. 이 방식은 특정 조건에 따라 전체 데이터 세트에서 일부 그룹을 제외시키고자 할 때 유용합니다."
   ]
  },
  {
   "cell_type": "code",
   "execution_count": 46,
   "metadata": {
    "colab": {
     "base_uri": "https://localhost:8080/",
     "height": 424
    },
    "id": "nNV8KjC-fo56",
    "outputId": "9aaedb01-3015-4086-daec-5759d31aa096"
   },
   "outputs": [
    {
     "data": {
      "text/html": [
       "<div>\n",
       "<style scoped>\n",
       "    .dataframe tbody tr th:only-of-type {\n",
       "        vertical-align: middle;\n",
       "    }\n",
       "\n",
       "    .dataframe tbody tr th {\n",
       "        vertical-align: top;\n",
       "    }\n",
       "\n",
       "    .dataframe thead th {\n",
       "        text-align: right;\n",
       "    }\n",
       "</style>\n",
       "<table border=\"1\" class=\"dataframe\">\n",
       "  <thead>\n",
       "    <tr style=\"text-align: right;\">\n",
       "      <th></th>\n",
       "      <th>country</th>\n",
       "      <th>continent</th>\n",
       "      <th>year</th>\n",
       "      <th>lifeExp</th>\n",
       "      <th>pop</th>\n",
       "      <th>gdpPercap</th>\n",
       "    </tr>\n",
       "  </thead>\n",
       "  <tbody>\n",
       "    <tr>\n",
       "      <th>12</th>\n",
       "      <td>Albania</td>\n",
       "      <td>Europe</td>\n",
       "      <td>1952</td>\n",
       "      <td>55.230</td>\n",
       "      <td>1282697</td>\n",
       "      <td>1601.056136</td>\n",
       "    </tr>\n",
       "    <tr>\n",
       "      <th>13</th>\n",
       "      <td>Albania</td>\n",
       "      <td>Europe</td>\n",
       "      <td>1957</td>\n",
       "      <td>59.280</td>\n",
       "      <td>1476505</td>\n",
       "      <td>1942.284244</td>\n",
       "    </tr>\n",
       "    <tr>\n",
       "      <th>14</th>\n",
       "      <td>Albania</td>\n",
       "      <td>Europe</td>\n",
       "      <td>1962</td>\n",
       "      <td>64.820</td>\n",
       "      <td>1728137</td>\n",
       "      <td>2312.888958</td>\n",
       "    </tr>\n",
       "    <tr>\n",
       "      <th>15</th>\n",
       "      <td>Albania</td>\n",
       "      <td>Europe</td>\n",
       "      <td>1967</td>\n",
       "      <td>66.220</td>\n",
       "      <td>1984060</td>\n",
       "      <td>2760.196931</td>\n",
       "    </tr>\n",
       "    <tr>\n",
       "      <th>16</th>\n",
       "      <td>Albania</td>\n",
       "      <td>Europe</td>\n",
       "      <td>1972</td>\n",
       "      <td>67.690</td>\n",
       "      <td>2263554</td>\n",
       "      <td>3313.422188</td>\n",
       "    </tr>\n",
       "    <tr>\n",
       "      <th>...</th>\n",
       "      <td>...</td>\n",
       "      <td>...</td>\n",
       "      <td>...</td>\n",
       "      <td>...</td>\n",
       "      <td>...</td>\n",
       "      <td>...</td>\n",
       "    </tr>\n",
       "    <tr>\n",
       "      <th>1603</th>\n",
       "      <td>United Kingdom</td>\n",
       "      <td>Europe</td>\n",
       "      <td>1987</td>\n",
       "      <td>75.007</td>\n",
       "      <td>56981620</td>\n",
       "      <td>21664.787670</td>\n",
       "    </tr>\n",
       "    <tr>\n",
       "      <th>1604</th>\n",
       "      <td>United Kingdom</td>\n",
       "      <td>Europe</td>\n",
       "      <td>1992</td>\n",
       "      <td>76.420</td>\n",
       "      <td>57866349</td>\n",
       "      <td>22705.092540</td>\n",
       "    </tr>\n",
       "    <tr>\n",
       "      <th>1605</th>\n",
       "      <td>United Kingdom</td>\n",
       "      <td>Europe</td>\n",
       "      <td>1997</td>\n",
       "      <td>77.218</td>\n",
       "      <td>58808266</td>\n",
       "      <td>26074.531360</td>\n",
       "    </tr>\n",
       "    <tr>\n",
       "      <th>1606</th>\n",
       "      <td>United Kingdom</td>\n",
       "      <td>Europe</td>\n",
       "      <td>2002</td>\n",
       "      <td>78.471</td>\n",
       "      <td>59912431</td>\n",
       "      <td>29478.999190</td>\n",
       "    </tr>\n",
       "    <tr>\n",
       "      <th>1607</th>\n",
       "      <td>United Kingdom</td>\n",
       "      <td>Europe</td>\n",
       "      <td>2007</td>\n",
       "      <td>79.425</td>\n",
       "      <td>60776238</td>\n",
       "      <td>33203.261280</td>\n",
       "    </tr>\n",
       "  </tbody>\n",
       "</table>\n",
       "<p>384 rows × 6 columns</p>\n",
       "</div>"
      ],
      "text/plain": [
       "             country continent  year  lifeExp       pop     gdpPercap\n",
       "12           Albania    Europe  1952   55.230   1282697   1601.056136\n",
       "13           Albania    Europe  1957   59.280   1476505   1942.284244\n",
       "14           Albania    Europe  1962   64.820   1728137   2312.888958\n",
       "15           Albania    Europe  1967   66.220   1984060   2760.196931\n",
       "16           Albania    Europe  1972   67.690   2263554   3313.422188\n",
       "...              ...       ...   ...      ...       ...           ...\n",
       "1603  United Kingdom    Europe  1987   75.007  56981620  21664.787670\n",
       "1604  United Kingdom    Europe  1992   76.420  57866349  22705.092540\n",
       "1605  United Kingdom    Europe  1997   77.218  58808266  26074.531360\n",
       "1606  United Kingdom    Europe  2002   78.471  59912431  29478.999190\n",
       "1607  United Kingdom    Europe  2007   79.425  60776238  33203.261280\n",
       "\n",
       "[384 rows x 6 columns]"
      ]
     },
     "execution_count": 46,
     "metadata": {},
     "output_type": "execute_result"
    }
   ],
   "source": [
    "# 기대수명의 평균이 70 이상인 대륙만 필터링\n",
    "df.groupby(\"continent\")\\\n",
    "    .filter(lambda x : x['lifeExp'].mean() > 70)"
   ]
  },
  {
   "cell_type": "markdown",
   "metadata": {
    "id": "M585vOTPhqUm"
   },
   "source": [
    "### 4. transform 함수\n",
    "Pandas의 transform 함수는 데이터프레임이나 시리즈의 각 요소에 함수를 적용하고, 그 결과를 같은 형태로 반환하는데 사용됩니다. transform은 특히 groupby 객체와 함께 사용될 때 유용하며, 각 그룹에 대해 데이터 변환을 수행한 후 원본 배열과 같은 크기의 결과를 반환합니다. 이는 그룹별로 요약된 값을 각 데이터 포인트에 적용해야 할 때 매우 편리합니다."
   ]
  },
  {
   "cell_type": "code",
   "execution_count": 45,
   "metadata": {
    "colab": {
     "base_uri": "https://localhost:8080/"
    },
    "id": "I4co233MhKvi",
    "outputId": "31b9db3b-e402-4998-fb13-7f5106e0cb50"
   },
   "outputs": [
    {
     "data": {
      "text/plain": [
       "0       53.802\n",
       "1       53.802\n",
       "2       53.802\n",
       "3       53.802\n",
       "4       53.802\n",
       "         ...  \n",
       "1699    52.843\n",
       "1700    52.843\n",
       "1701    52.843\n",
       "1702    52.843\n",
       "1703    52.843\n",
       "Name: lifeExp, Length: 1704, dtype: float64"
      ]
     },
     "execution_count": 45,
     "metadata": {},
     "output_type": "execute_result"
    }
   ],
   "source": [
    "def scaler(x):\n",
    "    return (x - x.mean()) / x.std()\n",
    "\n",
    "def test(x):\n",
    "    return x.max() - x.min()\n",
    "\n",
    "# 대륙별로 기대수명의 최댓값과 최소값을 뺀 범위\n",
    "df.groupby(\"continent\")['lifeExp'].transform(test)"
   ]
  },
  {
   "cell_type": "markdown",
   "metadata": {
    "id": "GcXngNNlmEWd"
   },
   "source": [
    "### 5. idxmax 함수\n",
    "idxmax() 함수는 Pandas의 Series나 DataFrame 객체에서 값이 최대인 항목의 인덱스를 반환합니다. 이 함수는 수치 데이터를 다룰 때 유용하며, 최댓값을 가지는 요소의 위치를 찾고자 할 때 사용됩니다. idxmax()는 기본적으로 열 방향(axis=0)으로 동작하며, 행 방향(axis=1)으로의 작동도 가능합니다. 반대인 idxmin() 함수도 있습니다."
   ]
  },
  {
   "cell_type": "code",
   "execution_count": 4,
   "metadata": {
    "id": "LuGfNnIWmDUc"
   },
   "outputs": [
    {
     "data": {
      "text/html": [
       "<div>\n",
       "<style scoped>\n",
       "    .dataframe tbody tr th:only-of-type {\n",
       "        vertical-align: middle;\n",
       "    }\n",
       "\n",
       "    .dataframe tbody tr th {\n",
       "        vertical-align: top;\n",
       "    }\n",
       "\n",
       "    .dataframe thead th {\n",
       "        text-align: right;\n",
       "    }\n",
       "</style>\n",
       "<table border=\"1\" class=\"dataframe\">\n",
       "  <thead>\n",
       "    <tr style=\"text-align: right;\">\n",
       "      <th></th>\n",
       "      <th>country</th>\n",
       "      <th>continent</th>\n",
       "      <th>year</th>\n",
       "      <th>lifeExp</th>\n",
       "      <th>pop</th>\n",
       "      <th>gdpPercap</th>\n",
       "    </tr>\n",
       "  </thead>\n",
       "  <tbody>\n",
       "    <tr>\n",
       "      <th>1140</th>\n",
       "      <td>Norway</td>\n",
       "      <td>Europe</td>\n",
       "      <td>1952</td>\n",
       "      <td>72.670</td>\n",
       "      <td>3327728</td>\n",
       "      <td>10095.421720</td>\n",
       "    </tr>\n",
       "    <tr>\n",
       "      <th>685</th>\n",
       "      <td>Iceland</td>\n",
       "      <td>Europe</td>\n",
       "      <td>1957</td>\n",
       "      <td>73.470</td>\n",
       "      <td>165110</td>\n",
       "      <td>9244.001412</td>\n",
       "    </tr>\n",
       "    <tr>\n",
       "      <th>686</th>\n",
       "      <td>Iceland</td>\n",
       "      <td>Europe</td>\n",
       "      <td>1962</td>\n",
       "      <td>73.680</td>\n",
       "      <td>182053</td>\n",
       "      <td>10350.159060</td>\n",
       "    </tr>\n",
       "    <tr>\n",
       "      <th>1467</th>\n",
       "      <td>Sweden</td>\n",
       "      <td>Europe</td>\n",
       "      <td>1967</td>\n",
       "      <td>74.160</td>\n",
       "      <td>7867931</td>\n",
       "      <td>15258.296970</td>\n",
       "    </tr>\n",
       "    <tr>\n",
       "      <th>1468</th>\n",
       "      <td>Sweden</td>\n",
       "      <td>Europe</td>\n",
       "      <td>1972</td>\n",
       "      <td>74.720</td>\n",
       "      <td>8122293</td>\n",
       "      <td>17832.024640</td>\n",
       "    </tr>\n",
       "    <tr>\n",
       "      <th>689</th>\n",
       "      <td>Iceland</td>\n",
       "      <td>Europe</td>\n",
       "      <td>1977</td>\n",
       "      <td>76.110</td>\n",
       "      <td>221823</td>\n",
       "      <td>19654.962470</td>\n",
       "    </tr>\n",
       "    <tr>\n",
       "      <th>798</th>\n",
       "      <td>Japan</td>\n",
       "      <td>Asia</td>\n",
       "      <td>1982</td>\n",
       "      <td>77.110</td>\n",
       "      <td>118454974</td>\n",
       "      <td>19384.105710</td>\n",
       "    </tr>\n",
       "    <tr>\n",
       "      <th>799</th>\n",
       "      <td>Japan</td>\n",
       "      <td>Asia</td>\n",
       "      <td>1987</td>\n",
       "      <td>78.670</td>\n",
       "      <td>122091325</td>\n",
       "      <td>22375.941890</td>\n",
       "    </tr>\n",
       "    <tr>\n",
       "      <th>800</th>\n",
       "      <td>Japan</td>\n",
       "      <td>Asia</td>\n",
       "      <td>1992</td>\n",
       "      <td>79.360</td>\n",
       "      <td>124329269</td>\n",
       "      <td>26824.895110</td>\n",
       "    </tr>\n",
       "    <tr>\n",
       "      <th>801</th>\n",
       "      <td>Japan</td>\n",
       "      <td>Asia</td>\n",
       "      <td>1997</td>\n",
       "      <td>80.690</td>\n",
       "      <td>125956499</td>\n",
       "      <td>28816.584990</td>\n",
       "    </tr>\n",
       "    <tr>\n",
       "      <th>802</th>\n",
       "      <td>Japan</td>\n",
       "      <td>Asia</td>\n",
       "      <td>2002</td>\n",
       "      <td>82.000</td>\n",
       "      <td>127065841</td>\n",
       "      <td>28604.591900</td>\n",
       "    </tr>\n",
       "    <tr>\n",
       "      <th>803</th>\n",
       "      <td>Japan</td>\n",
       "      <td>Asia</td>\n",
       "      <td>2007</td>\n",
       "      <td>82.603</td>\n",
       "      <td>127467972</td>\n",
       "      <td>31656.068060</td>\n",
       "    </tr>\n",
       "  </tbody>\n",
       "</table>\n",
       "</div>"
      ],
      "text/plain": [
       "      country continent  year  lifeExp        pop     gdpPercap\n",
       "1140   Norway    Europe  1952   72.670    3327728  10095.421720\n",
       "685   Iceland    Europe  1957   73.470     165110   9244.001412\n",
       "686   Iceland    Europe  1962   73.680     182053  10350.159060\n",
       "1467   Sweden    Europe  1967   74.160    7867931  15258.296970\n",
       "1468   Sweden    Europe  1972   74.720    8122293  17832.024640\n",
       "689   Iceland    Europe  1977   76.110     221823  19654.962470\n",
       "798     Japan      Asia  1982   77.110  118454974  19384.105710\n",
       "799     Japan      Asia  1987   78.670  122091325  22375.941890\n",
       "800     Japan      Asia  1992   79.360  124329269  26824.895110\n",
       "801     Japan      Asia  1997   80.690  125956499  28816.584990\n",
       "802     Japan      Asia  2002   82.000  127065841  28604.591900\n",
       "803     Japan      Asia  2007   82.603  127467972  31656.068060"
      ]
     },
     "execution_count": 4,
     "metadata": {},
     "output_type": "execute_result"
    }
   ],
   "source": [
    "# 각 년도별로 기대수명이 가장 높았던 나라는 어디일까?\n",
    "idx = df.groupby(\"year\")['lifeExp'].idxmax() # index max : 최댓값이 있는 위치 / index min: 최솟값이 있는 위치\n",
    "df.iloc[idx]"
   ]
  },
  {
   "cell_type": "markdown",
   "metadata": {
    "id": "JRedqKJSidFD"
   },
   "source": [
    "### 연습문제"
   ]
  },
  {
   "cell_type": "code",
   "execution_count": 50,
   "metadata": {
    "colab": {
     "base_uri": "https://localhost:8080/",
     "height": 300
    },
    "id": "b124ftxch6bL",
    "outputId": "2669f978-f259-4137-d685-b657ac18d6ed"
   },
   "outputs": [
    {
     "data": {
      "text/html": [
       "<div>\n",
       "<style scoped>\n",
       "    .dataframe tbody tr th:only-of-type {\n",
       "        vertical-align: middle;\n",
       "    }\n",
       "\n",
       "    .dataframe tbody tr th {\n",
       "        vertical-align: top;\n",
       "    }\n",
       "\n",
       "    .dataframe thead th {\n",
       "        text-align: right;\n",
       "    }\n",
       "</style>\n",
       "<table border=\"1\" class=\"dataframe\">\n",
       "  <thead>\n",
       "    <tr style=\"text-align: right;\">\n",
       "      <th></th>\n",
       "      <th>Company</th>\n",
       "      <th>Person</th>\n",
       "      <th>Sales</th>\n",
       "      <th>Country</th>\n",
       "    </tr>\n",
       "  </thead>\n",
       "  <tbody>\n",
       "    <tr>\n",
       "      <th>0</th>\n",
       "      <td>Google</td>\n",
       "      <td>Sam</td>\n",
       "      <td>200</td>\n",
       "      <td>USA</td>\n",
       "    </tr>\n",
       "    <tr>\n",
       "      <th>1</th>\n",
       "      <td>Google</td>\n",
       "      <td>Charlie</td>\n",
       "      <td>120</td>\n",
       "      <td>USA</td>\n",
       "    </tr>\n",
       "    <tr>\n",
       "      <th>2</th>\n",
       "      <td>Microsoft</td>\n",
       "      <td>Amy</td>\n",
       "      <td>340</td>\n",
       "      <td>USA</td>\n",
       "    </tr>\n",
       "    <tr>\n",
       "      <th>3</th>\n",
       "      <td>Microsoft</td>\n",
       "      <td>Vanessa</td>\n",
       "      <td>124</td>\n",
       "      <td>Canada</td>\n",
       "    </tr>\n",
       "    <tr>\n",
       "      <th>4</th>\n",
       "      <td>Facebook</td>\n",
       "      <td>Carl</td>\n",
       "      <td>243</td>\n",
       "      <td>Canada</td>\n",
       "    </tr>\n",
       "    <tr>\n",
       "      <th>5</th>\n",
       "      <td>Facebook</td>\n",
       "      <td>Sarah</td>\n",
       "      <td>350</td>\n",
       "      <td>USA</td>\n",
       "    </tr>\n",
       "    <tr>\n",
       "      <th>6</th>\n",
       "      <td>Apple</td>\n",
       "      <td>John</td>\n",
       "      <td>300</td>\n",
       "      <td>USA</td>\n",
       "    </tr>\n",
       "    <tr>\n",
       "      <th>7</th>\n",
       "      <td>Apple</td>\n",
       "      <td>Emma</td>\n",
       "      <td>320</td>\n",
       "      <td>Canada</td>\n",
       "    </tr>\n",
       "  </tbody>\n",
       "</table>\n",
       "</div>"
      ],
      "text/plain": [
       "     Company   Person  Sales Country\n",
       "0     Google      Sam    200     USA\n",
       "1     Google  Charlie    120     USA\n",
       "2  Microsoft      Amy    340     USA\n",
       "3  Microsoft  Vanessa    124  Canada\n",
       "4   Facebook     Carl    243  Canada\n",
       "5   Facebook    Sarah    350     USA\n",
       "6      Apple     John    300     USA\n",
       "7      Apple     Emma    320  Canada"
      ]
     },
     "execution_count": 50,
     "metadata": {},
     "output_type": "execute_result"
    }
   ],
   "source": [
    "data = {\n",
    "    'Company': ['Google', 'Google', 'Microsoft', 'Microsoft', 'Facebook', 'Facebook', 'Apple', 'Apple'],\n",
    "    'Person': ['Sam', 'Charlie', 'Amy', 'Vanessa', 'Carl', 'Sarah', 'John', 'Emma'],\n",
    "    'Sales': [200, 120, 340, 124, 243, 350, 300, 320],\n",
    "    'Country': ['USA', 'USA', 'USA', 'Canada', 'Canada', 'USA', 'USA', 'Canada']\n",
    "}\n",
    "\n",
    "company = pd.DataFrame(data)\n",
    "company"
   ]
  },
  {
   "cell_type": "markdown",
   "metadata": {
    "id": "sOMACjxfi2Do"
   },
   "source": [
    "1. 회사별로 매출(Sales)의 총합을 계산하세요."
   ]
  },
  {
   "cell_type": "code",
   "execution_count": 52,
   "metadata": {
    "colab": {
     "base_uri": "https://localhost:8080/"
    },
    "id": "LVfdoI4vi1OZ",
    "outputId": "f3fd30f0-441f-42ee-f982-e62d6cab6980"
   },
   "outputs": [
    {
     "data": {
      "text/plain": [
       "Company\n",
       "Apple        620\n",
       "Facebook     593\n",
       "Google       320\n",
       "Microsoft    464\n",
       "Name: Sales, dtype: int64"
      ]
     },
     "execution_count": 52,
     "metadata": {},
     "output_type": "execute_result"
    }
   ],
   "source": [
    "company.groupby(\"Company\")[\"Sales\"].sum()"
   ]
  },
  {
   "cell_type": "markdown",
   "metadata": {
    "id": "gG6bvpQFi-sn"
   },
   "source": [
    "2. 국가(Country)별로 몇 명의 직원(Person)이 있는지 계산하세요."
   ]
  },
  {
   "cell_type": "code",
   "execution_count": 55,
   "metadata": {
    "colab": {
     "base_uri": "https://localhost:8080/"
    },
    "id": "E2UIvQYci9Ci",
    "outputId": "467bb2fa-7d29-46cd-c758-32ae4d358571"
   },
   "outputs": [
    {
     "data": {
      "text/plain": [
       "Country\n",
       "Canada    3\n",
       "USA       5\n",
       "Name: Person, dtype: int64"
      ]
     },
     "execution_count": 55,
     "metadata": {},
     "output_type": "execute_result"
    }
   ],
   "source": [
    "company.groupby(\"Country\")['Person'].count()"
   ]
  },
  {
   "cell_type": "markdown",
   "metadata": {
    "id": "5nBTNvERjFYY"
   },
   "source": [
    "3. 각 회사에서 가장 높은 매출(Sales)을 기록한 사람(Person)의 이름과 해당 매출액을 출력하세요."
   ]
  },
  {
   "cell_type": "code",
   "execution_count": 56,
   "metadata": {
    "colab": {
     "base_uri": "https://localhost:8080/",
     "height": 175
    },
    "id": "XxgNdBXajC5C",
    "outputId": "248fb75b-3337-4a38-e2b5-cc524897446c"
   },
   "outputs": [
    {
     "data": {
      "text/html": [
       "<div>\n",
       "<style scoped>\n",
       "    .dataframe tbody tr th:only-of-type {\n",
       "        vertical-align: middle;\n",
       "    }\n",
       "\n",
       "    .dataframe tbody tr th {\n",
       "        vertical-align: top;\n",
       "    }\n",
       "\n",
       "    .dataframe thead th {\n",
       "        text-align: right;\n",
       "    }\n",
       "</style>\n",
       "<table border=\"1\" class=\"dataframe\">\n",
       "  <thead>\n",
       "    <tr style=\"text-align: right;\">\n",
       "      <th></th>\n",
       "      <th>Company</th>\n",
       "      <th>Person</th>\n",
       "      <th>Sales</th>\n",
       "      <th>Country</th>\n",
       "    </tr>\n",
       "  </thead>\n",
       "  <tbody>\n",
       "    <tr>\n",
       "      <th>7</th>\n",
       "      <td>Apple</td>\n",
       "      <td>Emma</td>\n",
       "      <td>320</td>\n",
       "      <td>Canada</td>\n",
       "    </tr>\n",
       "    <tr>\n",
       "      <th>5</th>\n",
       "      <td>Facebook</td>\n",
       "      <td>Sarah</td>\n",
       "      <td>350</td>\n",
       "      <td>USA</td>\n",
       "    </tr>\n",
       "    <tr>\n",
       "      <th>0</th>\n",
       "      <td>Google</td>\n",
       "      <td>Sam</td>\n",
       "      <td>200</td>\n",
       "      <td>USA</td>\n",
       "    </tr>\n",
       "    <tr>\n",
       "      <th>2</th>\n",
       "      <td>Microsoft</td>\n",
       "      <td>Amy</td>\n",
       "      <td>340</td>\n",
       "      <td>USA</td>\n",
       "    </tr>\n",
       "  </tbody>\n",
       "</table>\n",
       "</div>"
      ],
      "text/plain": [
       "     Company Person  Sales Country\n",
       "7      Apple   Emma    320  Canada\n",
       "5   Facebook  Sarah    350     USA\n",
       "0     Google    Sam    200     USA\n",
       "2  Microsoft    Amy    340     USA"
      ]
     },
     "execution_count": 56,
     "metadata": {},
     "output_type": "execute_result"
    }
   ],
   "source": [
    "idx = company.groupby(\"Company\")['Sales'].idxmax()\n",
    "company.iloc[idx]"
   ]
  },
  {
   "cell_type": "markdown",
   "metadata": {
    "id": "MZoyIIYRjaEg"
   },
   "source": [
    "4. 회사별로 평균 매출(Sales)보다 높은 매출을 기록한 모든 기록을 필터링하세요."
   ]
  },
  {
   "cell_type": "code",
   "execution_count": 57,
   "metadata": {
    "colab": {
     "base_uri": "https://localhost:8080/",
     "height": 175
    },
    "id": "QvPbPhBujO_K",
    "outputId": "92e2a5e8-1bd3-42a0-c371-b9b498093e0f"
   },
   "outputs": [
    {
     "data": {
      "text/html": [
       "<div>\n",
       "<style scoped>\n",
       "    .dataframe tbody tr th:only-of-type {\n",
       "        vertical-align: middle;\n",
       "    }\n",
       "\n",
       "    .dataframe tbody tr th {\n",
       "        vertical-align: top;\n",
       "    }\n",
       "\n",
       "    .dataframe thead th {\n",
       "        text-align: right;\n",
       "    }\n",
       "</style>\n",
       "<table border=\"1\" class=\"dataframe\">\n",
       "  <thead>\n",
       "    <tr style=\"text-align: right;\">\n",
       "      <th></th>\n",
       "      <th>Company</th>\n",
       "      <th>Person</th>\n",
       "      <th>Sales</th>\n",
       "      <th>Country</th>\n",
       "    </tr>\n",
       "  </thead>\n",
       "  <tbody>\n",
       "    <tr>\n",
       "      <th>0</th>\n",
       "      <td>Google</td>\n",
       "      <td>Sam</td>\n",
       "      <td>200</td>\n",
       "      <td>USA</td>\n",
       "    </tr>\n",
       "    <tr>\n",
       "      <th>2</th>\n",
       "      <td>Microsoft</td>\n",
       "      <td>Amy</td>\n",
       "      <td>340</td>\n",
       "      <td>USA</td>\n",
       "    </tr>\n",
       "    <tr>\n",
       "      <th>5</th>\n",
       "      <td>Facebook</td>\n",
       "      <td>Sarah</td>\n",
       "      <td>350</td>\n",
       "      <td>USA</td>\n",
       "    </tr>\n",
       "    <tr>\n",
       "      <th>7</th>\n",
       "      <td>Apple</td>\n",
       "      <td>Emma</td>\n",
       "      <td>320</td>\n",
       "      <td>Canada</td>\n",
       "    </tr>\n",
       "  </tbody>\n",
       "</table>\n",
       "</div>"
      ],
      "text/plain": [
       "     Company Person  Sales Country\n",
       "0     Google    Sam    200     USA\n",
       "2  Microsoft    Amy    340     USA\n",
       "5   Facebook  Sarah    350     USA\n",
       "7      Apple   Emma    320  Canada"
      ]
     },
     "execution_count": 57,
     "metadata": {},
     "output_type": "execute_result"
    }
   ],
   "source": [
    "company[company.groupby('Company')['Sales'].transform(lambda x: x > x.mean())]"
   ]
  },
  {
   "cell_type": "markdown",
   "metadata": {
    "id": "XeSfmewPkhJH"
   },
   "source": [
    "5. 모든 회사의 매출(Sales) 중앙값을 계산하세요."
   ]
  },
  {
   "cell_type": "code",
   "execution_count": 58,
   "metadata": {
    "colab": {
     "base_uri": "https://localhost:8080/"
    },
    "id": "yy5mBRi5juz4",
    "outputId": "187446ea-91b2-4023-c67e-1acd1b24132e"
   },
   "outputs": [
    {
     "data": {
      "text/plain": [
       "Company\n",
       "Apple        310.0\n",
       "Facebook     296.5\n",
       "Google       160.0\n",
       "Microsoft    232.0\n",
       "Name: Sales, dtype: float64"
      ]
     },
     "execution_count": 58,
     "metadata": {},
     "output_type": "execute_result"
    }
   ],
   "source": [
    "company.groupby(\"Company\")['Sales'].median()"
   ]
  },
  {
   "cell_type": "markdown",
   "metadata": {
    "id": "3V3eAwz3kkft"
   },
   "source": [
    "6. 회사별로 매출(Sales)의 최소값과 최대값의 차이(범위)를 계산하세요."
   ]
  },
  {
   "cell_type": "code",
   "execution_count": 59,
   "metadata": {
    "colab": {
     "base_uri": "https://localhost:8080/"
    },
    "id": "pCn7XjEIkaC_",
    "outputId": "0658f804-aed6-4124-9689-a47e81279ddc"
   },
   "outputs": [
    {
     "data": {
      "text/plain": [
       "Company\n",
       "Apple         20\n",
       "Facebook     107\n",
       "Google        80\n",
       "Microsoft    216\n",
       "Name: Sales, dtype: int64"
      ]
     },
     "execution_count": 59,
     "metadata": {},
     "output_type": "execute_result"
    }
   ],
   "source": [
    "def sales_range(x):\n",
    "    return x.max() - x.min()\n",
    "\n",
    "company.groupby(\"Company\")['Sales'].agg(sales_range)"
   ]
  },
  {
   "cell_type": "markdown",
   "metadata": {
    "id": "qD6OXBl4lAXd"
   },
   "source": [
    "7. 국가별로 각 회사의 평균 매출(Sales)을 계산하세요."
   ]
  },
  {
   "cell_type": "code",
   "execution_count": 65,
   "metadata": {
    "id": "5aU7_ZcEk8c_"
   },
   "outputs": [
    {
     "data": {
      "text/plain": [
       "Country  Company  \n",
       "Canada   Apple        320.0\n",
       "         Facebook     243.0\n",
       "         Microsoft    124.0\n",
       "USA      Apple        300.0\n",
       "         Facebook     350.0\n",
       "         Google       160.0\n",
       "         Microsoft    340.0\n",
       "Name: Sales, dtype: float64"
      ]
     },
     "execution_count": 65,
     "metadata": {},
     "output_type": "execute_result"
    }
   ],
   "source": [
    "company.groupby([\"Country\", \"Company\"])[\"Sales\"].mean()"
   ]
  },
  {
   "cell_type": "markdown",
   "metadata": {
    "id": "PQIPnWFDlBP6"
   },
   "source": [
    "8. 'USA' 국가에서 각 회사의 매출(Sales) 총합을 계산하세요."
   ]
  },
  {
   "cell_type": "code",
   "execution_count": 88,
   "metadata": {
    "id": "6ELrvHUmlCnO"
   },
   "outputs": [
    {
     "data": {
      "text/plain": [
       "Company\n",
       "Apple        300\n",
       "Facebook     350\n",
       "Google       320\n",
       "Microsoft    340\n",
       "Name: Sales, dtype: int64"
      ]
     },
     "execution_count": 88,
     "metadata": {},
     "output_type": "execute_result"
    }
   ],
   "source": [
    "company[company[\"Country\"]==\"USA\"]\\\n",
    "    .groupby(\"Company\")[\"Sales\"]\\\n",
    "    .sum()"
   ]
  },
  {
   "cell_type": "markdown",
   "metadata": {
    "id": "u80oA90AlDCu"
   },
   "source": [
    "9. 각 회사별로 매출(Sales)을 기준으로 내림차순 정렬하세요. (단일 회사 내에서의 정렬)"
   ]
  },
  {
   "cell_type": "code",
   "execution_count": 94,
   "metadata": {
    "id": "B3stjByLlEmD"
   },
   "outputs": [
    {
     "data": {
      "text/html": [
       "<div>\n",
       "<style scoped>\n",
       "    .dataframe tbody tr th:only-of-type {\n",
       "        vertical-align: middle;\n",
       "    }\n",
       "\n",
       "    .dataframe tbody tr th {\n",
       "        vertical-align: top;\n",
       "    }\n",
       "\n",
       "    .dataframe thead th {\n",
       "        text-align: right;\n",
       "    }\n",
       "</style>\n",
       "<table border=\"1\" class=\"dataframe\">\n",
       "  <thead>\n",
       "    <tr style=\"text-align: right;\">\n",
       "      <th></th>\n",
       "      <th>Company</th>\n",
       "      <th>Person</th>\n",
       "      <th>Sales</th>\n",
       "      <th>Country</th>\n",
       "    </tr>\n",
       "  </thead>\n",
       "  <tbody>\n",
       "    <tr>\n",
       "      <th>7</th>\n",
       "      <td>Apple</td>\n",
       "      <td>Emma</td>\n",
       "      <td>320</td>\n",
       "      <td>Canada</td>\n",
       "    </tr>\n",
       "    <tr>\n",
       "      <th>6</th>\n",
       "      <td>Apple</td>\n",
       "      <td>John</td>\n",
       "      <td>300</td>\n",
       "      <td>USA</td>\n",
       "    </tr>\n",
       "    <tr>\n",
       "      <th>5</th>\n",
       "      <td>Facebook</td>\n",
       "      <td>Sarah</td>\n",
       "      <td>350</td>\n",
       "      <td>USA</td>\n",
       "    </tr>\n",
       "    <tr>\n",
       "      <th>4</th>\n",
       "      <td>Facebook</td>\n",
       "      <td>Carl</td>\n",
       "      <td>243</td>\n",
       "      <td>Canada</td>\n",
       "    </tr>\n",
       "    <tr>\n",
       "      <th>0</th>\n",
       "      <td>Google</td>\n",
       "      <td>Sam</td>\n",
       "      <td>200</td>\n",
       "      <td>USA</td>\n",
       "    </tr>\n",
       "    <tr>\n",
       "      <th>1</th>\n",
       "      <td>Google</td>\n",
       "      <td>Charlie</td>\n",
       "      <td>120</td>\n",
       "      <td>USA</td>\n",
       "    </tr>\n",
       "    <tr>\n",
       "      <th>2</th>\n",
       "      <td>Microsoft</td>\n",
       "      <td>Amy</td>\n",
       "      <td>340</td>\n",
       "      <td>USA</td>\n",
       "    </tr>\n",
       "    <tr>\n",
       "      <th>3</th>\n",
       "      <td>Microsoft</td>\n",
       "      <td>Vanessa</td>\n",
       "      <td>124</td>\n",
       "      <td>Canada</td>\n",
       "    </tr>\n",
       "  </tbody>\n",
       "</table>\n",
       "</div>"
      ],
      "text/plain": [
       "     Company   Person  Sales Country\n",
       "7      Apple     Emma    320  Canada\n",
       "6      Apple     John    300     USA\n",
       "5   Facebook    Sarah    350     USA\n",
       "4   Facebook     Carl    243  Canada\n",
       "0     Google      Sam    200     USA\n",
       "1     Google  Charlie    120     USA\n",
       "2  Microsoft      Amy    340     USA\n",
       "3  Microsoft  Vanessa    124  Canada"
      ]
     },
     "execution_count": 94,
     "metadata": {},
     "output_type": "execute_result"
    }
   ],
   "source": [
    "company.sort_values(['Company','Sales'],ascending=[1,0])"
   ]
  },
  {
   "cell_type": "markdown",
   "metadata": {
    "id": "sqn9GSEdlJi-"
   },
   "source": [
    "10. 모든 회사의 매출(Sales) 평균을 계산하고, 이 평균을 초과하는 매출을 기록한 회사와 직원, 매출액을 출력하세요."
   ]
  },
  {
   "cell_type": "code",
   "execution_count": 98,
   "metadata": {
    "colab": {
     "base_uri": "https://localhost:8080/",
     "height": 175
    },
    "id": "k0pdeVMWlOfV",
    "outputId": "c50c23c3-93e4-45c0-f52f-31181880697c"
   },
   "outputs": [
    {
     "data": {
      "text/html": [
       "<div>\n",
       "<style scoped>\n",
       "    .dataframe tbody tr th:only-of-type {\n",
       "        vertical-align: middle;\n",
       "    }\n",
       "\n",
       "    .dataframe tbody tr th {\n",
       "        vertical-align: top;\n",
       "    }\n",
       "\n",
       "    .dataframe thead th {\n",
       "        text-align: right;\n",
       "    }\n",
       "</style>\n",
       "<table border=\"1\" class=\"dataframe\">\n",
       "  <thead>\n",
       "    <tr style=\"text-align: right;\">\n",
       "      <th></th>\n",
       "      <th>Company</th>\n",
       "      <th>Person</th>\n",
       "      <th>Sales</th>\n",
       "      <th>Country</th>\n",
       "    </tr>\n",
       "  </thead>\n",
       "  <tbody>\n",
       "    <tr>\n",
       "      <th>2</th>\n",
       "      <td>Microsoft</td>\n",
       "      <td>Amy</td>\n",
       "      <td>340</td>\n",
       "      <td>USA</td>\n",
       "    </tr>\n",
       "    <tr>\n",
       "      <th>5</th>\n",
       "      <td>Facebook</td>\n",
       "      <td>Sarah</td>\n",
       "      <td>350</td>\n",
       "      <td>USA</td>\n",
       "    </tr>\n",
       "    <tr>\n",
       "      <th>6</th>\n",
       "      <td>Apple</td>\n",
       "      <td>John</td>\n",
       "      <td>300</td>\n",
       "      <td>USA</td>\n",
       "    </tr>\n",
       "    <tr>\n",
       "      <th>7</th>\n",
       "      <td>Apple</td>\n",
       "      <td>Emma</td>\n",
       "      <td>320</td>\n",
       "      <td>Canada</td>\n",
       "    </tr>\n",
       "  </tbody>\n",
       "</table>\n",
       "</div>"
      ],
      "text/plain": [
       "     Company Person  Sales Country\n",
       "2  Microsoft    Amy    340     USA\n",
       "5   Facebook  Sarah    350     USA\n",
       "6      Apple   John    300     USA\n",
       "7      Apple   Emma    320  Canada"
      ]
     },
     "execution_count": 98,
     "metadata": {},
     "output_type": "execute_result"
    }
   ],
   "source": [
    "overall_sales_mean = company['Sales'].mean()\n",
    "company[company['Sales'] > overall_sales_mean]\n",
    "\n",
    "#company[company[\"Sales\"]] > company[\"Sales\"].mean()"
   ]
  },
  {
   "cell_type": "code",
   "execution_count": null,
   "metadata": {},
   "outputs": [],
   "source": []
  }
 ],
 "metadata": {
  "colab": {
   "provenance": []
  },
  "kernelspec": {
   "display_name": "Python 3 (ipykernel)",
   "language": "python",
   "name": "python3"
  },
  "language_info": {
   "codemirror_mode": {
    "name": "ipython",
    "version": 3
   },
   "file_extension": ".py",
   "mimetype": "text/x-python",
   "name": "python",
   "nbconvert_exporter": "python",
   "pygments_lexer": "ipython3",
   "version": "3.11.8"
  }
 },
 "nbformat": 4,
 "nbformat_minor": 4
}
