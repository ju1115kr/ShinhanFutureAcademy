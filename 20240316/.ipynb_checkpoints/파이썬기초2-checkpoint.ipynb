{
 "cells": [
  {
   "cell_type": "code",
   "execution_count": 44,
   "id": "75daa531-998a-4d25-b27d-f675ad061c65",
   "metadata": {},
   "outputs": [
    {
     "name": "stdout",
     "output_type": "stream",
     "text": [
      "가입을 축하합니다.\n"
     ]
    },
    {
     "data": {
      "text/plain": [
       "35000"
      ]
     },
     "execution_count": 44,
     "metadata": {},
     "output_type": "execute_result"
    }
   ],
   "source": [
    "# Class\n",
    "money1 = 50000\n",
    "money2 = 30000\n",
    "\n",
    "class Bank():\n",
    "    def __init__(self):\n",
    "        self.money=0\n",
    "        print(\"가입을 축하합니다.\")\n",
    "        \n",
    "    def deposit(self, a):\n",
    "        self.money += a\n",
    "\n",
    "    try:\n",
    "        5 / 0\n",
    "    except:\n",
    "        pass\n",
    "\n",
    "wallet = Bank()\n",
    "wallet.deposit(35000)\n",
    "wallet.money"
   ]
  },
  {
   "cell_type": "code",
   "execution_count": 27,
   "id": "c4f40d4d-9131-4a54-ad5f-1b0744e9dfde",
   "metadata": {},
   "outputs": [
    {
     "data": {
      "text/plain": [
       "0"
      ]
     },
     "execution_count": 27,
     "metadata": {},
     "output_type": "execute_result"
    }
   ],
   "source": [
    "wallet2 = Bank()\n",
    "wallet2.money\n",
    "wallet2.deposit"
   ]
  },
  {
   "cell_type": "code",
   "execution_count": 30,
   "id": "cb4efee8-d0f4-4138-bfc2-556bce0a4275",
   "metadata": {},
   "outputs": [
    {
     "data": {
      "text/plain": [
       "__main__.Bank"
      ]
     },
     "execution_count": 30,
     "metadata": {},
     "output_type": "execute_result"
    }
   ],
   "source": [
    "wallet.__class__"
   ]
  },
  {
   "cell_type": "code",
   "execution_count": 47,
   "id": "ebb36827-5461-47bc-ba96-c1c26d6e7255",
   "metadata": {},
   "outputs": [
    {
     "data": {
      "text/plain": [
       "3"
      ]
     },
     "execution_count": 47,
     "metadata": {},
     "output_type": "execute_result"
    }
   ],
   "source": [
    "import calendar\n",
    "from calendar import weekday as wd\n",
    "wd(2023,3,16)"
   ]
  },
  {
   "cell_type": "code",
   "execution_count": 48,
   "id": "7da03f64-ae33-41e3-b49e-fa9406764a2e",
   "metadata": {},
   "outputs": [
    {
     "name": "stdout",
     "output_type": "stream",
     "text": [
      "1\n",
      "2\n",
      "3\n",
      "4\n",
      "5\n",
      "6\n",
      "7\n",
      "8\n",
      "9\n",
      "10\n"
     ]
    }
   ],
   "source": [
    "import time\n",
    "time.ctime()\n",
    "for i in range(1,11):\n",
    "    print(i)\n",
    "    time.sleep(2)"
   ]
  },
  {
   "cell_type": "code",
   "execution_count": 49,
   "id": "c1abbaaf-88a0-4eeb-846b-87dfec62c213",
   "metadata": {},
   "outputs": [
    {
     "data": {
      "text/plain": [
       "1024"
      ]
     },
     "execution_count": 49,
     "metadata": {},
     "output_type": "execute_result"
    }
   ],
   "source": [
    "2**10"
   ]
  },
  {
   "cell_type": "code",
   "execution_count": 50,
   "id": "c3f886a5-0a42-43c6-862e-f7c7de459398",
   "metadata": {},
   "outputs": [
    {
     "data": {
      "text/plain": [
       "33232930569601"
      ]
     },
     "execution_count": 50,
     "metadata": {},
     "output_type": "execute_result"
    }
   ],
   "source": [
    "7**16"
   ]
  },
  {
   "cell_type": "code",
   "execution_count": 55,
   "id": "8e713b46-40f9-411f-92e6-90fda22c61e0",
   "metadata": {},
   "outputs": [
    {
     "data": {
      "text/plain": [
       "15"
      ]
     },
     "execution_count": 55,
     "metadata": {},
     "output_type": "execute_result"
    }
   ],
   "source": [
    "m = \"happy birthday!\"\n",
    "len(m)"
   ]
  },
  {
   "cell_type": "code",
   "execution_count": 56,
   "id": "1fdc3f61-e1f5-4066-8a05-4046722f89a6",
   "metadata": {},
   "outputs": [
    {
     "data": {
      "text/plain": [
       "2"
      ]
     },
     "execution_count": 56,
     "metadata": {},
     "output_type": "execute_result"
    }
   ],
   "source": [
    "15//7"
   ]
  },
  {
   "cell_type": "code",
   "execution_count": 57,
   "id": "6ff4998c-011d-4f41-badf-2a6e4a3441d4",
   "metadata": {},
   "outputs": [
    {
     "data": {
      "text/plain": [
       "5"
      ]
     },
     "execution_count": 57,
     "metadata": {},
     "output_type": "execute_result"
    }
   ],
   "source": [
    "array=[1,2,6,7,10]\n",
    "len(array)"
   ]
  },
  {
   "cell_type": "code",
   "execution_count": 60,
   "id": "20779501-7088-4c0d-89ef-7ba4363c9d60",
   "metadata": {},
   "outputs": [
    {
     "data": {
      "text/plain": [
       "[1, 2, 6, 7, 10]"
      ]
     },
     "execution_count": 60,
     "metadata": {},
     "output_type": "execute_result"
    }
   ],
   "source": [
    "array.sort()\n",
    "array"
   ]
  },
  {
   "cell_type": "code",
   "execution_count": 62,
   "id": "11b64a0f-9eb5-4c95-aefe-a7d25e077e23",
   "metadata": {},
   "outputs": [
    {
     "data": {
      "text/plain": [
       "1"
      ]
     },
     "execution_count": 62,
     "metadata": {},
     "output_type": "execute_result"
    }
   ],
   "source": [
    "array.count(2)"
   ]
  },
  {
   "cell_type": "code",
   "execution_count": 88,
   "id": "ea572c89-b8cd-42c4-b82e-f095e83c42ec",
   "metadata": {},
   "outputs": [],
   "source": [
    "nice1=0\n",
    "nice2=0\n",
    "    \n"
   ]
  },
  {
   "cell_type": "code",
   "execution_count": null,
   "id": "c477627f-0373-425e-b153-44bd69bb5e02",
   "metadata": {},
   "outputs": [],
   "source": [
    "set(array)"
   ]
  },
  {
   "cell_type": "code",
   "execution_count": 86,
   "id": "3c223c73-2c4a-4ccc-a2f2-0f42fdb5167f",
   "metadata": {},
   "outputs": [
    {
     "name": "stdout",
     "output_type": "stream",
     "text": [
      "0 1\n",
      "1 2\n",
      "2 3\n",
      "3 4\n",
      "4 5\n",
      "5 6\n"
     ]
    }
   ],
   "source": [
    "for i, a in enumerate(set(array)):\n",
    "    print(i, a)"
   ]
  },
  {
   "cell_type": "code",
   "execution_count": 77,
   "id": "6c388a44-0192-4f07-892f-730ea3d9dd80",
   "metadata": {},
   "outputs": [
    {
     "name": "stdout",
     "output_type": "stream",
     "text": [
      "3\n",
      "3\n",
      "3\n",
      "3\n"
     ]
    }
   ],
   "source": [
    "array=[1,2,3,3,3,3,3,4]\n",
    "while len(array) != 0 :\n",
    "    for i, a in enumerate(set(array)):\n",
    "        \n",
    "        array.remove(a)\n",
    "    if i == 0 : \n",
    "answer"
   ]
  },
  {
   "cell_type": "code",
   "execution_count": 81,
   "id": "17c5bf55-7cd6-4bf8-9862-c882eb794c9c",
   "metadata": {},
   "outputs": [],
   "source": [
    "array=[1,2,3,4,5,6]"
   ]
  },
  {
   "cell_type": "code",
   "execution_count": 83,
   "id": "d80dc022-c181-4960-bcd7-274bf05b9337",
   "metadata": {},
   "outputs": [
    {
     "data": {
      "text/plain": [
       "1"
      ]
     },
     "execution_count": 83,
     "metadata": {},
     "output_type": "execute_result"
    }
   ],
   "source": [
    "array[0]"
   ]
  },
  {
   "cell_type": "code",
   "execution_count": 93,
   "id": "f4743ecf-4307-4a22-9387-ad6a932ccb2c",
   "metadata": {},
   "outputs": [],
   "source": [
    "array.sort()"
   ]
  },
  {
   "cell_type": "code",
   "execution_count": 94,
   "id": "763d5822-b342-4ebe-9694-2c12b447c2e3",
   "metadata": {},
   "outputs": [],
   "source": [
    "my_string=\"abcdef\""
   ]
  },
  {
   "cell_type": "code",
   "execution_count": 95,
   "id": "4256b529-d48a-4b68-bf9f-c571e43dd188",
   "metadata": {},
   "outputs": [
    {
     "data": {
      "text/plain": [
       "['__add__',\n",
       " '__class__',\n",
       " '__contains__',\n",
       " '__delattr__',\n",
       " '__dir__',\n",
       " '__doc__',\n",
       " '__eq__',\n",
       " '__format__',\n",
       " '__ge__',\n",
       " '__getattribute__',\n",
       " '__getitem__',\n",
       " '__getnewargs__',\n",
       " '__getstate__',\n",
       " '__gt__',\n",
       " '__hash__',\n",
       " '__init__',\n",
       " '__init_subclass__',\n",
       " '__iter__',\n",
       " '__le__',\n",
       " '__len__',\n",
       " '__lt__',\n",
       " '__mod__',\n",
       " '__mul__',\n",
       " '__ne__',\n",
       " '__new__',\n",
       " '__reduce__',\n",
       " '__reduce_ex__',\n",
       " '__repr__',\n",
       " '__rmod__',\n",
       " '__rmul__',\n",
       " '__setattr__',\n",
       " '__sizeof__',\n",
       " '__str__',\n",
       " '__subclasshook__',\n",
       " 'capitalize',\n",
       " 'casefold',\n",
       " 'center',\n",
       " 'count',\n",
       " 'encode',\n",
       " 'endswith',\n",
       " 'expandtabs',\n",
       " 'find',\n",
       " 'format',\n",
       " 'format_map',\n",
       " 'index',\n",
       " 'isalnum',\n",
       " 'isalpha',\n",
       " 'isascii',\n",
       " 'isdecimal',\n",
       " 'isdigit',\n",
       " 'isidentifier',\n",
       " 'islower',\n",
       " 'isnumeric',\n",
       " 'isprintable',\n",
       " 'isspace',\n",
       " 'istitle',\n",
       " 'isupper',\n",
       " 'join',\n",
       " 'ljust',\n",
       " 'lower',\n",
       " 'lstrip',\n",
       " 'maketrans',\n",
       " 'partition',\n",
       " 'removeprefix',\n",
       " 'removesuffix',\n",
       " 'replace',\n",
       " 'rfind',\n",
       " 'rindex',\n",
       " 'rjust',\n",
       " 'rpartition',\n",
       " 'rsplit',\n",
       " 'rstrip',\n",
       " 'split',\n",
       " 'splitlines',\n",
       " 'startswith',\n",
       " 'strip',\n",
       " 'swapcase',\n",
       " 'title',\n",
       " 'translate',\n",
       " 'upper',\n",
       " 'zfill']"
      ]
     },
     "execution_count": 95,
     "metadata": {},
     "output_type": "execute_result"
    }
   ],
   "source": [
    "dir(my_string)"
   ]
  },
  {
   "cell_type": "code",
   "execution_count": 96,
   "id": "2b61b71e-62cd-4389-802a-5c2727f5fcf2",
   "metadata": {},
   "outputs": [
    {
     "data": {
      "text/plain": [
       "'bcdef'"
      ]
     },
     "execution_count": 96,
     "metadata": {},
     "output_type": "execute_result"
    }
   ],
   "source": [
    "my_string.replace('a','')"
   ]
  },
  {
   "cell_type": "code",
   "execution_count": 97,
   "id": "716950d5-0dee-46b7-b4e7-1cb67bb2384e",
   "metadata": {},
   "outputs": [
    {
     "data": {
      "text/plain": [
       "6"
      ]
     },
     "execution_count": 97,
     "metadata": {},
     "output_type": "execute_result"
    }
   ],
   "source": [
    "len(my_string)"
   ]
  },
  {
   "cell_type": "code",
   "execution_count": 99,
   "id": "50bd4cd2-f6e9-46b0-b7e7-0beef928e5be",
   "metadata": {},
   "outputs": [
    {
     "data": {
      "text/plain": [
       "1"
      ]
     },
     "execution_count": 99,
     "metadata": {},
     "output_type": "execute_result"
    }
   ],
   "source": [
    "my_string.find(\"b\")"
   ]
  },
  {
   "cell_type": "code",
   "execution_count": 100,
   "id": "a9e99720-fdec-45e3-80b6-168553b43475",
   "metadata": {},
   "outputs": [
    {
     "data": {
      "text/plain": [
       "-1"
      ]
     },
     "execution_count": 100,
     "metadata": {},
     "output_type": "execute_result"
    }
   ],
   "source": [
    "\"AbcAbcA\".find(\"AAA\")"
   ]
  },
  {
   "cell_type": "code",
   "execution_count": 101,
   "id": "9672caeb-2ed2-47c3-a13c-05e3e6ed5f23",
   "metadata": {},
   "outputs": [
    {
     "data": {
      "text/plain": [
       "2"
      ]
     },
     "execution_count": 101,
     "metadata": {},
     "output_type": "execute_result"
    }
   ],
   "source": [
    "\"ab6CDE443fgh\".find(\"6CD\")"
   ]
  },
  {
   "cell_type": "code",
   "execution_count": 102,
   "id": "03e45e3d-cbd1-4810-8cf1-58b5bec656da",
   "metadata": {},
   "outputs": [
    {
     "data": {
      "text/plain": [
       "['__add__',\n",
       " '__class__',\n",
       " '__class_getitem__',\n",
       " '__contains__',\n",
       " '__delattr__',\n",
       " '__delitem__',\n",
       " '__dir__',\n",
       " '__doc__',\n",
       " '__eq__',\n",
       " '__format__',\n",
       " '__ge__',\n",
       " '__getattribute__',\n",
       " '__getitem__',\n",
       " '__getstate__',\n",
       " '__gt__',\n",
       " '__hash__',\n",
       " '__iadd__',\n",
       " '__imul__',\n",
       " '__init__',\n",
       " '__init_subclass__',\n",
       " '__iter__',\n",
       " '__le__',\n",
       " '__len__',\n",
       " '__lt__',\n",
       " '__mul__',\n",
       " '__ne__',\n",
       " '__new__',\n",
       " '__reduce__',\n",
       " '__reduce_ex__',\n",
       " '__repr__',\n",
       " '__reversed__',\n",
       " '__rmul__',\n",
       " '__setattr__',\n",
       " '__setitem__',\n",
       " '__sizeof__',\n",
       " '__str__',\n",
       " '__subclasshook__',\n",
       " 'append',\n",
       " 'clear',\n",
       " 'copy',\n",
       " 'count',\n",
       " 'extend',\n",
       " 'index',\n",
       " 'insert',\n",
       " 'pop',\n",
       " 'remove',\n",
       " 'reverse',\n",
       " 'sort']"
      ]
     },
     "execution_count": 102,
     "metadata": {},
     "output_type": "execute_result"
    }
   ],
   "source": [
    "dir(array)"
   ]
  },
  {
   "cell_type": "code",
   "execution_count": 103,
   "id": "32bfcda0-7a07-4ddc-a63b-07fe3c4f869e",
   "metadata": {},
   "outputs": [
    {
     "data": {
      "text/plain": [
       "[1, 2, 3, 4, 5, 6]"
      ]
     },
     "execution_count": 103,
     "metadata": {},
     "output_type": "execute_result"
    }
   ],
   "source": [
    "array"
   ]
  },
  {
   "cell_type": "code",
   "execution_count": 104,
   "id": "ae2215ac-4ba0-4877-9489-a1dea416ad45",
   "metadata": {},
   "outputs": [
    {
     "data": {
      "text/plain": [
       "1"
      ]
     },
     "execution_count": 104,
     "metadata": {},
     "output_type": "execute_result"
    }
   ],
   "source": [
    "array.index(2)"
   ]
  },
  {
   "cell_type": "code",
   "execution_count": 109,
   "id": "5917cf2b-1d05-45c1-b378-9c3d1f454722",
   "metadata": {},
   "outputs": [],
   "source": [
    "def solution(numbers, num1, num2):\n",
    "    answer = []\n",
    "    n1 = numbers.index(num1)\n",
    "    print(n1)\n",
    "    n2 = numbers.index(num2)\n",
    "    print(n2)\n",
    "    for i in range(n1+1, n2):\n",
    "        answer.append(numbers[i])\n",
    "        \n",
    "    return answer\n"
   ]
  },
  {
   "cell_type": "code",
   "execution_count": 111,
   "id": "69373cec-1bff-4fcc-8767-8dbcab9d2dc6",
   "metadata": {},
   "outputs": [
    {
     "name": "stdout",
     "output_type": "stream",
     "text": [
      "0\n"
     ]
    },
    {
     "ename": "ValueError",
     "evalue": "2 is not in list",
     "output_type": "error",
     "traceback": [
      "\u001b[0;31m---------------------------------------------------------------------------\u001b[0m",
      "\u001b[0;31mValueError\u001b[0m                                Traceback (most recent call last)",
      "Cell \u001b[0;32mIn[111], line 1\u001b[0m\n\u001b[0;32m----> 1\u001b[0m solution([\u001b[38;5;241m1\u001b[39m,\u001b[38;5;241m3\u001b[39m,\u001b[38;5;241m5\u001b[39m], \u001b[38;5;241m1\u001b[39m, \u001b[38;5;241m2\u001b[39m)\n",
      "Cell \u001b[0;32mIn[109], line 5\u001b[0m, in \u001b[0;36msolution\u001b[0;34m(numbers, num1, num2)\u001b[0m\n\u001b[1;32m      3\u001b[0m n1 \u001b[38;5;241m=\u001b[39m numbers\u001b[38;5;241m.\u001b[39mindex(num1)\n\u001b[1;32m      4\u001b[0m \u001b[38;5;28mprint\u001b[39m(n1)\n\u001b[0;32m----> 5\u001b[0m n2 \u001b[38;5;241m=\u001b[39m numbers\u001b[38;5;241m.\u001b[39mindex(num2)\n\u001b[1;32m      6\u001b[0m \u001b[38;5;28mprint\u001b[39m(n2)\n\u001b[1;32m      7\u001b[0m \u001b[38;5;28;01mfor\u001b[39;00m i \u001b[38;5;129;01min\u001b[39;00m \u001b[38;5;28mrange\u001b[39m(n1\u001b[38;5;241m+\u001b[39m\u001b[38;5;241m1\u001b[39m, n2):\n",
      "\u001b[0;31mValueError\u001b[0m: 2 is not in list"
     ]
    }
   ],
   "source": [
    "solution([1,3,5], 1, 2)"
   ]
  },
  {
   "cell_type": "code",
   "execution_count": 112,
   "id": "a393b35e-47f4-435f-b203-62601473b873",
   "metadata": {},
   "outputs": [
    {
     "data": {
      "text/plain": [
       "[1, 2, 3, 4, 5, 6]"
      ]
     },
     "execution_count": 112,
     "metadata": {},
     "output_type": "execute_result"
    }
   ],
   "source": [
    "array"
   ]
  },
  {
   "cell_type": "code",
   "execution_count": 114,
   "id": "e5d5d66f-528e-4705-a20b-734b45b29aef",
   "metadata": {},
   "outputs": [
    {
     "data": {
      "text/plain": [
       "6"
      ]
     },
     "execution_count": 114,
     "metadata": {},
     "output_type": "execute_result"
    }
   ],
   "source": [
    "array[-1]"
   ]
  },
  {
   "cell_type": "code",
   "execution_count": 115,
   "id": "0325c1aa-d6d6-4384-b48e-af6ed8c83935",
   "metadata": {},
   "outputs": [],
   "source": [
    "array.sort()"
   ]
  },
  {
   "cell_type": "code",
   "execution_count": 116,
   "id": "5368f178-8ce7-4f24-b2f0-2116d64f2568",
   "metadata": {},
   "outputs": [
    {
     "data": {
      "text/plain": [
       "[4, 5, 6]"
      ]
     },
     "execution_count": 116,
     "metadata": {},
     "output_type": "execute_result"
    }
   ],
   "source": [
    "array=[6,4,5]\n",
    "array.sort()\n",
    "array"
   ]
  },
  {
   "cell_type": "code",
   "execution_count": 121,
   "id": "8305a4f3-373f-4b05-bd85-30eebe170c01",
   "metadata": {},
   "outputs": [
    {
     "name": "stdout",
     "output_type": "stream",
     "text": [
      "1\n"
     ]
    }
   ],
   "source": [
    "if array[0] + array[1] < array[2]:\n",
    "    print(\"1\")\n",
    "else: print(\"2\")"
   ]
  },
  {
   "cell_type": "code",
   "execution_count": 120,
   "id": "d2891be8-bfc3-4db9-92cc-ad337b91c670",
   "metadata": {},
   "outputs": [],
   "source": [
    "array=[2,3,6]"
   ]
  },
  {
   "cell_type": "code",
   "execution_count": 128,
   "id": "54e430a3-b1a9-47f7-b6b1-a41c95000f5e",
   "metadata": {},
   "outputs": [
    {
     "data": {
      "text/plain": [
       "1"
      ]
     },
     "execution_count": 128,
     "metadata": {},
     "output_type": "execute_result"
    }
   ],
   "source": [
    "n=1234\n",
    "len(str(n)[0])"
   ]
  },
  {
   "cell_type": "code",
   "execution_count": 130,
   "id": "70a811a4-946b-43f4-8cfd-70ad05c189f7",
   "metadata": {},
   "outputs": [
    {
     "data": {
      "text/plain": [
       "4"
      ]
     },
     "execution_count": 130,
     "metadata": {},
     "output_type": "execute_result"
    }
   ],
   "source": [
    "len(str(n))"
   ]
  },
  {
   "cell_type": "code",
   "execution_count": 131,
   "id": "dfe35f7f-65d6-46fa-9368-861bc45f4ac4",
   "metadata": {},
   "outputs": [
    {
     "data": {
      "text/plain": [
       "'abcdef'"
      ]
     },
     "execution_count": 131,
     "metadata": {},
     "output_type": "execute_result"
    }
   ],
   "source": [
    "my_string"
   ]
  },
  {
   "cell_type": "code",
   "execution_count": 132,
   "id": "6b69d972-788b-4295-8ff0-eb4ca62d957d",
   "metadata": {},
   "outputs": [
    {
     "data": {
      "text/plain": [
       "['__add__',\n",
       " '__class__',\n",
       " '__contains__',\n",
       " '__delattr__',\n",
       " '__dir__',\n",
       " '__doc__',\n",
       " '__eq__',\n",
       " '__format__',\n",
       " '__ge__',\n",
       " '__getattribute__',\n",
       " '__getitem__',\n",
       " '__getnewargs__',\n",
       " '__getstate__',\n",
       " '__gt__',\n",
       " '__hash__',\n",
       " '__init__',\n",
       " '__init_subclass__',\n",
       " '__iter__',\n",
       " '__le__',\n",
       " '__len__',\n",
       " '__lt__',\n",
       " '__mod__',\n",
       " '__mul__',\n",
       " '__ne__',\n",
       " '__new__',\n",
       " '__reduce__',\n",
       " '__reduce_ex__',\n",
       " '__repr__',\n",
       " '__rmod__',\n",
       " '__rmul__',\n",
       " '__setattr__',\n",
       " '__sizeof__',\n",
       " '__str__',\n",
       " '__subclasshook__',\n",
       " 'capitalize',\n",
       " 'casefold',\n",
       " 'center',\n",
       " 'count',\n",
       " 'encode',\n",
       " 'endswith',\n",
       " 'expandtabs',\n",
       " 'find',\n",
       " 'format',\n",
       " 'format_map',\n",
       " 'index',\n",
       " 'isalnum',\n",
       " 'isalpha',\n",
       " 'isascii',\n",
       " 'isdecimal',\n",
       " 'isdigit',\n",
       " 'isidentifier',\n",
       " 'islower',\n",
       " 'isnumeric',\n",
       " 'isprintable',\n",
       " 'isspace',\n",
       " 'istitle',\n",
       " 'isupper',\n",
       " 'join',\n",
       " 'ljust',\n",
       " 'lower',\n",
       " 'lstrip',\n",
       " 'maketrans',\n",
       " 'partition',\n",
       " 'removeprefix',\n",
       " 'removesuffix',\n",
       " 'replace',\n",
       " 'rfind',\n",
       " 'rindex',\n",
       " 'rjust',\n",
       " 'rpartition',\n",
       " 'rsplit',\n",
       " 'rstrip',\n",
       " 'split',\n",
       " 'splitlines',\n",
       " 'startswith',\n",
       " 'strip',\n",
       " 'swapcase',\n",
       " 'title',\n",
       " 'translate',\n",
       " 'upper',\n",
       " 'zfill']"
      ]
     },
     "execution_count": 132,
     "metadata": {},
     "output_type": "execute_result"
    }
   ],
   "source": [
    "dir(my_string)"
   ]
  },
  {
   "cell_type": "code",
   "execution_count": 133,
   "id": "0de31afb-6895-4ec4-ad8e-d5a4ef69f622",
   "metadata": {},
   "outputs": [],
   "source": [
    "my_string = \"aAb1B2cC34oOp\""
   ]
  },
  {
   "cell_type": "code",
   "execution_count": 135,
   "id": "ccf5e53a-f8b3-417b-9b32-1e2cc9bded2f",
   "metadata": {},
   "outputs": [
    {
     "data": {
      "text/plain": [
       "False"
      ]
     },
     "execution_count": 135,
     "metadata": {},
     "output_type": "execute_result"
    }
   ],
   "source": [
    "my_string.isnumeric()"
   ]
  },
  {
   "cell_type": "code",
   "execution_count": 139,
   "id": "fc5fb28b-8d88-4d0c-95eb-b40fbacb2861",
   "metadata": {},
   "outputs": [
    {
     "data": {
      "text/plain": [
       "1"
      ]
     },
     "execution_count": 139,
     "metadata": {},
     "output_type": "execute_result"
    }
   ],
   "source": [
    "int(my_string[3])"
   ]
  },
  {
   "cell_type": "code",
   "execution_count": 140,
   "id": "ca03c46a-89f9-4ebe-82e1-47dd0404ca12",
   "metadata": {},
   "outputs": [
    {
     "data": {
      "text/plain": [
       "True"
      ]
     },
     "execution_count": 140,
     "metadata": {},
     "output_type": "execute_result"
    }
   ],
   "source": [
    "'a'.islower()"
   ]
  },
  {
   "cell_type": "code",
   "execution_count": 141,
   "id": "274f53b3-9ba6-455b-9ec3-213d5b1b1c4c",
   "metadata": {},
   "outputs": [
    {
     "data": {
      "text/plain": [
       "False"
      ]
     },
     "execution_count": 141,
     "metadata": {},
     "output_type": "execute_result"
    }
   ],
   "source": [
    "'a'.isupper()"
   ]
  },
  {
   "cell_type": "code",
   "execution_count": 142,
   "id": "813799ef-8f30-4b01-a0d5-b16b9c2db60e",
   "metadata": {},
   "outputs": [
    {
     "data": {
      "text/plain": [
       "2"
      ]
     },
     "execution_count": 142,
     "metadata": {},
     "output_type": "execute_result"
    }
   ],
   "source": [
    "array = [1, 8, 3]\n",
    "array2 = array\n",
    "array.sort()\n",
    "MaxValue = array[-1]\n",
    "index = array2.index(MaxValue)\n",
    "MaxValue\n",
    "index"
   ]
  },
  {
   "cell_type": "code",
   "execution_count": 143,
   "id": "e90d5a69-5b85-4ca9-9b38-378dfd9a91d5",
   "metadata": {},
   "outputs": [
    {
     "data": {
      "text/plain": [
       "8"
      ]
     },
     "execution_count": 143,
     "metadata": {},
     "output_type": "execute_result"
    }
   ],
   "source": [
    "MaxValue"
   ]
  },
  {
   "cell_type": "code",
   "execution_count": 144,
   "id": "22a87a8d-02b6-4c66-8b3b-3930f80e6795",
   "metadata": {},
   "outputs": [
    {
     "data": {
      "text/plain": [
       "2"
      ]
     },
     "execution_count": 144,
     "metadata": {},
     "output_type": "execute_result"
    }
   ],
   "source": [
    "index"
   ]
  },
  {
   "cell_type": "code",
   "execution_count": 145,
   "id": "e83696a7-074c-45b2-a54a-49533d40c595",
   "metadata": {},
   "outputs": [
    {
     "data": {
      "text/plain": [
       "<map at 0x1552693c0>"
      ]
     },
     "execution_count": 145,
     "metadata": {},
     "output_type": "execute_result"
    }
   ],
   "source": [
    "n = 1234\n",
    "n = list(str(n))\n",
    "map(int, n)"
   ]
  },
  {
   "cell_type": "code",
   "execution_count": 146,
   "id": "3f4316c8-4bdd-461d-9fdd-c40308bcd099",
   "metadata": {},
   "outputs": [
    {
     "data": {
      "text/plain": [
       "[1, 2, 3, 4]"
      ]
     },
     "execution_count": 146,
     "metadata": {},
     "output_type": "execute_result"
    }
   ],
   "source": [
    "list(map(int,n))"
   ]
  },
  {
   "cell_type": "code",
   "execution_count": 147,
   "id": "af6eeb7d-7fd0-463f-9a1a-3d7550fe0130",
   "metadata": {},
   "outputs": [
    {
     "data": {
      "text/plain": [
       "10"
      ]
     },
     "execution_count": 147,
     "metadata": {},
     "output_type": "execute_result"
    }
   ],
   "source": [
    "sum(list(map(int, n)))"
   ]
  },
  {
   "cell_type": "code",
   "execution_count": 148,
   "id": "dde9b8e1-3c5e-4f7c-980c-603e21a4d0c7",
   "metadata": {},
   "outputs": [
    {
     "data": {
      "text/plain": [
       "[10, 8, 6, 4, 2]"
      ]
     },
     "execution_count": 148,
     "metadata": {},
     "output_type": "execute_result"
    }
   ],
   "source": [
    "list(map(lambda x: x*2, [5,4,3,2,1]))"
   ]
  },
  {
   "cell_type": "code",
   "execution_count": null,
   "id": "90ce5b3f-af50-48c8-90ea-f81d306b8dd5",
   "metadata": {},
   "outputs": [],
   "source": []
  }
 ],
 "metadata": {
  "kernelspec": {
   "display_name": "Python 3 (ipykernel)",
   "language": "python",
   "name": "python3"
  },
  "language_info": {
   "codemirror_mode": {
    "name": "ipython",
    "version": 3
   },
   "file_extension": ".py",
   "mimetype": "text/x-python",
   "name": "python",
   "nbconvert_exporter": "python",
   "pygments_lexer": "ipython3",
   "version": "3.11.8"
  }
 },
 "nbformat": 4,
 "nbformat_minor": 5
}
