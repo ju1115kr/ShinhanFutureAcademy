{
 "cells": [
  {
   "cell_type": "markdown",
   "id": "ea1ddc35-87a6-4727-a881-012f7705ab88",
   "metadata": {},
   "source": [
    "# 신한 퓨처 아카데미 2기 중간평가 안내\n",
    "## 중간평가 절차 및 제출 방법\n",
    "1. 중간평가는 총 10개의 문제로 구성되어 있습니다.\n",
    "2. 각 문제에 대해 요구하는 해결 방안을 코드로 작성하고, 실행 결과를 반드시 출력해야 합니다.\n",
    "3. 답안 제출은 다음과 같은 방법으로 진행합니다.\n",
    "    - 작성한 파일을 저장합니다.\n",
    "    - [File] → [Save and Export Notebook as..] → [HTML] 옵션을 선택하여 파일을 HTML 형식으로 저장합니다.\n",
    "    - 파일 이름은 ```성함_중간평가.html```로 변경합니다.\n",
    "    - 저장된 파일을 Slack을 통해 곽경일 강사의 개인 DM으로 제출해주세요."
   ]
  },
  {
   "cell_type": "markdown",
   "id": "14ad1ed1-7f69-4169-9c00-f0245d8acf9d",
   "metadata": {},
   "source": [
    "### 파이썬 기초 프로그래밍 문법"
   ]
  },
  {
   "cell_type": "markdown",
   "id": "a149d2e5-fa12-40ef-9e3e-ec1497d1ffdf",
   "metadata": {},
   "source": [
    "1. 문자열을 입력받아 그 문자열을 거꾸로 출력하는 프로그램을 작성하세요."
   ]
  },
  {
   "cell_type": "code",
   "execution_count": 1,
   "id": "03e29ed4-4f7b-43f3-be50-159177facc9e",
   "metadata": {
    "tags": []
   },
   "outputs": [
    {
     "name": "stdin",
     "output_type": "stream",
     "text": [
      "input :  12345\n"
     ]
    },
    {
     "data": {
      "text/plain": [
       "'54321'"
      ]
     },
     "execution_count": 1,
     "metadata": {},
     "output_type": "execute_result"
    }
   ],
   "source": [
    "text = input(\"input : \")\n",
    "text[::-1]"
   ]
  },
  {
   "cell_type": "markdown",
   "id": "b76b0364-fbd7-443b-a3f3-910a48929c9f",
   "metadata": {},
   "source": [
    "2. 문자열을 입력받아 연속되는 문자를 압축하여 출력하는 프로그램을 작성하세요.  \n",
    "ex) aaabbccccdaa -> a3b2c4d1a2"
   ]
  },
  {
   "cell_type": "code",
   "execution_count": 20,
   "id": "90be2423-46e8-4003-a802-396e19cd4e37",
   "metadata": {
    "tags": []
   },
   "outputs": [
    {
     "name": "stdin",
     "output_type": "stream",
     "text": [
      "input :  aaabbccccdaa\n"
     ]
    },
    {
     "name": "stdout",
     "output_type": "stream",
     "text": [
      "a3b2c4d1a2\n"
     ]
    }
   ],
   "source": [
    "text = input(\"input : \")\n",
    "result = []\n",
    "count = 1\n",
    "\n",
    "for i in range(1, len(text)):\n",
    "    if text[i] == text[i-1]:\n",
    "        count += 1\n",
    "    else:\n",
    "        result.append(text[i-1] + str(count))\n",
    "        count = 1\n",
    "        \n",
    "result.append(text[-1] + str(count))\n",
    "print(''.join(result))"
   ]
  },
  {
   "cell_type": "markdown",
   "id": "7286dba9-5e4d-4a3d-9855-90ad3cf34e16",
   "metadata": {},
   "source": [
    "3. 정수를 입력받아 그 수가 소수인지 아닌지 판별하는 프로그램을 작성하세요.  \n",
    "(소수는 1보다 큰 자연수 중 1과 자기 자신만을 약수로 가지는 수)"
   ]
  },
  {
   "cell_type": "code",
   "execution_count": 93,
   "id": "f7519c55-d284-4327-8344-b9e2182a64ee",
   "metadata": {
    "tags": []
   },
   "outputs": [
    {
     "name": "stdin",
     "output_type": "stream",
     "text": [
      "input :  4\n"
     ]
    },
    {
     "name": "stdout",
     "output_type": "stream",
     "text": [
      "소수가 아닙니다\n"
     ]
    }
   ],
   "source": [
    "text = input(\"input : \")\n",
    "num = int(text)\n",
    "\n",
    "def prime(num):\n",
    "    if num <= 1: return False \n",
    "    if num <= 3: return True  \n",
    "    if num % 2 == 0 or num % 3 == 0: return False \n",
    "\n",
    "    i = 5\n",
    "    while i * i <= num:\n",
    "        if num % i == 0 or num % (i + 2) == 0: return False\n",
    "        i += 6\n",
    "\n",
    "    return True  \n",
    "\n",
    "if prime(num) == True: \n",
    "    print(\"소수입니다\")\n",
    "else: \n",
    "    print(\"소수가 아닙니다\")"
   ]
  },
  {
   "cell_type": "markdown",
   "id": "6c694c80-36ef-46ff-847b-5ddf8983db0a",
   "metadata": {},
   "source": [
    "### 판다스 데이터 분석\n",
    "sample.csv 파일을 불러와서 진행합니다."
   ]
  },
  {
   "cell_type": "markdown",
   "id": "f425b62f-fb5c-4851-952c-883976252df2",
   "metadata": {},
   "source": [
    "4. Age가 30 이상 40 이하인 모든 사람들의 Name, Department를 출력하세요."
   ]
  },
  {
   "cell_type": "code",
   "execution_count": 134,
   "id": "f063f62a-62ad-494a-a596-299ef65a303e",
   "metadata": {
    "tags": []
   },
   "outputs": [
    {
     "data": {
      "text/html": [
       "<div>\n",
       "<style scoped>\n",
       "    .dataframe tbody tr th:only-of-type {\n",
       "        vertical-align: middle;\n",
       "    }\n",
       "\n",
       "    .dataframe tbody tr th {\n",
       "        vertical-align: top;\n",
       "    }\n",
       "\n",
       "    .dataframe thead th {\n",
       "        text-align: right;\n",
       "    }\n",
       "</style>\n",
       "<table border=\"1\" class=\"dataframe\">\n",
       "  <thead>\n",
       "    <tr style=\"text-align: right;\">\n",
       "      <th></th>\n",
       "      <th>Name</th>\n",
       "      <th>Department</th>\n",
       "    </tr>\n",
       "  </thead>\n",
       "  <tbody>\n",
       "    <tr>\n",
       "      <th>2</th>\n",
       "      <td>Person_3</td>\n",
       "      <td>Sales</td>\n",
       "    </tr>\n",
       "    <tr>\n",
       "      <th>4</th>\n",
       "      <td>Person_5</td>\n",
       "      <td>IT</td>\n",
       "    </tr>\n",
       "    <tr>\n",
       "      <th>6</th>\n",
       "      <td>Person_7</td>\n",
       "      <td>Finance</td>\n",
       "    </tr>\n",
       "    <tr>\n",
       "      <th>8</th>\n",
       "      <td>Person_9</td>\n",
       "      <td>Finance</td>\n",
       "    </tr>\n",
       "    <tr>\n",
       "      <th>9</th>\n",
       "      <td>Person_10</td>\n",
       "      <td>Sales</td>\n",
       "    </tr>\n",
       "    <tr>\n",
       "      <th>21</th>\n",
       "      <td>Person_22</td>\n",
       "      <td>HR</td>\n",
       "    </tr>\n",
       "    <tr>\n",
       "      <th>23</th>\n",
       "      <td>Person_24</td>\n",
       "      <td>Sales</td>\n",
       "    </tr>\n",
       "    <tr>\n",
       "      <th>28</th>\n",
       "      <td>Person_29</td>\n",
       "      <td>Sales</td>\n",
       "    </tr>\n",
       "    <tr>\n",
       "      <th>29</th>\n",
       "      <td>Person_30</td>\n",
       "      <td>IT</td>\n",
       "    </tr>\n",
       "    <tr>\n",
       "      <th>33</th>\n",
       "      <td>Person_34</td>\n",
       "      <td>IT</td>\n",
       "    </tr>\n",
       "    <tr>\n",
       "      <th>36</th>\n",
       "      <td>Person_37</td>\n",
       "      <td>Sales</td>\n",
       "    </tr>\n",
       "    <tr>\n",
       "      <th>39</th>\n",
       "      <td>Person_40</td>\n",
       "      <td>IT</td>\n",
       "    </tr>\n",
       "    <tr>\n",
       "      <th>43</th>\n",
       "      <td>Person_44</td>\n",
       "      <td>IT</td>\n",
       "    </tr>\n",
       "    <tr>\n",
       "      <th>48</th>\n",
       "      <td>Person_49</td>\n",
       "      <td>HR</td>\n",
       "    </tr>\n",
       "    <tr>\n",
       "      <th>49</th>\n",
       "      <td>Person_50</td>\n",
       "      <td>HR</td>\n",
       "    </tr>\n",
       "    <tr>\n",
       "      <th>57</th>\n",
       "      <td>Person_58</td>\n",
       "      <td>Finance</td>\n",
       "    </tr>\n",
       "    <tr>\n",
       "      <th>62</th>\n",
       "      <td>Person_63</td>\n",
       "      <td>Marketing</td>\n",
       "    </tr>\n",
       "    <tr>\n",
       "      <th>64</th>\n",
       "      <td>Person_65</td>\n",
       "      <td>Finance</td>\n",
       "    </tr>\n",
       "    <tr>\n",
       "      <th>66</th>\n",
       "      <td>Person_67</td>\n",
       "      <td>IT</td>\n",
       "    </tr>\n",
       "    <tr>\n",
       "      <th>69</th>\n",
       "      <td>Person_70</td>\n",
       "      <td>Marketing</td>\n",
       "    </tr>\n",
       "    <tr>\n",
       "      <th>70</th>\n",
       "      <td>Person_71</td>\n",
       "      <td>IT</td>\n",
       "    </tr>\n",
       "    <tr>\n",
       "      <th>71</th>\n",
       "      <td>Person_72</td>\n",
       "      <td>IT</td>\n",
       "    </tr>\n",
       "    <tr>\n",
       "      <th>77</th>\n",
       "      <td>Person_78</td>\n",
       "      <td>HR</td>\n",
       "    </tr>\n",
       "    <tr>\n",
       "      <th>86</th>\n",
       "      <td>Person_87</td>\n",
       "      <td>Finance</td>\n",
       "    </tr>\n",
       "    <tr>\n",
       "      <th>87</th>\n",
       "      <td>Person_88</td>\n",
       "      <td>Marketing</td>\n",
       "    </tr>\n",
       "    <tr>\n",
       "      <th>99</th>\n",
       "      <td>Person_100</td>\n",
       "      <td>HR</td>\n",
       "    </tr>\n",
       "  </tbody>\n",
       "</table>\n",
       "</div>"
      ],
      "text/plain": [
       "          Name Department\n",
       "2     Person_3      Sales\n",
       "4     Person_5         IT\n",
       "6     Person_7    Finance\n",
       "8     Person_9    Finance\n",
       "9    Person_10      Sales\n",
       "21   Person_22         HR\n",
       "23   Person_24      Sales\n",
       "28   Person_29      Sales\n",
       "29   Person_30         IT\n",
       "33   Person_34         IT\n",
       "36   Person_37      Sales\n",
       "39   Person_40         IT\n",
       "43   Person_44         IT\n",
       "48   Person_49         HR\n",
       "49   Person_50         HR\n",
       "57   Person_58    Finance\n",
       "62   Person_63  Marketing\n",
       "64   Person_65    Finance\n",
       "66   Person_67         IT\n",
       "69   Person_70  Marketing\n",
       "70   Person_71         IT\n",
       "71   Person_72         IT\n",
       "77   Person_78         HR\n",
       "86   Person_87    Finance\n",
       "87   Person_88  Marketing\n",
       "99  Person_100         HR"
      ]
     },
     "execution_count": 134,
     "metadata": {},
     "output_type": "execute_result"
    }
   ],
   "source": [
    "import pandas as pd\n",
    "sample = pd.read_csv(\"sample.csv\")\n",
    "sample[ (sample[\"Age\"] >= 30) & (sample[\"Age\"]<=40) ][[\"Name\",\"Department\"]]"
   ]
  },
  {
   "cell_type": "markdown",
   "id": "6b9b04ad-3ac9-4acd-b4b1-ccd9a5da3de8",
   "metadata": {},
   "source": [
    "5. ID가 홀수인 사람들만의 Name, Age, Salary를 출력하세요."
   ]
  },
  {
   "cell_type": "code",
   "execution_count": 129,
   "id": "63f82796-dd5a-4ae5-8288-6b3e6f135ea2",
   "metadata": {
    "tags": []
   },
   "outputs": [
    {
     "data": {
      "text/html": [
       "<div>\n",
       "<style scoped>\n",
       "    .dataframe tbody tr th:only-of-type {\n",
       "        vertical-align: middle;\n",
       "    }\n",
       "\n",
       "    .dataframe tbody tr th {\n",
       "        vertical-align: top;\n",
       "    }\n",
       "\n",
       "    .dataframe thead th {\n",
       "        text-align: right;\n",
       "    }\n",
       "</style>\n",
       "<table border=\"1\" class=\"dataframe\">\n",
       "  <thead>\n",
       "    <tr style=\"text-align: right;\">\n",
       "      <th></th>\n",
       "      <th>Name</th>\n",
       "      <th>Age</th>\n",
       "      <th>Salary</th>\n",
       "    </tr>\n",
       "  </thead>\n",
       "  <tbody>\n",
       "    <tr>\n",
       "      <th>0</th>\n",
       "      <td>Person_1</td>\n",
       "      <td>58</td>\n",
       "      <td>6272</td>\n",
       "    </tr>\n",
       "    <tr>\n",
       "      <th>2</th>\n",
       "      <td>Person_3</td>\n",
       "      <td>34</td>\n",
       "      <td>7282</td>\n",
       "    </tr>\n",
       "    <tr>\n",
       "      <th>4</th>\n",
       "      <td>Person_5</td>\n",
       "      <td>40</td>\n",
       "      <td>5511</td>\n",
       "    </tr>\n",
       "    <tr>\n",
       "      <th>6</th>\n",
       "      <td>Person_7</td>\n",
       "      <td>38</td>\n",
       "      <td>3659</td>\n",
       "    </tr>\n",
       "    <tr>\n",
       "      <th>8</th>\n",
       "      <td>Person_9</td>\n",
       "      <td>30</td>\n",
       "      <td>9051</td>\n",
       "    </tr>\n",
       "    <tr>\n",
       "      <th>10</th>\n",
       "      <td>Person_11</td>\n",
       "      <td>43</td>\n",
       "      <td>4369</td>\n",
       "    </tr>\n",
       "    <tr>\n",
       "      <th>12</th>\n",
       "      <td>Person_13</td>\n",
       "      <td>59</td>\n",
       "      <td>8630</td>\n",
       "    </tr>\n",
       "    <tr>\n",
       "      <th>14</th>\n",
       "      <td>Person_15</td>\n",
       "      <td>22</td>\n",
       "      <td>6219</td>\n",
       "    </tr>\n",
       "    <tr>\n",
       "      <th>16</th>\n",
       "      <td>Person_17</td>\n",
       "      <td>21</td>\n",
       "      <td>4734</td>\n",
       "    </tr>\n",
       "    <tr>\n",
       "      <th>18</th>\n",
       "      <td>Person_19</td>\n",
       "      <td>49</td>\n",
       "      <td>3488</td>\n",
       "    </tr>\n",
       "    <tr>\n",
       "      <th>20</th>\n",
       "      <td>Person_21</td>\n",
       "      <td>21</td>\n",
       "      <td>4959</td>\n",
       "    </tr>\n",
       "    <tr>\n",
       "      <th>22</th>\n",
       "      <td>Person_23</td>\n",
       "      <td>52</td>\n",
       "      <td>9694</td>\n",
       "    </tr>\n",
       "    <tr>\n",
       "      <th>24</th>\n",
       "      <td>Person_25</td>\n",
       "      <td>41</td>\n",
       "      <td>5919</td>\n",
       "    </tr>\n",
       "    <tr>\n",
       "      <th>26</th>\n",
       "      <td>Person_27</td>\n",
       "      <td>46</td>\n",
       "      <td>4802</td>\n",
       "    </tr>\n",
       "    <tr>\n",
       "      <th>28</th>\n",
       "      <td>Person_29</td>\n",
       "      <td>35</td>\n",
       "      <td>9065</td>\n",
       "    </tr>\n",
       "    <tr>\n",
       "      <th>30</th>\n",
       "      <td>Person_31</td>\n",
       "      <td>22</td>\n",
       "      <td>8534</td>\n",
       "    </tr>\n",
       "    <tr>\n",
       "      <th>32</th>\n",
       "      <td>Person_33</td>\n",
       "      <td>26</td>\n",
       "      <td>6369</td>\n",
       "    </tr>\n",
       "    <tr>\n",
       "      <th>34</th>\n",
       "      <td>Person_35</td>\n",
       "      <td>28</td>\n",
       "      <td>3262</td>\n",
       "    </tr>\n",
       "    <tr>\n",
       "      <th>36</th>\n",
       "      <td>Person_37</td>\n",
       "      <td>37</td>\n",
       "      <td>9287</td>\n",
       "    </tr>\n",
       "    <tr>\n",
       "      <th>38</th>\n",
       "      <td>Person_39</td>\n",
       "      <td>44</td>\n",
       "      <td>3623</td>\n",
       "    </tr>\n",
       "    <tr>\n",
       "      <th>40</th>\n",
       "      <td>Person_41</td>\n",
       "      <td>28</td>\n",
       "      <td>6643</td>\n",
       "    </tr>\n",
       "    <tr>\n",
       "      <th>42</th>\n",
       "      <td>Person_43</td>\n",
       "      <td>21</td>\n",
       "      <td>5049</td>\n",
       "    </tr>\n",
       "    <tr>\n",
       "      <th>44</th>\n",
       "      <td>Person_45</td>\n",
       "      <td>47</td>\n",
       "      <td>9397</td>\n",
       "    </tr>\n",
       "    <tr>\n",
       "      <th>46</th>\n",
       "      <td>Person_47</td>\n",
       "      <td>27</td>\n",
       "      <td>7548</td>\n",
       "    </tr>\n",
       "    <tr>\n",
       "      <th>48</th>\n",
       "      <td>Person_49</td>\n",
       "      <td>33</td>\n",
       "      <td>8279</td>\n",
       "    </tr>\n",
       "    <tr>\n",
       "      <th>50</th>\n",
       "      <td>Person_51</td>\n",
       "      <td>55</td>\n",
       "      <td>5056</td>\n",
       "    </tr>\n",
       "    <tr>\n",
       "      <th>52</th>\n",
       "      <td>Person_53</td>\n",
       "      <td>23</td>\n",
       "      <td>4682</td>\n",
       "    </tr>\n",
       "    <tr>\n",
       "      <th>54</th>\n",
       "      <td>Person_55</td>\n",
       "      <td>25</td>\n",
       "      <td>5255</td>\n",
       "    </tr>\n",
       "    <tr>\n",
       "      <th>56</th>\n",
       "      <td>Person_57</td>\n",
       "      <td>48</td>\n",
       "      <td>7499</td>\n",
       "    </tr>\n",
       "    <tr>\n",
       "      <th>58</th>\n",
       "      <td>Person_59</td>\n",
       "      <td>45</td>\n",
       "      <td>9197</td>\n",
       "    </tr>\n",
       "    <tr>\n",
       "      <th>60</th>\n",
       "      <td>Person_61</td>\n",
       "      <td>29</td>\n",
       "      <td>4696</td>\n",
       "    </tr>\n",
       "    <tr>\n",
       "      <th>62</th>\n",
       "      <td>Person_63</td>\n",
       "      <td>33</td>\n",
       "      <td>7723</td>\n",
       "    </tr>\n",
       "    <tr>\n",
       "      <th>64</th>\n",
       "      <td>Person_65</td>\n",
       "      <td>34</td>\n",
       "      <td>4648</td>\n",
       "    </tr>\n",
       "    <tr>\n",
       "      <th>66</th>\n",
       "      <td>Person_67</td>\n",
       "      <td>33</td>\n",
       "      <td>4445</td>\n",
       "    </tr>\n",
       "    <tr>\n",
       "      <th>68</th>\n",
       "      <td>Person_69</td>\n",
       "      <td>59</td>\n",
       "      <td>6923</td>\n",
       "    </tr>\n",
       "    <tr>\n",
       "      <th>70</th>\n",
       "      <td>Person_71</td>\n",
       "      <td>35</td>\n",
       "      <td>6183</td>\n",
       "    </tr>\n",
       "    <tr>\n",
       "      <th>72</th>\n",
       "      <td>Person_73</td>\n",
       "      <td>43</td>\n",
       "      <td>8592</td>\n",
       "    </tr>\n",
       "    <tr>\n",
       "      <th>74</th>\n",
       "      <td>Person_75</td>\n",
       "      <td>44</td>\n",
       "      <td>5200</td>\n",
       "    </tr>\n",
       "    <tr>\n",
       "      <th>76</th>\n",
       "      <td>Person_77</td>\n",
       "      <td>48</td>\n",
       "      <td>5961</td>\n",
       "    </tr>\n",
       "    <tr>\n",
       "      <th>78</th>\n",
       "      <td>Person_79</td>\n",
       "      <td>20</td>\n",
       "      <td>7973</td>\n",
       "    </tr>\n",
       "    <tr>\n",
       "      <th>80</th>\n",
       "      <td>Person_81</td>\n",
       "      <td>26</td>\n",
       "      <td>6777</td>\n",
       "    </tr>\n",
       "    <tr>\n",
       "      <th>82</th>\n",
       "      <td>Person_83</td>\n",
       "      <td>43</td>\n",
       "      <td>6234</td>\n",
       "    </tr>\n",
       "    <tr>\n",
       "      <th>84</th>\n",
       "      <td>Person_85</td>\n",
       "      <td>27</td>\n",
       "      <td>3956</td>\n",
       "    </tr>\n",
       "    <tr>\n",
       "      <th>86</th>\n",
       "      <td>Person_87</td>\n",
       "      <td>30</td>\n",
       "      <td>7067</td>\n",
       "    </tr>\n",
       "    <tr>\n",
       "      <th>88</th>\n",
       "      <td>Person_89</td>\n",
       "      <td>27</td>\n",
       "      <td>8699</td>\n",
       "    </tr>\n",
       "    <tr>\n",
       "      <th>90</th>\n",
       "      <td>Person_91</td>\n",
       "      <td>54</td>\n",
       "      <td>7493</td>\n",
       "    </tr>\n",
       "    <tr>\n",
       "      <th>92</th>\n",
       "      <td>Person_93</td>\n",
       "      <td>24</td>\n",
       "      <td>7911</td>\n",
       "    </tr>\n",
       "    <tr>\n",
       "      <th>94</th>\n",
       "      <td>Person_95</td>\n",
       "      <td>60</td>\n",
       "      <td>4527</td>\n",
       "    </tr>\n",
       "    <tr>\n",
       "      <th>96</th>\n",
       "      <td>Person_97</td>\n",
       "      <td>26</td>\n",
       "      <td>8511</td>\n",
       "    </tr>\n",
       "    <tr>\n",
       "      <th>98</th>\n",
       "      <td>Person_99</td>\n",
       "      <td>27</td>\n",
       "      <td>4218</td>\n",
       "    </tr>\n",
       "  </tbody>\n",
       "</table>\n",
       "</div>"
      ],
      "text/plain": [
       "         Name  Age  Salary\n",
       "0    Person_1   58    6272\n",
       "2    Person_3   34    7282\n",
       "4    Person_5   40    5511\n",
       "6    Person_7   38    3659\n",
       "8    Person_9   30    9051\n",
       "10  Person_11   43    4369\n",
       "12  Person_13   59    8630\n",
       "14  Person_15   22    6219\n",
       "16  Person_17   21    4734\n",
       "18  Person_19   49    3488\n",
       "20  Person_21   21    4959\n",
       "22  Person_23   52    9694\n",
       "24  Person_25   41    5919\n",
       "26  Person_27   46    4802\n",
       "28  Person_29   35    9065\n",
       "30  Person_31   22    8534\n",
       "32  Person_33   26    6369\n",
       "34  Person_35   28    3262\n",
       "36  Person_37   37    9287\n",
       "38  Person_39   44    3623\n",
       "40  Person_41   28    6643\n",
       "42  Person_43   21    5049\n",
       "44  Person_45   47    9397\n",
       "46  Person_47   27    7548\n",
       "48  Person_49   33    8279\n",
       "50  Person_51   55    5056\n",
       "52  Person_53   23    4682\n",
       "54  Person_55   25    5255\n",
       "56  Person_57   48    7499\n",
       "58  Person_59   45    9197\n",
       "60  Person_61   29    4696\n",
       "62  Person_63   33    7723\n",
       "64  Person_65   34    4648\n",
       "66  Person_67   33    4445\n",
       "68  Person_69   59    6923\n",
       "70  Person_71   35    6183\n",
       "72  Person_73   43    8592\n",
       "74  Person_75   44    5200\n",
       "76  Person_77   48    5961\n",
       "78  Person_79   20    7973\n",
       "80  Person_81   26    6777\n",
       "82  Person_83   43    6234\n",
       "84  Person_85   27    3956\n",
       "86  Person_87   30    7067\n",
       "88  Person_89   27    8699\n",
       "90  Person_91   54    7493\n",
       "92  Person_93   24    7911\n",
       "94  Person_95   60    4527\n",
       "96  Person_97   26    8511\n",
       "98  Person_99   27    4218"
      ]
     },
     "execution_count": 129,
     "metadata": {},
     "output_type": "execute_result"
    }
   ],
   "source": [
    "# 방법1\n",
    "sample[sample.ID % 2==1][[\"Name\", \"Age\", \"Salary\"]]\n",
    "\n",
    "# 방법2\n",
    "sample.query(\"ID%2==1\")[[\"Name\", \"Age\", \"Salary\"]]"
   ]
  },
  {
   "cell_type": "markdown",
   "id": "d6c2deca-899b-4be3-bbb8-f98f851e185e",
   "metadata": {},
   "source": [
    "6. 각 부서별 평균 연봉을 구하고, 연봉이 높은 순으로 정렬하여 출력하세요."
   ]
  },
  {
   "cell_type": "code",
   "execution_count": 72,
   "id": "e2b64464-f320-458c-aa22-72c58edf0f3c",
   "metadata": {
    "tags": []
   },
   "outputs": [
    {
     "data": {
      "text/html": [
       "<div>\n",
       "<style scoped>\n",
       "    .dataframe tbody tr th:only-of-type {\n",
       "        vertical-align: middle;\n",
       "    }\n",
       "\n",
       "    .dataframe tbody tr th {\n",
       "        vertical-align: top;\n",
       "    }\n",
       "\n",
       "    .dataframe thead th {\n",
       "        text-align: right;\n",
       "    }\n",
       "</style>\n",
       "<table border=\"1\" class=\"dataframe\">\n",
       "  <thead>\n",
       "    <tr style=\"text-align: right;\">\n",
       "      <th></th>\n",
       "      <th>mean</th>\n",
       "    </tr>\n",
       "    <tr>\n",
       "      <th>Department</th>\n",
       "      <th></th>\n",
       "    </tr>\n",
       "  </thead>\n",
       "  <tbody>\n",
       "    <tr>\n",
       "      <th>Sales</th>\n",
       "      <td>7341.000000</td>\n",
       "    </tr>\n",
       "    <tr>\n",
       "      <th>IT</th>\n",
       "      <td>6909.809524</td>\n",
       "    </tr>\n",
       "    <tr>\n",
       "      <th>HR</th>\n",
       "      <td>6536.560000</td>\n",
       "    </tr>\n",
       "    <tr>\n",
       "      <th>Finance</th>\n",
       "      <td>6534.000000</td>\n",
       "    </tr>\n",
       "    <tr>\n",
       "      <th>Marketing</th>\n",
       "      <td>5932.266667</td>\n",
       "    </tr>\n",
       "  </tbody>\n",
       "</table>\n",
       "</div>"
      ],
      "text/plain": [
       "                   mean\n",
       "Department             \n",
       "Sales       7341.000000\n",
       "IT          6909.809524\n",
       "HR          6536.560000\n",
       "Finance     6534.000000\n",
       "Marketing   5932.266667"
      ]
     },
     "execution_count": 72,
     "metadata": {},
     "output_type": "execute_result"
    }
   ],
   "source": [
    "sample.groupby(\"Department\")[\"Salary\"]\\\n",
    "    .agg(['mean'])\\\n",
    "    .sort_values(\"mean\", ascending=False)"
   ]
  },
  {
   "cell_type": "markdown",
   "id": "e063cfc4-60a3-4fad-a4e1-b170edda3ea0",
   "metadata": {},
   "source": [
    "7. 각 부서별로 가장 연봉이 높은 직원의 이름과 연봉을 출력하세요."
   ]
  },
  {
   "cell_type": "code",
   "execution_count": 138,
   "id": "7747d471-45d5-493a-8675-e7bee23c167a",
   "metadata": {
    "tags": []
   },
   "outputs": [
    {
     "data": {
      "text/html": [
       "<div>\n",
       "<style scoped>\n",
       "    .dataframe tbody tr th:only-of-type {\n",
       "        vertical-align: middle;\n",
       "    }\n",
       "\n",
       "    .dataframe tbody tr th {\n",
       "        vertical-align: top;\n",
       "    }\n",
       "\n",
       "    .dataframe thead th {\n",
       "        text-align: right;\n",
       "    }\n",
       "</style>\n",
       "<table border=\"1\" class=\"dataframe\">\n",
       "  <thead>\n",
       "    <tr style=\"text-align: right;\">\n",
       "      <th></th>\n",
       "      <th>Name</th>\n",
       "      <th>Salary</th>\n",
       "    </tr>\n",
       "  </thead>\n",
       "  <tbody>\n",
       "    <tr>\n",
       "      <th>27</th>\n",
       "      <td>Person_28</td>\n",
       "      <td>9616</td>\n",
       "    </tr>\n",
       "    <tr>\n",
       "      <th>37</th>\n",
       "      <td>Person_38</td>\n",
       "      <td>9489</td>\n",
       "    </tr>\n",
       "    <tr>\n",
       "      <th>53</th>\n",
       "      <td>Person_54</td>\n",
       "      <td>9959</td>\n",
       "    </tr>\n",
       "    <tr>\n",
       "      <th>35</th>\n",
       "      <td>Person_36</td>\n",
       "      <td>8883</td>\n",
       "    </tr>\n",
       "    <tr>\n",
       "      <th>9</th>\n",
       "      <td>Person_10</td>\n",
       "      <td>9546</td>\n",
       "    </tr>\n",
       "  </tbody>\n",
       "</table>\n",
       "</div>"
      ],
      "text/plain": [
       "         Name  Salary\n",
       "27  Person_28    9616\n",
       "37  Person_38    9489\n",
       "53  Person_54    9959\n",
       "35  Person_36    8883\n",
       "9   Person_10    9546"
      ]
     },
     "execution_count": 138,
     "metadata": {},
     "output_type": "execute_result"
    }
   ],
   "source": [
    "sample_df = pd.DataFrame(sample)\n",
    "idx = sample_df.groupby(\"Department\")['Salary'].idxmax()\n",
    "sample_df.iloc[idx][[\"Name\",\"Salary\"]]"
   ]
  },
  {
   "cell_type": "markdown",
   "id": "dddba9f4-d886-41d0-b76b-115a8e1e4644",
   "metadata": {},
   "source": [
    "8. Age 컬럼의 분포를 히스토그램으로 나타내세요."
   ]
  },
  {
   "cell_type": "code",
   "execution_count": 143,
   "id": "a77dab36-9e5a-408d-9cfe-5fb9e19080ec",
   "metadata": {
    "tags": []
   },
   "outputs": [
    {
     "name": "stderr",
     "output_type": "stream",
     "text": [
      "/opt/anaconda3/lib/python3.11/site-packages/seaborn/_oldcore.py:1119: FutureWarning: use_inf_as_na option is deprecated and will be removed in a future version. Convert inf values to NaN before operating instead.\n",
      "  with pd.option_context('mode.use_inf_as_na', True):\n"
     ]
    },
    {
     "data": {
      "text/plain": [
       "<Axes: xlabel='Age', ylabel='Count'>"
      ]
     },
     "execution_count": 143,
     "metadata": {},
     "output_type": "execute_result"
    },
    {
     "data": {
      "image/png": "[encoded data removed]",
      "text/plain": [
       "<Figure size 640x480 with 1 Axes>"
      ]
     },
     "metadata": {},
     "output_type": "display_data"
    }
   ],
   "source": [
    "import matplotlib.pyplot as plt \n",
    "import seaborn as sns\n",
    "\n",
    "sns.set_style('whitegrid')\n",
    "sns.histplot(sample, x='Age', bins=40, kde=True)"
   ]
  },
  {
   "cell_type": "markdown",
   "id": "23487df9-219e-4bd8-b8d4-b6b00be4cfa3",
   "metadata": {},
   "source": [
    "9. 각 부서별 Salary의 분포를 박스 플롯으로 나타내세요. 이를 통해 각 부서의 연봉 분포 차이를 비교해 보세요."
   ]
  },
  {
   "cell_type": "code",
   "execution_count": 144,
   "id": "b0f6fce2-a0b1-43b9-83fb-996f3045cb72",
   "metadata": {
    "tags": []
   },
   "outputs": [
    {
     "data": {
      "text/plain": [
       "<Axes: xlabel='Department', ylabel='Salary'>"
      ]
     },
     "execution_count": 144,
     "metadata": {},
     "output_type": "execute_result"
    },
    {
     "data": {
      "image/png": "[encoded data removed]",
      "text/plain": [
       "<Figure size 640x480 with 1 Axes>"
      ]
     },
     "metadata": {},
     "output_type": "display_data"
    }
   ],
   "source": [
    "sns.boxplot(data=sample, x=\"Department\", y=\"Salary\")\n",
    "\n",
    "# 결론 : 가장 연봉 중위값이 높은 부서는 Sales부서, 낮은 부서는 HR부서임"
   ]
  },
  {
   "cell_type": "markdown",
   "id": "8eba4bc9-62f9-42fa-ba24-c530fa7e43a8",
   "metadata": {},
   "source": [
    "10. 각 부서별 직원 수를 나타내는 카운트 플롯을 그리세요."
   ]
  },
  {
   "cell_type": "code",
   "execution_count": 87,
   "id": "df42372e-d3da-4da0-9ef0-3ddfeb695923",
   "metadata": {
    "tags": []
   },
   "outputs": [
    {
     "data": {
      "text/plain": [
       "<Axes: xlabel='Department', ylabel='count'>"
      ]
     },
     "execution_count": 87,
     "metadata": {},
     "output_type": "execute_result"
    },
    {
     "data": {
      "image/png": "[encoded data removed]",
      "text/plain": [
       "<Figure size 640x480 with 1 Axes>"
      ]
     },
     "metadata": {},
     "output_type": "display_data"
    }
   ],
   "source": [
    "sns.countplot(sample, x='Department')"
   ]
  },
  {
   "cell_type": "code",
   "execution_count": 5,
   "id": "6ca8f287-1b6a-40ca-b260-01e2075a3e6f",
   "metadata": {},
   "outputs": [
    {
     "data": {
      "text/html": [
       "<div>\n",
       "<style scoped>\n",
       "    .dataframe tbody tr th:only-of-type {\n",
       "        vertical-align: middle;\n",
       "    }\n",
       "\n",
       "    .dataframe tbody tr th {\n",
       "        vertical-align: top;\n",
       "    }\n",
       "\n",
       "    .dataframe thead th {\n",
       "        text-align: right;\n",
       "    }\n",
       "</style>\n",
       "<table border=\"1\" class=\"dataframe\">\n",
       "  <thead>\n",
       "    <tr style=\"text-align: right;\">\n",
       "      <th></th>\n",
       "      <th>ID</th>\n",
       "      <th>Name</th>\n",
       "      <th>Age</th>\n",
       "      <th>Department</th>\n",
       "      <th>Salary</th>\n",
       "    </tr>\n",
       "  </thead>\n",
       "  <tbody>\n",
       "    <tr>\n",
       "      <th>0</th>\n",
       "      <td>1</td>\n",
       "      <td>Person_1</td>\n",
       "      <td>58</td>\n",
       "      <td>Marketing</td>\n",
       "      <td>6272</td>\n",
       "    </tr>\n",
       "    <tr>\n",
       "      <th>1</th>\n",
       "      <td>2</td>\n",
       "      <td>Person_2</td>\n",
       "      <td>48</td>\n",
       "      <td>HR</td>\n",
       "      <td>4147</td>\n",
       "    </tr>\n",
       "    <tr>\n",
       "      <th>2</th>\n",
       "      <td>3</td>\n",
       "      <td>Person_3</td>\n",
       "      <td>34</td>\n",
       "      <td>Sales</td>\n",
       "      <td>7282</td>\n",
       "    </tr>\n",
       "    <tr>\n",
       "      <th>3</th>\n",
       "      <td>4</td>\n",
       "      <td>Person_4</td>\n",
       "      <td>27</td>\n",
       "      <td>Finance</td>\n",
       "      <td>6397</td>\n",
       "    </tr>\n",
       "    <tr>\n",
       "      <th>4</th>\n",
       "      <td>5</td>\n",
       "      <td>Person_5</td>\n",
       "      <td>40</td>\n",
       "      <td>IT</td>\n",
       "      <td>5511</td>\n",
       "    </tr>\n",
       "  </tbody>\n",
       "</table>\n",
       "</div>"
      ],
      "text/plain": [
       "   ID      Name  Age Department  Salary\n",
       "0   1  Person_1   58  Marketing    6272\n",
       "1   2  Person_2   48         HR    4147\n",
       "2   3  Person_3   34      Sales    7282\n",
       "3   4  Person_4   27    Finance    6397\n",
       "4   5  Person_5   40         IT    5511"
      ]
     },
     "execution_count": 5,
     "metadata": {},
     "output_type": "execute_result"
    }
   ],
   "source": [
    "import pandas as pd\n",
    "import numpy as np\n",
    "\n",
    "# 샘플 데이터 생성\n",
    "np.random.seed(42)  # 결과 일관성을 위해 seed 설정\n",
    "\n",
    "data = {\n",
    "    'ID': np.arange(1, 101),\n",
    "    'Name': [f\"Person_{i}\" for i in range(1, 101)],\n",
    "    'Age': np.random.randint(20, 61, size=100),\n",
    "    'Department': np.random.choice(['HR', 'Marketing', 'Finance', 'IT', 'Sales'], size=100),\n",
    "    'Salary': np.random.randint(3000, 10001, size=100)\n",
    "}\n",
    "\n",
    "df = pd.DataFrame(data)\n",
    "df.head()  # 생성된 데이터의 첫 5개 행 보기"
   ]
  },
  {
   "cell_type": "code",
   "execution_count": 6,
   "id": "cdcdd960-a874-46f7-bf4f-06a73003c9c0",
   "metadata": {},
   "outputs": [],
   "source": [
    "df.to_csv(\"sample.csv\", index = False)"
   ]
  },
  {
   "cell_type": "code",
   "execution_count": null,
   "id": "7b2839bf-1ca7-4817-af1d-e73774e7da75",
   "metadata": {},
   "outputs": [],
   "source": []
  }
 ],
 "metadata": {
  "kernelspec": {
   "display_name": "Python 3 (ipykernel)",
   "language": "python",
   "name": "python3"
  },
  "language_info": {
   "codemirror_mode": {
    "name": "ipython",
    "version": 3
   },
   "file_extension": ".py",
   "mimetype": "text/x-python",
   "name": "python",
   "nbconvert_exporter": "python",
   "pygments_lexer": "ipython3",
   "version": "3.11.8"
  }
 },
 "nbformat": 4,
 "nbformat_minor": 5
}
