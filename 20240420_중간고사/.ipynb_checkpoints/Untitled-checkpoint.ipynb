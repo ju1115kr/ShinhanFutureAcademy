{
 "cells": [
  {
   "cell_type": "code",
   "execution_count": 1,
   "id": "b46360af-7017-4596-9f7c-fb510025c779",
   "metadata": {
    "tags": []
   },
   "outputs": [],
   "source": [
    "from selenium.webdriver.common.by import By\n",
    "from selenium.webdriver.common.keys import Keys\n",
    "from selenium import webdriver\n",
    "import pandas as pd\n",
    "import time"
   ]
  },
  {
   "cell_type": "code",
   "execution_count": 10,
   "id": "c160c78d-b25d-4cc0-ae3c-1ed534e96312",
   "metadata": {
    "tags": []
   },
   "outputs": [],
   "source": [
    "driver = webdriver.Chrome()"
   ]
  },
  {
   "cell_type": "code",
   "execution_count": 22,
   "id": "64031eda-4cfa-4a19-a85b-114d9060608e",
   "metadata": {
    "tags": []
   },
   "outputs": [],
   "source": [
    "driver.get(\"https://tickets.interpark.com/goods/24004803\")"
   ]
  },
  {
   "cell_type": "code",
   "execution_count": 24,
   "id": "b1fa4278-88b4-41cc-8775-9d60441eb710",
   "metadata": {
    "tags": []
   },
   "outputs": [],
   "source": [
    "nav_list = driver.find_element(By.CSS_SELECTOR, \"ul.navList\")\n",
    "menu = nav_list.find_elements(By.CSS_SELECTOR, \"li.navItem\")"
   ]
  },
  {
   "cell_type": "code",
   "execution_count": 28,
   "id": "8ac13abd-038e-4011-adf1-4a880dd989ae",
   "metadata": {
    "tags": []
   },
   "outputs": [],
   "source": [
    "for i in menu:\n",
    "    if \"기대평\" in i.text:\n",
    "        i.click()\n",
    "        time.sleep(3)"
   ]
  },
  {
   "cell_type": "code",
   "execution_count": 34,
   "id": "58de6a44-75aa-4fb2-aaf5-d6c54608b5e8",
   "metadata": {
    "tags": []
   },
   "outputs": [],
   "source": [
    "reviews = driver.find_elements(By.CSS_SELECTOR, \"li.bbsItem\")"
   ]
  },
  {
   "cell_type": "code",
   "execution_count": 62,
   "id": "b698967d-2fb5-42d0-b55d-792cad6020e5",
   "metadata": {
    "tags": []
   },
   "outputs": [
    {
     "name": "stdout",
     "output_type": "stream",
     "text": [
      "['팝아트 전시~!!', '아이와 함께 전세계의 팝아트 작가들의 작품을 만나볼 수 있는 좋은 기회인 것 같아요.\\n꼭 관람하러 가겠습니다^^']\n"
     ]
    }
   ],
   "source": [
    "review = []\n",
    "for i in reviews:\n",
    "# 제목 및 내용도 가져오기\n",
    "    review_Title = i.find_element(By.CSS_SELECTOR, \"strong.bbsTitleText\").text.strip()\n",
    "    review_Content = i.find_element(By.CSS_SELECTOR, \"p.bbsText\").text.strip()\n",
    "    review.append([review_Title, review_Content])"
   ]
  },
  {
   "cell_type": "code",
   "execution_count": 72,
   "id": "6cfa90f0-7ccd-4ed5-b0c5-2790e7a81553",
   "metadata": {
    "tags": []
   },
   "outputs": [
    {
     "data": {
      "text/html": [
       "<div>\n",
       "<style scoped>\n",
       "    .dataframe tbody tr th:only-of-type {\n",
       "        vertical-align: middle;\n",
       "    }\n",
       "\n",
       "    .dataframe tbody tr th {\n",
       "        vertical-align: top;\n",
       "    }\n",
       "\n",
       "    .dataframe thead th {\n",
       "        text-align: right;\n",
       "    }\n",
       "</style>\n",
       "<table border=\"1\" class=\"dataframe\">\n",
       "  <thead>\n",
       "    <tr style=\"text-align: right;\">\n",
       "      <th></th>\n",
       "      <th>제목</th>\n",
       "      <th>내용</th>\n",
       "    </tr>\n",
       "  </thead>\n",
       "  <tbody>\n",
       "    <tr>\n",
       "      <th>0</th>\n",
       "      <td>최고예요!</td>\n",
       "      <td>팝아트 거장전 기대 이상입니다.\\n다채로운 색상과 다양한 그림 전시!\\n충분히 힐링...</td>\n",
       "    </tr>\n",
       "    <tr>\n",
       "      <th>1</th>\n",
       "      <td>팝아트 전시~!!</td>\n",
       "      <td>아이와 함께 전세계의 팝아트 작가들의 작품을 만나볼 수 있는 좋은 기회인 것 같아요...</td>\n",
       "    </tr>\n",
       "    <tr>\n",
       "      <th>2</th>\n",
       "      <td>꼭 다녀와보고 싶은 전시네요</td>\n",
       "      <td>기대가 많이 됩니다.\\n꼭 보고 싶었던 작품들이 전시되는 것 같네요.\\n시작하면 바...</td>\n",
       "    </tr>\n",
       "    <tr>\n",
       "      <th>3</th>\n",
       "      <td>장소도 최고 규모도 최고! 꼭 한번 가봐야 할 전시</td>\n",
       "      <td>장소도 좋고 규모도 짱이고! 넘넘 좋네요\\n다시 없을 구성 같아요! 얼른 보고 싶어요</td>\n",
       "    </tr>\n",
       "    <tr>\n",
       "      <th>4</th>\n",
       "      <td>미국 팝아트의 거장들이 다 모였다!</td>\n",
       "      <td>앤디 워홀, 로이 리히텐슈타인 등 우리의 일상에서도 쉽게 볼 수 있는 팝아트의 거장...</td>\n",
       "    </tr>\n",
       "    <tr>\n",
       "      <th>5</th>\n",
       "      <td>팝아트로 바라보는 예술</td>\n",
       "      <td>미국을 현대 미술의 중심지로 만든 팝아트 거장 8인의 작품을 한미동맹 70주년 기념...</td>\n",
       "    </tr>\n",
       "    <tr>\n",
       "      <th>6</th>\n",
       "      <td>대중과 소통하는 팝아트</td>\n",
       "      <td>쉽게 이해되는 팝아트는 그래서 더 대중적이고 호응도 더 잘할 수 있는거 같아요. 8...</td>\n",
       "    </tr>\n",
       "    <tr>\n",
       "      <th>7</th>\n",
       "      <td>넘 기대되요.</td>\n",
       "      <td>이번기회에 아메리칸 팝아트에 대해 제대로 알 수있을거같아요! 꼭 보러갈거에요~~~??</td>\n",
       "    </tr>\n",
       "    <tr>\n",
       "      <th>8</th>\n",
       "      <td>글로벌 투어의 그 시작과 함께 ~</td>\n",
       "      <td>그야말로 팝아트 거장들의 방대한 작품을..\\n글로벌 투어의 시작으로 볼 수 있다니 ...</td>\n",
       "    </tr>\n",
       "    <tr>\n",
       "      <th>9</th>\n",
       "      <td>팝아트 거장</td>\n",
       "      <td>팝아트 거장들의 작품을 동시에 볼수 있고\\n국내작가들의 작품도 함께 감상할 수 있다...</td>\n",
       "    </tr>\n",
       "    <tr>\n",
       "      <th>10</th>\n",
       "      <td>팝아트의 설레임을 느끼고 싶습니다.</td>\n",
       "      <td>우연한 계기로 팝아트의 세계를 알았는데\\n그 매혹적인 아트에 빠졌습니다. 기대하고 ...</td>\n",
       "    </tr>\n",
       "    <tr>\n",
       "      <th>11</th>\n",
       "      <td>팝아트 좋아합니다!</td>\n",
       "      <td>앤디 워홀 전시회 오래전에 보고 느꼈던 인상이 여전히 생생합니다. 여러 작가들의 작...</td>\n",
       "    </tr>\n",
       "    <tr>\n",
       "      <th>12</th>\n",
       "      <td>평소에 유명했던 팝아트 거장들을 만나볼 수 있다니!</td>\n",
       "      <td>정말 기대가 됩니다! 평소 전시회나 미술관련된 곳을 좋아하는데, 이런 큰 규모의 팝...</td>\n",
       "    </tr>\n",
       "    <tr>\n",
       "      <th>13</th>\n",
       "      <td>작품을 감상하기 전부터 어떤 후기를 작성할지 기대가 되는 전시회입니다</td>\n",
       "      <td>약 15년전 서울시립미술관에서 진행했던 앤디워홀 위대한 세계전을 접하고\\n팝아트에 ...</td>\n",
       "    </tr>\n",
       "    <tr>\n",
       "      <th>14</th>\n",
       "      <td>팝아트의 거장들이 한곳에</td>\n",
       "      <td>앤디 워홀을 비롯해 이름만 들으면 알만한 팝아트 거장들이 한 곳에 모인다는 소식을 ...</td>\n",
       "    </tr>\n",
       "  </tbody>\n",
       "</table>\n",
       "</div>"
      ],
      "text/plain": [
       "                                        제목  \\\n",
       "0                                    최고예요!   \n",
       "1                                팝아트 전시~!!   \n",
       "2                          꼭 다녀와보고 싶은 전시네요   \n",
       "3             장소도 최고 규모도 최고! 꼭 한번 가봐야 할 전시   \n",
       "4                      미국 팝아트의 거장들이 다 모였다!   \n",
       "5                             팝아트로 바라보는 예술   \n",
       "6                             대중과 소통하는 팝아트   \n",
       "7                                  넘 기대되요.   \n",
       "8                       글로벌 투어의 그 시작과 함께 ~   \n",
       "9                                   팝아트 거장   \n",
       "10                     팝아트의 설레임을 느끼고 싶습니다.   \n",
       "11                              팝아트 좋아합니다!   \n",
       "12            평소에 유명했던 팝아트 거장들을 만나볼 수 있다니!   \n",
       "13  작품을 감상하기 전부터 어떤 후기를 작성할지 기대가 되는 전시회입니다   \n",
       "14                           팝아트의 거장들이 한곳에   \n",
       "\n",
       "                                                   내용  \n",
       "0   팝아트 거장전 기대 이상입니다.\\n다채로운 색상과 다양한 그림 전시!\\n충분히 힐링...  \n",
       "1   아이와 함께 전세계의 팝아트 작가들의 작품을 만나볼 수 있는 좋은 기회인 것 같아요...  \n",
       "2   기대가 많이 됩니다.\\n꼭 보고 싶었던 작품들이 전시되는 것 같네요.\\n시작하면 바...  \n",
       "3     장소도 좋고 규모도 짱이고! 넘넘 좋네요\\n다시 없을 구성 같아요! 얼른 보고 싶어요  \n",
       "4   앤디 워홀, 로이 리히텐슈타인 등 우리의 일상에서도 쉽게 볼 수 있는 팝아트의 거장...  \n",
       "5   미국을 현대 미술의 중심지로 만든 팝아트 거장 8인의 작품을 한미동맹 70주년 기념...  \n",
       "6   쉽게 이해되는 팝아트는 그래서 더 대중적이고 호응도 더 잘할 수 있는거 같아요. 8...  \n",
       "7     이번기회에 아메리칸 팝아트에 대해 제대로 알 수있을거같아요! 꼭 보러갈거에요~~~??  \n",
       "8   그야말로 팝아트 거장들의 방대한 작품을..\\n글로벌 투어의 시작으로 볼 수 있다니 ...  \n",
       "9   팝아트 거장들의 작품을 동시에 볼수 있고\\n국내작가들의 작품도 함께 감상할 수 있다...  \n",
       "10  우연한 계기로 팝아트의 세계를 알았는데\\n그 매혹적인 아트에 빠졌습니다. 기대하고 ...  \n",
       "11  앤디 워홀 전시회 오래전에 보고 느꼈던 인상이 여전히 생생합니다. 여러 작가들의 작...  \n",
       "12  정말 기대가 됩니다! 평소 전시회나 미술관련된 곳을 좋아하는데, 이런 큰 규모의 팝...  \n",
       "13  약 15년전 서울시립미술관에서 진행했던 앤디워홀 위대한 세계전을 접하고\\n팝아트에 ...  \n",
       "14  앤디 워홀을 비롯해 이름만 들으면 알만한 팝아트 거장들이 한 곳에 모인다는 소식을 ...  "
      ]
     },
     "execution_count": 72,
     "metadata": {},
     "output_type": "execute_result"
    }
   ],
   "source": [
    "result = pd.DataFrame(review, columns=['제목','내용'])\n",
    "result"
   ]
  },
  {
   "cell_type": "code",
   "execution_count": null,
   "id": "b86512da-4b68-40d9-9a07-51bdeb30a826",
   "metadata": {},
   "outputs": [],
   "source": []
  }
 ],
 "metadata": {
  "kernelspec": {
   "display_name": "Python 3 (ipykernel)",
   "language": "python",
   "name": "python3"
  },
  "language_info": {
   "codemirror_mode": {
    "name": "ipython",
    "version": 3
   },
   "file_extension": ".py",
   "mimetype": "text/x-python",
   "name": "python",
   "nbconvert_exporter": "python",
   "pygments_lexer": "ipython3",
   "version": "3.11.8"
  }
 },
 "nbformat": 4,
 "nbformat_minor": 5
}
