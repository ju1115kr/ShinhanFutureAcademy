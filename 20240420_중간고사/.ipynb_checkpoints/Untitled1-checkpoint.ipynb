{
 "cells": [
  {
   "cell_type": "code",
   "execution_count": 4,
   "id": "d1020ec2-bde7-463d-b471-19b138b3884e",
   "metadata": {
    "tags": []
   },
   "outputs": [],
   "source": [
    "from selenium.webdriver.common.by import By\n",
    "from selenium.webdriver.common.keys import Keys\n",
    "from selenium import webdriver\n",
    "import pandas as pd\n",
    "import time\n",
    "\n",
    "# WebDriver 경로 설정\n",
    "driver = webdriver.Chrome()\n",
    "\n",
    "# 다음 뉴스 검색 페이지로 이동\n",
    "driver.get(\"https://search.daum.net/search?w=news&q=신한은+행\")"
   ]
  },
  {
   "cell_type": "code",
   "execution_count": 8,
   "id": "708d1e64-9276-48f2-b966-2906f423c964",
   "metadata": {
    "tags": []
   },
   "outputs": [],
   "source": [
    "# 결과 저장을 위한 리스트\n",
    "titles = []\n",
    "summaries = []\n",
    "df = []\n",
    "\n",
    "# 뉴스 기사 수집\n",
    "while len(titles) < 100:\n",
    "    news_items = driver.find_elements(By.CSS_SELECTOR,'ul.c-list-basic li div.item-bundle-mid')\n",
    "    for i in news_items:\n",
    "        title = i.find_elements(By.CSS_SELECTOR, \"div.item-title\")\n",
    "        for j in title:\n",
    "            titles.append(j.text)\n",
    "    \n",
    "        summary = i.find_elements(By.CSS_SELECTOR, 'p.conts-desc.clamp-g2')\n",
    "        for j in summary:\n",
    "            summaries.append(j.text)\n",
    "        \n",
    "        if len(titles) >= 100:\n",
    "            break\n",
    "    else:\n",
    "        # 다음 페이지로 이동\n",
    "        next_button = driver.find_element(By.CSS_SELECTOR,'div.compo-paging.ty_research button.btn_next')\n",
    "        next_button.click()\n",
    "        time.sleep(2)  # 페이지 로딩 대기\n",
    "\n",
    "# WebDriver 종료\n",
    "driver.quit()\n",
    "\n",
    "# 데이터프레임 생성\n",
    "df = pd.DataFrame({'Title': titles, 'Summary': summaries})\n",
    "\n",
    "# '신한', '신한은행' 단어 제거\n",
    "df['Title'] = df['Title'].str.replace('신한은행', '').str.replace('신한', '')\n",
    "df['Summary'] = df['Summary'].str.replace('신한은행', '').str.replace('신한', '')"
   ]
  },
  {
   "cell_type": "code",
   "execution_count": 10,
   "id": "2162225d-00dd-4fe0-9b7f-027fbeea4506",
   "metadata": {
    "tags": []
   },
   "outputs": [
    {
     "ename": "FileNotFoundError",
     "evalue": "[Errno 2] No such file or directory: 'heart.png'",
     "output_type": "error",
     "traceback": [
      "\u001b[0;31m---------------------------------------------------------------------------\u001b[0m",
      "\u001b[0;31mFileNotFoundError\u001b[0m                         Traceback (most recent call last)",
      "Cell \u001b[0;32mIn[10], line 21\u001b[0m\n\u001b[1;32m     19\u001b[0m \u001b[38;5;28;01mfrom\u001b[39;00m \u001b[38;5;21;01mPIL\u001b[39;00m \u001b[38;5;28;01mimport\u001b[39;00m Image\n\u001b[1;32m     20\u001b[0m \u001b[38;5;28;01mimport\u001b[39;00m \u001b[38;5;21;01mnumpy\u001b[39;00m \u001b[38;5;28;01mas\u001b[39;00m \u001b[38;5;21;01mnp\u001b[39;00m\n\u001b[0;32m---> 21\u001b[0m image \u001b[38;5;241m=\u001b[39m Image\u001b[38;5;241m.\u001b[39mopen(\u001b[38;5;124m\"\u001b[39m\u001b[38;5;124mheart.png\u001b[39m\u001b[38;5;124m\"\u001b[39m) \u001b[38;5;66;03m# 하트 이미지를 가져옴\u001b[39;00m\n\u001b[1;32m     22\u001b[0m image2 \u001b[38;5;241m=\u001b[39m np\u001b[38;5;241m.\u001b[39marray(image) \u001b[38;5;66;03m#이미지를 행렬로 바꿔라\u001b[39;00m\n\u001b[1;32m     24\u001b[0m wc \u001b[38;5;241m=\u001b[39m WordCloud(background_color\u001b[38;5;241m=\u001b[39m\u001b[38;5;124m\"\u001b[39m\u001b[38;5;124mwhite\u001b[39m\u001b[38;5;124m\"\u001b[39m,\n\u001b[1;32m     25\u001b[0m               font_path\u001b[38;5;241m=\u001b[39m\u001b[38;5;124m\"\u001b[39m\u001b[38;5;124mBMDOHYEON_otf.otf\u001b[39m\u001b[38;5;124m\"\u001b[39m,\n\u001b[1;32m     26\u001b[0m               colormap\u001b[38;5;241m=\u001b[39m\u001b[38;5;124m\"\u001b[39m\u001b[38;5;124mBlues\u001b[39m\u001b[38;5;124m\"\u001b[39m,\n\u001b[1;32m     27\u001b[0m               mask \u001b[38;5;241m=\u001b[39m image2)\\\n\u001b[1;32m     28\u001b[0m             \u001b[38;5;241m.\u001b[39mgenerate_from_frequencies(dic)\n",
      "File \u001b[0;32m/opt/anaconda3/lib/python3.11/site-packages/PIL/Image.py:3247\u001b[0m, in \u001b[0;36mopen\u001b[0;34m(fp, mode, formats)\u001b[0m\n\u001b[1;32m   3244\u001b[0m     filename \u001b[38;5;241m=\u001b[39m fp\n\u001b[1;32m   3246\u001b[0m \u001b[38;5;28;01mif\u001b[39;00m filename:\n\u001b[0;32m-> 3247\u001b[0m     fp \u001b[38;5;241m=\u001b[39m builtins\u001b[38;5;241m.\u001b[39mopen(filename, \u001b[38;5;124m\"\u001b[39m\u001b[38;5;124mrb\u001b[39m\u001b[38;5;124m\"\u001b[39m)\n\u001b[1;32m   3248\u001b[0m     exclusive_fp \u001b[38;5;241m=\u001b[39m \u001b[38;5;28;01mTrue\u001b[39;00m\n\u001b[1;32m   3250\u001b[0m \u001b[38;5;28;01mtry\u001b[39;00m:\n",
      "\u001b[0;31mFileNotFoundError\u001b[0m: [Errno 2] No such file or directory: 'heart.png'"
     ]
    }
   ],
   "source": [
    "from konlpy.tag import Kkma #형태소분석기\n",
    "import pandas as pd\n",
    "\n",
    "kkma = Kkma() #형태소분석기 kkma 정의\n",
    "\n",
    "df['SUM'] = df['Title'] + \" \" + df['Summary']\n",
    "total = []\n",
    "\n",
    "for i in df['SUM']:\n",
    "    nouns = kkma.nouns(i)\n",
    "    total+=nouns\n",
    "    \n",
    "from collections import Counter \n",
    "dic=Counter(total) # 제목/내용에 있는 명사(total)를 빈도를 센 것을 dic에 넣음\n",
    "\n",
    "from wordcloud import WordCloud\n",
    "import matplotlib.pyplot as plt\n",
    "\n",
    "from PIL import Image\n",
    "import numpy as np\n",
    "image = Image.open(\"heart.png\") # 하트 이미지를 가져옴\n",
    "image2 = np.array(image) #이미지를 행렬로 바꿔라\n",
    "\n",
    "wc = WordCloud(background_color=\"white\",\n",
    "              font_path=\"BMDOHYEON_otf.otf\",\n",
    "              colormap=\"Blues\",\n",
    "              mask = image2)\\\n",
    "            .generate_from_frequencies(dic)\n",
    "\n",
    "plt.axis('off')\n",
    "plt.imshow(wc)\n",
    "plt.show()"
   ]
  },
  {
   "cell_type": "code",
   "execution_count": null,
   "id": "876bb76c-be92-43c7-adc3-f084ea8ad107",
   "metadata": {},
   "outputs": [],
   "source": []
  }
 ],
 "metadata": {
  "kernelspec": {
   "display_name": "Python 3 (ipykernel)",
   "language": "python",
   "name": "python3"
  },
  "language_info": {
   "codemirror_mode": {
    "name": "ipython",
    "version": 3
   },
   "file_extension": ".py",
   "mimetype": "text/x-python",
   "name": "python",
   "nbconvert_exporter": "python",
   "pygments_lexer": "ipython3",
   "version": "3.11.8"
  }
 },
 "nbformat": 4,
 "nbformat_minor": 5
}
