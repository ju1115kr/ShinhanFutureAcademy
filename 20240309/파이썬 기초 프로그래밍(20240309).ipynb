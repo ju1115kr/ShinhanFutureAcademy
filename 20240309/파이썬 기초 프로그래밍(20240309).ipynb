{
 "cells": [
  {
   "cell_type": "code",
   "execution_count": 1,
   "id": "cd6243e1-a789-47a3-8a6e-194f4e51f09c",
   "metadata": {},
   "outputs": [
    {
     "name": "stdout",
     "output_type": "stream",
     "text": [
      "hello\n"
     ]
    }
   ],
   "source": [
    "print(\"hello\")"
   ]
  },
  {
   "cell_type": "code",
   "execution_count": 2,
   "id": "a6dfc808-04e2-48c5-92ec-3b05c3df72cd",
   "metadata": {},
   "outputs": [],
   "source": [
    "# 변수 a에 5를 넣어라.\n",
    "a = 5"
   ]
  },
  {
   "cell_type": "code",
   "execution_count": 3,
   "id": "44c0e217-9a71-4211-9290-ccddad0844cb",
   "metadata": {},
   "outputs": [
    {
     "name": "stdout",
     "output_type": "stream",
     "text": [
      "5\n"
     ]
    }
   ],
   "source": [
    "print(a)"
   ]
  },
  {
   "cell_type": "code",
   "execution_count": 5,
   "id": "1d8322df-3926-4b53-b052-349ddc0cb6be",
   "metadata": {},
   "outputs": [],
   "source": [
    "b = 3"
   ]
  },
  {
   "cell_type": "code",
   "execution_count": 6,
   "id": "a60fd023-6af4-4145-9be9-62d9a057107d",
   "metadata": {},
   "outputs": [
    {
     "data": {
      "text/plain": [
       "5"
      ]
     },
     "execution_count": 6,
     "metadata": {},
     "output_type": "execute_result"
    }
   ],
   "source": [
    "b\n",
    "a"
   ]
  },
  {
   "cell_type": "code",
   "execution_count": 7,
   "id": "a0fa4b61-bb4b-4602-b4d9-e8af5ba7958b",
   "metadata": {},
   "outputs": [],
   "source": [
    "# 숫자형 자료형 : 정수형\n",
    "a = 5"
   ]
  },
  {
   "cell_type": "code",
   "execution_count": 8,
   "id": "b0295f96-39d0-4b16-8e33-15bfa0bf7db7",
   "metadata": {},
   "outputs": [],
   "source": [
    "# 실수형 자료형\n",
    "a = 3.14"
   ]
  },
  {
   "cell_type": "code",
   "execution_count": 9,
   "id": "9d244bf7-c132-4f3c-bef8-086855b31337",
   "metadata": {},
   "outputs": [],
   "source": [
    "a = 3\n",
    "b = 5"
   ]
  },
  {
   "cell_type": "code",
   "execution_count": 10,
   "id": "83a4b814-c4e9-4fc2-9377-7cf3172d8a68",
   "metadata": {},
   "outputs": [
    {
     "name": "stdout",
     "output_type": "stream",
     "text": [
      "8\n",
      "-2\n",
      "15\n",
      "0.6\n"
     ]
    }
   ],
   "source": [
    "print(a + b) # 더하기\n",
    "print(a - b) # 빼기\n",
    "print(a * b) # 곱하기\n",
    "print(a / b) # 나누기"
   ]
  },
  {
   "cell_type": "code",
   "execution_count": 11,
   "id": "892d252d-47cd-46e1-b787-0826d353d1e1",
   "metadata": {},
   "outputs": [
    {
     "name": "stdout",
     "output_type": "stream",
     "text": [
      "243\n",
      "1\n",
      "2\n"
     ]
    }
   ],
   "source": [
    "print(a ** b) # a의 b제곱\n",
    "print(7 % 3) # 7을 3으로 나누었을때 나머지\n",
    "print(7 // 3) # 7을 3으로 나누었을때 몫"
   ]
  },
  {
   "cell_type": "code",
   "execution_count": 12,
   "id": "a738bbbe-254a-4864-ac5c-0a65b78da429",
   "metadata": {},
   "outputs": [
    {
     "data": {
      "text/plain": [
       "3"
      ]
     },
     "execution_count": 12,
     "metadata": {},
     "output_type": "execute_result"
    }
   ],
   "source": [
    "int(3.14) # integer"
   ]
  },
  {
   "cell_type": "code",
   "execution_count": 13,
   "id": "8f05f178-0a3e-40a1-9509-b6652aeb1966",
   "metadata": {},
   "outputs": [
    {
     "data": {
      "text/plain": [
       "5"
      ]
     },
     "execution_count": 13,
     "metadata": {},
     "output_type": "execute_result"
    }
   ],
   "source": [
    "int(\"5\")"
   ]
  },
  {
   "cell_type": "code",
   "execution_count": 21,
   "id": "11d399cf-7ddd-49c7-9e71-3bd38423ef66",
   "metadata": {},
   "outputs": [
    {
     "name": "stdin",
     "output_type": "stream",
     "text": [
      "입력 :  5\n"
     ]
    }
   ],
   "source": [
    "a = input(\"입력 : \")\n",
    "a = int(a)"
   ]
  },
  {
   "cell_type": "code",
   "execution_count": 22,
   "id": "c86fb457-40ea-4b47-bb67-773039511a15",
   "metadata": {},
   "outputs": [
    {
     "data": {
      "text/plain": [
       "10"
      ]
     },
     "execution_count": 22,
     "metadata": {},
     "output_type": "execute_result"
    }
   ],
   "source": [
    "a + 5"
   ]
  },
  {
   "cell_type": "code",
   "execution_count": 14,
   "id": "9d720524-fd49-4123-a3d3-610b9b3e9376",
   "metadata": {},
   "outputs": [
    {
     "data": {
      "text/plain": [
       "3.0"
      ]
     },
     "execution_count": 14,
     "metadata": {},
     "output_type": "execute_result"
    }
   ],
   "source": [
    "float(3)"
   ]
  },
  {
   "cell_type": "code",
   "execution_count": 15,
   "id": "f528c33b-426d-426b-842b-97be4718e685",
   "metadata": {},
   "outputs": [
    {
     "data": {
      "text/plain": [
       "3.14"
      ]
     },
     "execution_count": 15,
     "metadata": {},
     "output_type": "execute_result"
    }
   ],
   "source": [
    "round(3.141592, 2) # 반올림"
   ]
  },
  {
   "cell_type": "code",
   "execution_count": 18,
   "id": "70876d3b-4916-45cc-ae64-18fa2756d133",
   "metadata": {},
   "outputs": [
    {
     "data": {
      "text/plain": [
       "5"
      ]
     },
     "execution_count": 18,
     "metadata": {},
     "output_type": "execute_result"
    }
   ],
   "source": [
    "abs(-5) # 절대값"
   ]
  },
  {
   "cell_type": "code",
   "execution_count": 29,
   "id": "cedc0dd7-11ab-4457-85f7-7e44fbcc8ad7",
   "metadata": {},
   "outputs": [
    {
     "data": {
      "text/plain": [
       "\"python is' too fun\""
      ]
     },
     "execution_count": 29,
     "metadata": {},
     "output_type": "execute_result"
    }
   ],
   "source": [
    "# 문자열 자료형\n",
    "a = 'python is\\' too fun'\n",
    "a"
   ]
  },
  {
   "cell_type": "code",
   "execution_count": 33,
   "id": "898cf1e1-7405-4183-8d5b-764ee5b6c1ee",
   "metadata": {},
   "outputs": [
    {
     "name": "stdout",
     "output_type": "stream",
     "text": [
      "python is \t\t\ttoo fun\n"
     ]
    }
   ],
   "source": [
    "a = \"python is \\t\\t\\ttoo fun\" # \\n : 엔터키, \\t : 탭키\n",
    "print(a)"
   ]
  },
  {
   "cell_type": "code",
   "execution_count": 34,
   "id": "19ac924e-1de4-4346-84c2-2a09642121f0",
   "metadata": {},
   "outputs": [
    {
     "data": {
      "text/plain": [
       "'python is\\n\\n\\nfun'"
      ]
     },
     "execution_count": 34,
     "metadata": {},
     "output_type": "execute_result"
    }
   ],
   "source": [
    "a = \"\"\"python 'is\"\n",
    "fun\"\"\"\n",
    "\n",
    "a"
   ]
  },
  {
   "cell_type": "code",
   "execution_count": 35,
   "id": "4a061c03-b9b1-4129-bb9b-471f63eb1299",
   "metadata": {},
   "outputs": [
    {
     "data": {
      "text/plain": [
       "'hello world!'"
      ]
     },
     "execution_count": 35,
     "metadata": {},
     "output_type": "execute_result"
    }
   ],
   "source": [
    "# 문자열 연산\n",
    "a = 'hello'\n",
    "b = ' world!'\n",
    "\n",
    "a + b"
   ]
  },
  {
   "cell_type": "code",
   "execution_count": 37,
   "id": "7ecf8be1-80fd-410c-a907-6d48c7d410af",
   "metadata": {},
   "outputs": [
    {
     "data": {
      "text/plain": [
       "'hellohellohello'"
      ]
     },
     "execution_count": 37,
     "metadata": {},
     "output_type": "execute_result"
    }
   ],
   "source": [
    "a * 3"
   ]
  },
  {
   "cell_type": "code",
   "execution_count": 40,
   "id": "9dd3fafa-702a-45a0-9e6b-8bbcda14aa5d",
   "metadata": {},
   "outputs": [
    {
     "data": {
      "text/plain": [
       "7"
      ]
     },
     "execution_count": 40,
     "metadata": {},
     "output_type": "execute_result"
    }
   ],
   "source": [
    "len(b) # length"
   ]
  },
  {
   "cell_type": "code",
   "execution_count": 43,
   "id": "4eb0f07f-099b-4bc4-a5a5-9c689f83f7a0",
   "metadata": {},
   "outputs": [
    {
     "data": {
      "text/plain": [
       "'!'"
      ]
     },
     "execution_count": 43,
     "metadata": {},
     "output_type": "execute_result"
    }
   ],
   "source": [
    "# 접근(인덱싱/슬라이싱)\n",
    "# 인덱싱 : 하나씩 접근\n",
    "# 슬라이싱 : 여러개에 접근\n",
    "c = \"python is too fun!\"\n",
    "c[-1] # 인덱싱"
   ]
  },
  {
   "cell_type": "code",
   "execution_count": 44,
   "id": "8d96a9ac-4b2e-4ae5-938b-25e2bca4ec48",
   "metadata": {},
   "outputs": [
    {
     "data": {
      "text/plain": [
       "'tho'"
      ]
     },
     "execution_count": 44,
     "metadata": {},
     "output_type": "execute_result"
    }
   ],
   "source": [
    "c[2:5] # 2번째부터 5번째 전까지"
   ]
  },
  {
   "cell_type": "code",
   "execution_count": 46,
   "id": "43ca2b50-362e-4974-a14c-c3b76190b4ba",
   "metadata": {},
   "outputs": [
    {
     "data": {
      "text/plain": [
       "'pytho'"
      ]
     },
     "execution_count": 46,
     "metadata": {},
     "output_type": "execute_result"
    }
   ],
   "source": [
    "c[:5]"
   ]
  },
  {
   "cell_type": "code",
   "execution_count": 47,
   "id": "ab1b2409-9ab4-4d30-8afe-881588de8994",
   "metadata": {},
   "outputs": [
    {
     "data": {
      "text/plain": [
       "'to s'"
      ]
     },
     "execution_count": 47,
     "metadata": {},
     "output_type": "execute_result"
    }
   ],
   "source": [
    "c[2:10:2] # 2번째부터 9번째까지 2씩 증가시키면서 접근"
   ]
  },
  {
   "cell_type": "code",
   "execution_count": 50,
   "id": "f435cb37-8483-4ddc-9ca9-c4700455cc22",
   "metadata": {},
   "outputs": [
    {
     "data": {
      "text/plain": [
       "'!nuf oot si nohtyp'"
      ]
     },
     "execution_count": 50,
     "metadata": {},
     "output_type": "execute_result"
    }
   ],
   "source": [
    "c[::-1]"
   ]
  },
  {
   "cell_type": "code",
   "execution_count": 52,
   "id": "9aa11922-460b-4cf8-9d1b-81e937103c03",
   "metadata": {},
   "outputs": [
    {
     "data": {
      "text/plain": [
       "True"
      ]
     },
     "execution_count": 52,
     "metadata": {},
     "output_type": "execute_result"
    }
   ],
   "source": [
    "\"fun\" in c # 멤버연산자"
   ]
  },
  {
   "cell_type": "code",
   "execution_count": 54,
   "id": "422f08e9-2fd2-4da1-86ad-dee4dcd5b7b8",
   "metadata": {},
   "outputs": [
    {
     "data": {
      "text/plain": [
       "'나의 이름은 홍길동이고, 40살입니다.'"
      ]
     },
     "execution_count": 54,
     "metadata": {},
     "output_type": "execute_result"
    }
   ],
   "source": [
    "name = \"홍길동\"\n",
    "age = 40\n",
    "\n",
    "f\"나의 이름은 {name}이고, {age}살입니다.\" # 문자열 포매팅"
   ]
  },
  {
   "cell_type": "code",
   "execution_count": 57,
   "id": "d385fb2c-ed6c-438e-b1b0-e1ccb1a211be",
   "metadata": {},
   "outputs": [
    {
     "data": {
      "text/plain": [
       "'PYTHON IS TOO FUN!'"
      ]
     },
     "execution_count": 57,
     "metadata": {},
     "output_type": "execute_result"
    }
   ],
   "source": [
    "# print, int, float : 내장함수\n",
    "# 문자열 전용 함수 : 문자열.함수이름()\n",
    "\n",
    "c.upper()"
   ]
  },
  {
   "cell_type": "code",
   "execution_count": 58,
   "id": "f0d4f3a5-b950-4fd1-9a9c-5d62d98c1c79",
   "metadata": {},
   "outputs": [
    {
     "data": {
      "text/plain": [
       "'python is too fun!'"
      ]
     },
     "execution_count": 58,
     "metadata": {},
     "output_type": "execute_result"
    }
   ],
   "source": [
    "c.lower()"
   ]
  },
  {
   "cell_type": "code",
   "execution_count": 61,
   "id": "3653e349-da95-4217-994b-f2de225394e2",
   "metadata": {},
   "outputs": [
    {
     "data": {
      "text/plain": [
       "1"
      ]
     },
     "execution_count": 61,
     "metadata": {},
     "output_type": "execute_result"
    }
   ],
   "source": [
    "c.count(\"fun\")"
   ]
  },
  {
   "cell_type": "code",
   "execution_count": 62,
   "id": "0e66f930-fd9f-42f8-a4de-c81f9010bba1",
   "metadata": {},
   "outputs": [
    {
     "data": {
      "text/plain": [
       "'java is too fun!'"
      ]
     },
     "execution_count": 62,
     "metadata": {},
     "output_type": "execute_result"
    }
   ],
   "source": [
    "c.replace(\"python\", 'java')"
   ]
  },
  {
   "cell_type": "code",
   "execution_count": 63,
   "id": "efdc0aeb-b911-4249-abf9-1b96fcb136bb",
   "metadata": {},
   "outputs": [
    {
     "data": {
      "text/plain": [
       "['python', 'is', 'too', 'fun!']"
      ]
     },
     "execution_count": 63,
     "metadata": {},
     "output_type": "execute_result"
    }
   ],
   "source": [
    "c.split()"
   ]
  },
  {
   "cell_type": "code",
   "execution_count": 65,
   "id": "604f0a35-51d8-49c6-bc38-de44174ab792",
   "metadata": {},
   "outputs": [
    {
     "data": {
      "text/plain": [
       "['python', 'is', 'too', 'fun']"
      ]
     },
     "execution_count": 65,
     "metadata": {},
     "output_type": "execute_result"
    }
   ],
   "source": [
    "d = \"python:is:too:fun\"\n",
    "d.split(\":\")"
   ]
  },
  {
   "cell_type": "code",
   "execution_count": 66,
   "id": "bccad497-f46d-44f6-bdd3-57a7ec880b8f",
   "metadata": {},
   "outputs": [
    {
     "data": {
      "text/plain": [
       "5"
      ]
     },
     "execution_count": 66,
     "metadata": {},
     "output_type": "execute_result"
    }
   ],
   "source": [
    "# 리스트 자료형 : 데이터를 보관하는 기능\n",
    "box = [1, 3, 5, 4, 2]\n",
    "len(box)"
   ]
  },
  {
   "cell_type": "code",
   "execution_count": 67,
   "id": "b904f0df-36f8-407e-a538-8da6243b9e32",
   "metadata": {},
   "outputs": [
    {
     "data": {
      "text/plain": [
       "1"
      ]
     },
     "execution_count": 67,
     "metadata": {},
     "output_type": "execute_result"
    }
   ],
   "source": [
    "box[0]"
   ]
  },
  {
   "cell_type": "code",
   "execution_count": 72,
   "id": "bf38c053-1c97-44a3-bf52-0a0075033312",
   "metadata": {},
   "outputs": [
    {
     "data": {
      "text/plain": [
       "[1, 8, 5, 4, 2]"
      ]
     },
     "execution_count": 72,
     "metadata": {},
     "output_type": "execute_result"
    }
   ],
   "source": [
    "box[1] = 8 # 리스트 값 변경\n",
    "box"
   ]
  },
  {
   "cell_type": "code",
   "execution_count": 74,
   "id": "8cd1c873-1734-4b4a-9d1c-290770ddbb1e",
   "metadata": {},
   "outputs": [],
   "source": [
    "del box[1] # 리스트 값 삭제"
   ]
  },
  {
   "cell_type": "code",
   "execution_count": 75,
   "id": "4221c767-48e2-4857-a064-820bd61a8c5d",
   "metadata": {},
   "outputs": [
    {
     "data": {
      "text/plain": [
       "[1, 5, 4, 2]"
      ]
     },
     "execution_count": 75,
     "metadata": {},
     "output_type": "execute_result"
    }
   ],
   "source": [
    "box"
   ]
  },
  {
   "cell_type": "code",
   "execution_count": 79,
   "id": "c3068951-399f-4096-be4e-1d532def202d",
   "metadata": {},
   "outputs": [
    {
     "data": {
      "text/plain": [
       "[1, 5, 4, 2, 10, 10, 7]"
      ]
     },
     "execution_count": 79,
     "metadata": {},
     "output_type": "execute_result"
    }
   ],
   "source": [
    "box.append(7)\n",
    "box"
   ]
  },
  {
   "cell_type": "code",
   "execution_count": 80,
   "id": "d39f7ae3-87f7-46ba-9145-b9e7a32925b8",
   "metadata": {},
   "outputs": [
    {
     "data": {
      "text/plain": [
       "[30, 1, 5, 4, 2, 10, 10, 7]"
      ]
     },
     "execution_count": 80,
     "metadata": {},
     "output_type": "execute_result"
    }
   ],
   "source": [
    "box.insert(0, 30)\n",
    "box"
   ]
  },
  {
   "cell_type": "code",
   "execution_count": 83,
   "id": "4232e059-99f0-4613-bc77-7350a8171455",
   "metadata": {},
   "outputs": [
    {
     "data": {
      "text/plain": [
       "[30, 10, 10, 7, 5, 4, 2, 1]"
      ]
     },
     "execution_count": 83,
     "metadata": {},
     "output_type": "execute_result"
    }
   ],
   "source": [
    "box.sort(reverse = True)\n",
    "box"
   ]
  },
  {
   "cell_type": "code",
   "execution_count": 84,
   "id": "f15b90f1-6481-46de-b15d-ba8177c37031",
   "metadata": {},
   "outputs": [
    {
     "data": {
      "text/plain": [
       "[30, 10, 7, 5, 4, 2, 1]"
      ]
     },
     "execution_count": 84,
     "metadata": {},
     "output_type": "execute_result"
    }
   ],
   "source": [
    "box.remove(10) # 가장 먼저 발견한 10 하나만 삭제.\n",
    "box"
   ]
  },
  {
   "cell_type": "code",
   "execution_count": 87,
   "id": "30915d88-3ea6-486a-a18f-7c471f81800e",
   "metadata": {},
   "outputs": [
    {
     "data": {
      "text/plain": [
       "(30, 1, 59)"
      ]
     },
     "execution_count": 87,
     "metadata": {},
     "output_type": "execute_result"
    }
   ],
   "source": [
    "max(box), min(box), sum(box) # 최대값, 최소값, 합"
   ]
  },
  {
   "cell_type": "code",
   "execution_count": 88,
   "id": "301df2be-11b2-4a7d-b33b-35a104e9597e",
   "metadata": {},
   "outputs": [
    {
     "data": {
      "text/plain": [
       "(1, 3, 5, 4, 2)"
      ]
     },
     "execution_count": 88,
     "metadata": {},
     "output_type": "execute_result"
    }
   ],
   "source": [
    "# 튜플 자료형 : 데이터를 보관하는 기능\n",
    "# 리스트랑 똑같다.\n",
    "box = (1,3,5,4,2)\n",
    "box"
   ]
  },
  {
   "cell_type": "code",
   "execution_count": 91,
   "id": "64b6148a-c551-4e58-8a9f-3b9bd1d43b78",
   "metadata": {},
   "outputs": [
    {
     "data": {
      "text/plain": [
       "(1, 2, 3, 1, 2, 3, 1, 2, 3)"
      ]
     },
     "execution_count": 91,
     "metadata": {},
     "output_type": "execute_result"
    }
   ],
   "source": [
    "(1,2,3) * 3"
   ]
  },
  {
   "cell_type": "code",
   "execution_count": 97,
   "id": "03a97e9f-22aa-41fa-9aad-6b8b07e10184",
   "metadata": {},
   "outputs": [],
   "source": [
    "# 튜플은 한번 정하면 수정이나 삭제가 불가능.\n",
    "a = 1, 2"
   ]
  },
  {
   "cell_type": "code",
   "execution_count": 98,
   "id": "db16c20f-92fb-45f7-a452-71df1d777d6e",
   "metadata": {},
   "outputs": [
    {
     "data": {
      "text/plain": [
       "(1, 2)"
      ]
     },
     "execution_count": 98,
     "metadata": {},
     "output_type": "execute_result"
    }
   ],
   "source": [
    "a"
   ]
  },
  {
   "cell_type": "code",
   "execution_count": 99,
   "id": "fc0ce834-f585-4773-aaac-32ab1a878d70",
   "metadata": {},
   "outputs": [
    {
     "data": {
      "text/plain": [
       "[5]"
      ]
     },
     "execution_count": 99,
     "metadata": {},
     "output_type": "execute_result"
    }
   ],
   "source": [
    "a = [5]\n",
    "a"
   ]
  },
  {
   "cell_type": "code",
   "execution_count": 101,
   "id": "237e6841-9e41-4a50-aff4-87f0fd6ab73b",
   "metadata": {},
   "outputs": [
    {
     "data": {
      "text/plain": [
       "(5,)"
      ]
     },
     "execution_count": 101,
     "metadata": {},
     "output_type": "execute_result"
    }
   ],
   "source": [
    "a = (5,)\n",
    "a"
   ]
  },
  {
   "cell_type": "code",
   "execution_count": 103,
   "id": "495b0b97-9789-4451-ba19-1627b1d12132",
   "metadata": {},
   "outputs": [
    {
     "data": {
      "text/plain": [
       "1"
      ]
     },
     "execution_count": 103,
     "metadata": {},
     "output_type": "execute_result"
    }
   ],
   "source": [
    "box.count(2)"
   ]
  },
  {
   "cell_type": "code",
   "execution_count": 104,
   "id": "f6e92d6e-1ab1-4b55-953b-4b8700af991e",
   "metadata": {},
   "outputs": [
    {
     "data": {
      "text/plain": [
       "2"
      ]
     },
     "execution_count": 104,
     "metadata": {},
     "output_type": "execute_result"
    }
   ],
   "source": [
    "box.index(5)"
   ]
  },
  {
   "cell_type": "code",
   "execution_count": 106,
   "id": "24c815b2-8521-43fb-bfb6-827cb155fc48",
   "metadata": {},
   "outputs": [
    {
     "data": {
      "text/plain": [
       "[1, 3, 5, 4, 2]"
      ]
     },
     "execution_count": 106,
     "metadata": {},
     "output_type": "execute_result"
    }
   ],
   "source": [
    "box = list(box)\n",
    "box"
   ]
  },
  {
   "cell_type": "code",
   "execution_count": 107,
   "id": "5d853be5-8e74-4fc1-a8a2-074ef85188dc",
   "metadata": {},
   "outputs": [
    {
     "data": {
      "text/plain": [
       "(1, 3, 5, 4, 2)"
      ]
     },
     "execution_count": 107,
     "metadata": {},
     "output_type": "execute_result"
    }
   ],
   "source": [
    "box = tuple(box)\n",
    "box"
   ]
  },
  {
   "cell_type": "code",
   "execution_count": 109,
   "id": "6d6d2aee-ec48-4aa5-9927-1b219cf801f1",
   "metadata": {},
   "outputs": [],
   "source": [
    "# 딕셔너리 자료형 : 데이터를 보관하는 기능\n",
    "# Key : Value // 딕셔너리 무조건 Key값 기준\n",
    "dic = {\"이름\" : \"홍길동\", \n",
    "       \"나이\" : 40,\n",
    "       \"성별\" : \"남자\"}"
   ]
  },
  {
   "cell_type": "code",
   "execution_count": 113,
   "id": "f4bd1262-2015-4494-abc3-9443df4e6dba",
   "metadata": {},
   "outputs": [
    {
     "data": {
      "text/plain": [
       "'홍길동'"
      ]
     },
     "execution_count": 113,
     "metadata": {},
     "output_type": "execute_result"
    }
   ],
   "source": [
    "dic[\"이름\"]"
   ]
  },
  {
   "cell_type": "code",
   "execution_count": 114,
   "id": "d796ca8c-a254-4ab4-9b1b-1507913ee7cb",
   "metadata": {},
   "outputs": [
    {
     "data": {
      "text/plain": [
       "False"
      ]
     },
     "execution_count": 114,
     "metadata": {},
     "output_type": "execute_result"
    }
   ],
   "source": [
    "\"홍길동\" in dic"
   ]
  },
  {
   "cell_type": "code",
   "execution_count": 116,
   "id": "f91c1045-ad38-4aa7-a9b4-19c948737a5e",
   "metadata": {},
   "outputs": [
    {
     "data": {
      "text/plain": [
       "{'이름': '홍길동', '나이': 40, '성별': '남자', '이상형': '장원영'}"
      ]
     },
     "execution_count": 116,
     "metadata": {},
     "output_type": "execute_result"
    }
   ],
   "source": [
    "dic['이상형'] = \"장원영\" # 딕셔너리 값 추가\n",
    "dic"
   ]
  },
  {
   "cell_type": "code",
   "execution_count": 117,
   "id": "da2a2aad-2e27-487c-a886-f2a97aab2784",
   "metadata": {},
   "outputs": [
    {
     "data": {
      "text/plain": [
       "{'이름': '강동원', '나이': 40, '성별': '남자', '이상형': '장원영'}"
      ]
     },
     "execution_count": 117,
     "metadata": {},
     "output_type": "execute_result"
    }
   ],
   "source": [
    "# 중복된 Key값은 존재X\n",
    "dic['이름'] = '강동원'\n",
    "dic"
   ]
  },
  {
   "cell_type": "code",
   "execution_count": 118,
   "id": "bdd5f9b2-6ea9-47e9-ae49-9f2b71412690",
   "metadata": {},
   "outputs": [
    {
     "data": {
      "text/plain": [
       "{'이름': '강동원', '나이': 40, '성별': '남자'}"
      ]
     },
     "execution_count": 118,
     "metadata": {},
     "output_type": "execute_result"
    }
   ],
   "source": [
    "del dic['이상형']\n",
    "dic"
   ]
  },
  {
   "cell_type": "code",
   "execution_count": 119,
   "id": "14d84f1e-0187-43d2-8e0c-9d177823c6d2",
   "metadata": {},
   "outputs": [
    {
     "data": {
      "text/plain": [
       "dict_keys(['이름', '나이', '성별'])"
      ]
     },
     "execution_count": 119,
     "metadata": {},
     "output_type": "execute_result"
    }
   ],
   "source": [
    "dic.keys()"
   ]
  },
  {
   "cell_type": "code",
   "execution_count": 120,
   "id": "26278579-0be6-4c5d-ac20-9d94cd555bf3",
   "metadata": {},
   "outputs": [
    {
     "data": {
      "text/plain": [
       "dict_values(['강동원', 40, '남자'])"
      ]
     },
     "execution_count": 120,
     "metadata": {},
     "output_type": "execute_result"
    }
   ],
   "source": [
    "dic.values()"
   ]
  },
  {
   "cell_type": "code",
   "execution_count": 121,
   "id": "1966aaf5-e978-41fa-8559-b1b6f5acb067",
   "metadata": {},
   "outputs": [
    {
     "data": {
      "text/plain": [
       "dict_items([('이름', '강동원'), ('나이', 40), ('성별', '남자')])"
      ]
     },
     "execution_count": 121,
     "metadata": {},
     "output_type": "execute_result"
    }
   ],
   "source": [
    "dic.items()"
   ]
  },
  {
   "cell_type": "code",
   "execution_count": 122,
   "id": "0b5940c1-61ec-4f3a-b8aa-b4bf12e348ec",
   "metadata": {},
   "outputs": [
    {
     "data": {
      "text/plain": [
       "{3}"
      ]
     },
     "execution_count": 122,
     "metadata": {},
     "output_type": "execute_result"
    }
   ],
   "source": [
    "# 집합 : 데이터를 보관하는 기능\n",
    "A = {1,2,3}\n",
    "B = {3,4,5}\n",
    "A & B # 교집합"
   ]
  },
  {
   "cell_type": "code",
   "execution_count": 123,
   "id": "3cfced85-6d7f-4c10-b92c-e6d2507461a7",
   "metadata": {},
   "outputs": [
    {
     "data": {
      "text/plain": [
       "{1, 2, 3, 4, 5}"
      ]
     },
     "execution_count": 123,
     "metadata": {},
     "output_type": "execute_result"
    }
   ],
   "source": [
    "A | B # 합집합"
   ]
  },
  {
   "cell_type": "code",
   "execution_count": 124,
   "id": "6eec4ea5-1cee-46ef-914a-e045a6254e36",
   "metadata": {},
   "outputs": [
    {
     "data": {
      "text/plain": [
       "{1, 2}"
      ]
     },
     "execution_count": 124,
     "metadata": {},
     "output_type": "execute_result"
    }
   ],
   "source": [
    "A - B # A와 B의 차집합"
   ]
  },
  {
   "cell_type": "code",
   "execution_count": 125,
   "id": "2e304742-e2ce-4bc1-ba99-ac2a90b9f751",
   "metadata": {},
   "outputs": [
    {
     "data": {
      "text/plain": [
       "{4, 5}"
      ]
     },
     "execution_count": 125,
     "metadata": {},
     "output_type": "execute_result"
    }
   ],
   "source": [
    "B - A"
   ]
  },
  {
   "cell_type": "code",
   "execution_count": 129,
   "id": "52a4c13c-2ccc-474d-a016-0aaf4e77b281",
   "metadata": {},
   "outputs": [
    {
     "data": {
      "text/plain": [
       "{1, 2, 3}"
      ]
     },
     "execution_count": 129,
     "metadata": {},
     "output_type": "execute_result"
    }
   ],
   "source": [
    "# 1. 중복을 허용하지 않는다.\n",
    "# 2. 순서가 없다.\n",
    "A = {1,2,3,1,1,1}\n",
    "A"
   ]
  },
  {
   "cell_type": "code",
   "execution_count": 130,
   "id": "60ad9a25-2ed9-4cc1-80e4-4b17ce225ed4",
   "metadata": {},
   "outputs": [
    {
     "data": {
      "text/plain": [
       "{1, 2, 3, 4, 5, 6}"
      ]
     },
     "execution_count": 130,
     "metadata": {},
     "output_type": "execute_result"
    }
   ],
   "source": [
    "box = [1,2,3,1,2,3,1,2,3,4,5,6]\n",
    "set(box)"
   ]
  },
  {
   "cell_type": "code",
   "execution_count": 132,
   "id": "4fdf0e16-3cd8-4b54-969e-84f34b1b8a62",
   "metadata": {},
   "outputs": [
    {
     "data": {
      "text/plain": [
       "{1, 2, 3, 5}"
      ]
     },
     "execution_count": 132,
     "metadata": {},
     "output_type": "execute_result"
    }
   ],
   "source": [
    "A.add(5) # 집합 값 추가\n",
    "A"
   ]
  },
  {
   "cell_type": "code",
   "execution_count": 133,
   "id": "22b1d6df-70b2-4a36-bf75-f97a059813f0",
   "metadata": {},
   "outputs": [
    {
     "data": {
      "text/plain": [
       "{1, 2, 3, 4, 5, 6}"
      ]
     },
     "execution_count": 133,
     "metadata": {},
     "output_type": "execute_result"
    }
   ],
   "source": [
    "A.update([3,4,5,6]) # 여러개 추가\n",
    "A"
   ]
  },
  {
   "cell_type": "code",
   "execution_count": 134,
   "id": "8e8e8811-e4ca-4473-b8ea-c7098007e646",
   "metadata": {},
   "outputs": [
    {
     "data": {
      "text/plain": [
       "{2, 3, 4, 5, 6}"
      ]
     },
     "execution_count": 134,
     "metadata": {},
     "output_type": "execute_result"
    }
   ],
   "source": [
    "A.remove(1)\n",
    "A"
   ]
  },
  {
   "cell_type": "code",
   "execution_count": 143,
   "id": "8c6be5ae-3986-4cca-a7d5-75bf921edc62",
   "metadata": {},
   "outputs": [
    {
     "data": {
      "text/plain": [
       "True"
      ]
     },
     "execution_count": 143,
     "metadata": {},
     "output_type": "execute_result"
    }
   ],
   "source": [
    "# 불 자료형 : 참과 거짓\n",
    "# 비어있으면 거짓\n",
    "bool([3])"
   ]
  },
  {
   "cell_type": "code",
   "execution_count": 146,
   "id": "b62cc7fc-e14f-40a1-8267-d4ba12555b05",
   "metadata": {},
   "outputs": [
    {
     "data": {
      "text/plain": [
       "True"
      ]
     },
     "execution_count": 146,
     "metadata": {},
     "output_type": "execute_result"
    }
   ],
   "source": [
    "# == : 같다.\n",
    "# != : 다르다.\n",
    "\n",
    "bool(5) == True"
   ]
  },
  {
   "cell_type": "code",
   "execution_count": 147,
   "id": "c44853e1-0930-4eed-8b69-ed055ba22181",
   "metadata": {},
   "outputs": [
    {
     "name": "stdout",
     "output_type": "stream",
     "text": [
      "Taxi\n"
     ]
    }
   ],
   "source": [
    "# 제어문 (조건문, 반복문)\n",
    "money = True\n",
    "if money == True:\n",
    "    print(\"Taxi\")"
   ]
  },
  {
   "cell_type": "code",
   "execution_count": 151,
   "id": "79aa7cec-cb7c-48fb-995d-5d4a3e2811de",
   "metadata": {},
   "outputs": [
    {
     "name": "stdout",
     "output_type": "stream",
     "text": [
      "Walk\n"
     ]
    }
   ],
   "source": [
    "money = 2000\n",
    "card = True\n",
    "if money >= 3000 and card == True:\n",
    "    print('Taxi')\n",
    "else:\n",
    "    print('Walk')"
   ]
  },
  {
   "cell_type": "code",
   "execution_count": 153,
   "id": "c079ded5-66f1-4ec9-85eb-23b3b621ee41",
   "metadata": {},
   "outputs": [
    {
     "name": "stdout",
     "output_type": "stream",
     "text": [
      "Taxi\n"
     ]
    }
   ],
   "source": [
    "pocket = ['paper', 'phone']\n",
    "if \"money\" in pocket:\n",
    "    print('Taxi')\n",
    "else:\n",
    "    if card == True:\n",
    "        print('Taxi')\n",
    "    else:\n",
    "        print('Walk')"
   ]
  },
  {
   "cell_type": "code",
   "execution_count": 154,
   "id": "255a081b-22fd-4007-8c31-6b6cc74195de",
   "metadata": {},
   "outputs": [
    {
     "name": "stdout",
     "output_type": "stream",
     "text": [
      "Taxi\n"
     ]
    }
   ],
   "source": [
    "pocket = ['paper', 'phone']\n",
    "if \"money\" in pocket:\n",
    "    print('Taxi')\n",
    "elif card == True:\n",
    "    print('Taxi')\n",
    "else:\n",
    "    print('Walk')"
   ]
  },
  {
   "cell_type": "code",
   "execution_count": 155,
   "id": "035b612c-c877-48ee-b688-0b656e8f0e2e",
   "metadata": {},
   "outputs": [
    {
     "name": "stdout",
     "output_type": "stream",
     "text": [
      "C\n"
     ]
    }
   ],
   "source": [
    "score = 75\n",
    "if score >= 90:\n",
    "    print('A')\n",
    "elif score >= 80:\n",
    "    print('B')\n",
    "elif score >= 70:\n",
    "    print('C')\n",
    "elif score >= 60:\n",
    "    print('D')\n",
    "else:\n",
    "    print('F')"
   ]
  },
  {
   "cell_type": "code",
   "execution_count": 157,
   "id": "dcc25706-67bc-451f-8486-a757875644bc",
   "metadata": {},
   "outputs": [
    {
     "data": {
      "text/plain": [
       "'불합격'"
      ]
     },
     "execution_count": 157,
     "metadata": {},
     "output_type": "execute_result"
    }
   ],
   "source": [
    "# 퀴즈 : score가 80점 이상이면 message변수에 \"합격\" 을 넣고\n",
    "# 아니면 \"불합격\"을 넣어주세요.\n",
    "\n",
    "score = 65\n",
    "if score >= 80:\n",
    "    message = \"합격\"\n",
    "else:\n",
    "    message = \"불합격\"\n",
    "\n",
    "message"
   ]
  },
  {
   "cell_type": "code",
   "execution_count": 160,
   "id": "89f15b13-f98e-4ea1-9aba-cb73ca9e95b3",
   "metadata": {},
   "outputs": [
    {
     "data": {
      "text/plain": [
       "'불합격'"
      ]
     },
     "execution_count": 160,
     "metadata": {},
     "output_type": "execute_result"
    }
   ],
   "source": [
    "score = 35\n",
    "message = \"합격\" if score >= 80 else \"불합격\"\n",
    "message"
   ]
  },
  {
   "cell_type": "code",
   "execution_count": 162,
   "id": "1c483efc-4730-4a51-a2c3-d15d401841bc",
   "metadata": {},
   "outputs": [
    {
     "name": "stdout",
     "output_type": "stream",
     "text": [
      "나무를 1번 찍었습니다.\n",
      "나무를 2번 찍었습니다.\n",
      "나무를 3번 찍었습니다.\n",
      "나무를 4번 찍었습니다.\n",
      "나무를 5번 찍었습니다.\n",
      "나무를 6번 찍었습니다.\n",
      "나무를 7번 찍었습니다.\n",
      "나무를 8번 찍었습니다.\n",
      "나무를 9번 찍었습니다.\n",
      "나무를 10번 찍었습니다.\n",
      "나무가 쓰러졌습니다.\n"
     ]
    }
   ],
   "source": [
    "# 반복문\n",
    "# while문 : 조건이 참이면 반복 (몇번 반복해야할지 모를때)\n",
    "# for문 : 요청한 만큼만 순서대로 반복 (알때)\n",
    "\n",
    "hit = 0\n",
    "while hit < 10:\n",
    "    hit = hit + 1\n",
    "    print(f\"나무를 {hit}번 찍었습니다.\")\n",
    "    if hit == 10:\n",
    "        print(\"나무가 쓰러졌습니다.\")"
   ]
  },
  {
   "cell_type": "code",
   "execution_count": 165,
   "id": "d469e6e2-7297-4ec1-bb32-d763d1b57491",
   "metadata": {},
   "outputs": [
    {
     "name": "stdout",
     "output_type": "stream",
     "text": [
      "커피가 9잔 남았습니다.\n",
      "커피가 8잔 남았습니다.\n",
      "커피가 7잔 남았습니다.\n",
      "커피가 6잔 남았습니다.\n",
      "커피가 5잔 남았습니다.\n",
      "커피가 4잔 남았습니다.\n",
      "커피가 3잔 남았습니다.\n",
      "커피가 2잔 남았습니다.\n",
      "커피가 1잔 남았습니다.\n",
      "커피가 0잔 남았습니다.\n",
      "매진되었습니다.\n"
     ]
    }
   ],
   "source": [
    "coffee = 10\n",
    "while True:\n",
    "    coffee = coffee - 1\n",
    "    print(f\"커피가 {coffee}잔 남았습니다.\")\n",
    "    if coffee == 0:\n",
    "        print(\"매진되었습니다.\")\n",
    "        break"
   ]
  },
  {
   "cell_type": "code",
   "execution_count": 166,
   "id": "39fc9f3c-6157-48bb-bfa2-685701693141",
   "metadata": {},
   "outputs": [
    {
     "name": "stdout",
     "output_type": "stream",
     "text": [
      "1\n",
      "3\n",
      "5\n",
      "7\n",
      "9\n"
     ]
    }
   ],
   "source": [
    "a = 0\n",
    "while a < 10: # 이동\n",
    "    a += 1\n",
    "    if a % 2 == 0:\n",
    "        continue\n",
    "    print(a)"
   ]
  },
  {
   "cell_type": "code",
   "execution_count": 168,
   "id": "46548651-f796-44ee-ba3f-69b65173f6da",
   "metadata": {},
   "outputs": [
    {
     "data": {
      "text/plain": [
       "166833"
      ]
     },
     "execution_count": 168,
     "metadata": {},
     "output_type": "execute_result"
    }
   ],
   "source": [
    "# 퀴즈 : while문을 사용해서 1~1000까지 3의 배수의 합\n",
    "# 정답 : 166833\n",
    "\n",
    "a = 0\n",
    "total = 0\n",
    "while a < 1000:\n",
    "    a += 1\n",
    "    if a % 3 == 0:\n",
    "        total += a\n",
    "    else:\n",
    "        continue\n",
    "total"
   ]
  },
  {
   "cell_type": "code",
   "execution_count": 170,
   "id": "8f9035d9-0a0a-4368-aedf-b22dcbd9413a",
   "metadata": {},
   "outputs": [
    {
     "name": "stdout",
     "output_type": "stream",
     "text": [
      "p\n",
      "y\n",
      "t\n",
      "h\n",
      "o\n",
      "n\n"
     ]
    }
   ],
   "source": [
    "# for문\n",
    "t = \"python is too fun\"\n",
    "\n",
    "# for 변수이름 in 반복하고싶은것:\n",
    "\n",
    "# t 안에 있는 것들을 순서대로 x 변수에 넣어라.\n",
    "for x in 'python':\n",
    "    print(x)"
   ]
  },
  {
   "cell_type": "code",
   "execution_count": 171,
   "id": "e46ff26f-079c-4acf-bd1d-c8daacaab387",
   "metadata": {},
   "outputs": [
    {
     "name": "stdout",
     "output_type": "stream",
     "text": [
      "홍길동\n",
      "장원영\n",
      "강동원\n"
     ]
    }
   ],
   "source": [
    "box = ['홍길동', '장원영', '강동원']\n",
    "for name in box:\n",
    "    print(name)"
   ]
  },
  {
   "cell_type": "code",
   "execution_count": 172,
   "id": "73073003-c431-4bba-8b5d-57a56ebcfaf7",
   "metadata": {},
   "outputs": [
    {
     "name": "stdout",
     "output_type": "stream",
     "text": [
      "이름\n",
      "성별\n",
      "나이\n"
     ]
    }
   ],
   "source": [
    "dic = {\"이름\" : \"홍길동\", \"성별\" : \"남자\", \"나이\" : 40}\n",
    "\n",
    "for i in dic:\n",
    "    print(i)"
   ]
  },
  {
   "cell_type": "code",
   "execution_count": 175,
   "id": "d32d7846-32b6-4bed-9eea-51476f239495",
   "metadata": {},
   "outputs": [
    {
     "name": "stdout",
     "output_type": "stream",
     "text": [
      "홍길동\n",
      "남자\n",
      "40\n"
     ]
    }
   ],
   "source": [
    "for i, j in dic.items():\n",
    "    print(j)"
   ]
  },
  {
   "cell_type": "code",
   "execution_count": 178,
   "id": "565b06ae-8a99-4f80-a7f0-2d84aa8cbb5d",
   "metadata": {},
   "outputs": [
    {
     "name": "stdout",
     "output_type": "stream",
     "text": [
      "2\n",
      "5\n",
      "8\n"
     ]
    }
   ],
   "source": [
    "# 1~100까지 더하고 싶을때\n",
    "for n in range(2, 10, 3):\n",
    "    print(n)"
   ]
  },
  {
   "cell_type": "code",
   "execution_count": 179,
   "id": "8935fd44-af29-4d5d-b816-471b63c5d28a",
   "metadata": {},
   "outputs": [
    {
     "data": {
      "text/plain": [
       "5050"
      ]
     },
     "execution_count": 179,
     "metadata": {},
     "output_type": "execute_result"
    }
   ],
   "source": [
    "total = 0\n",
    "for n in range(1, 101):\n",
    "    total += n\n",
    "total"
   ]
  },
  {
   "cell_type": "code",
   "execution_count": 180,
   "id": "df2800ce-e082-46ab-a1e5-73a6ad04a1d8",
   "metadata": {},
   "outputs": [
    {
     "name": "stdout",
     "output_type": "stream",
     "text": [
      "2 X 1 = 2\n",
      "2 X 2 = 4\n",
      "2 X 3 = 6\n",
      "2 X 4 = 8\n",
      "2 X 5 = 10\n",
      "2 X 6 = 12\n",
      "2 X 7 = 14\n",
      "2 X 8 = 16\n",
      "2 X 9 = 18\n",
      "3 X 1 = 3\n",
      "3 X 2 = 6\n",
      "3 X 3 = 9\n",
      "3 X 4 = 12\n",
      "3 X 5 = 15\n",
      "3 X 6 = 18\n",
      "3 X 7 = 21\n",
      "3 X 8 = 24\n",
      "3 X 9 = 27\n",
      "4 X 1 = 4\n",
      "4 X 2 = 8\n",
      "4 X 3 = 12\n",
      "4 X 4 = 16\n",
      "4 X 5 = 20\n",
      "4 X 6 = 24\n",
      "4 X 7 = 28\n",
      "4 X 8 = 32\n",
      "4 X 9 = 36\n",
      "5 X 1 = 5\n",
      "5 X 2 = 10\n",
      "5 X 3 = 15\n",
      "5 X 4 = 20\n",
      "5 X 5 = 25\n",
      "5 X 6 = 30\n",
      "5 X 7 = 35\n",
      "5 X 8 = 40\n",
      "5 X 9 = 45\n",
      "6 X 1 = 6\n",
      "6 X 2 = 12\n",
      "6 X 3 = 18\n",
      "6 X 4 = 24\n",
      "6 X 5 = 30\n",
      "6 X 6 = 36\n",
      "6 X 7 = 42\n",
      "6 X 8 = 48\n",
      "6 X 9 = 54\n",
      "7 X 1 = 7\n",
      "7 X 2 = 14\n",
      "7 X 3 = 21\n",
      "7 X 4 = 28\n",
      "7 X 5 = 35\n",
      "7 X 6 = 42\n",
      "7 X 7 = 49\n",
      "7 X 8 = 56\n",
      "7 X 9 = 63\n",
      "8 X 1 = 8\n",
      "8 X 2 = 16\n",
      "8 X 3 = 24\n",
      "8 X 4 = 32\n",
      "8 X 5 = 40\n",
      "8 X 6 = 48\n",
      "8 X 7 = 56\n",
      "8 X 8 = 64\n",
      "8 X 9 = 72\n",
      "9 X 1 = 9\n",
      "9 X 2 = 18\n",
      "9 X 3 = 27\n",
      "9 X 4 = 36\n",
      "9 X 5 = 45\n",
      "9 X 6 = 54\n",
      "9 X 7 = 63\n",
      "9 X 8 = 72\n",
      "9 X 9 = 81\n"
     ]
    }
   ],
   "source": [
    "for n1 in range(2, 10):\n",
    "    for n2 in range(1, 10):\n",
    "        print(f\"{n1} X {n2} = {n1 * n2}\")"
   ]
  },
  {
   "cell_type": "code",
   "execution_count": 184,
   "id": "07772d11-6778-4c77-9223-529b9f26f682",
   "metadata": {},
   "outputs": [],
   "source": [
    "# 로또 1번~45번 6개의 번호를 뽑는 것\n",
    "count = 0\n",
    "for n1 in range(1, 46):\n",
    "    for n2 in range(n1+1, 46):\n",
    "        for n3 in range(n2+1, 46):\n",
    "            for n4 in range(n3+1, 46):\n",
    "                for n5 in range(n4+1, 46):\n",
    "                    for n6 in range(n5+1, 46):\n",
    "                        count += 1"
   ]
  },
  {
   "cell_type": "code",
   "execution_count": 185,
   "id": "495843a6-5912-423d-9351-80df23d42134",
   "metadata": {},
   "outputs": [
    {
     "data": {
      "text/plain": [
       "1.2277380399898834e-05"
      ]
     },
     "execution_count": 185,
     "metadata": {},
     "output_type": "execute_result"
    }
   ],
   "source": [
    "1 / count * 100"
   ]
  },
  {
   "cell_type": "code",
   "execution_count": 186,
   "id": "5f6b5992-388d-4e03-a6f1-5ada9c96d75f",
   "metadata": {},
   "outputs": [],
   "source": [
    "# 함수 만들기\n",
    "# def 함수이름(함수에 들어갈 재료):\n",
    "\n",
    "# 퀴즈 : 직각삼각형의 밑변의 길이와 높이의 길이를 넣어주면\n",
    "# 빗변의 길이를 반환하는 함수를 만들어보세요.\n",
    "\n",
    "def add(num1, num2):\n",
    "    return num1 + num2"
   ]
  },
  {
   "cell_type": "code",
   "execution_count": 187,
   "id": "f323bf26-d9a3-4749-983e-db652e339fe8",
   "metadata": {},
   "outputs": [
    {
     "data": {
      "text/plain": [
       "10"
      ]
     },
     "execution_count": 187,
     "metadata": {},
     "output_type": "execute_result"
    }
   ],
   "source": [
    "z = add(2, 8)\n",
    "z"
   ]
  },
  {
   "cell_type": "code",
   "execution_count": 188,
   "id": "77096a3f-852d-4aad-a820-99ca71181bb1",
   "metadata": {},
   "outputs": [],
   "source": [
    "def func(x, y):\n",
    "    return (x ** 2 + y ** 2) ** (1/2)"
   ]
  },
  {
   "cell_type": "code",
   "execution_count": 189,
   "id": "8b45a2e8-de11-4c3c-9411-063cc5618937",
   "metadata": {},
   "outputs": [
    {
     "data": {
      "text/plain": [
       "5.0"
      ]
     },
     "execution_count": 189,
     "metadata": {},
     "output_type": "execute_result"
    }
   ],
   "source": [
    "func(3, 4)"
   ]
  },
  {
   "cell_type": "code",
   "execution_count": 190,
   "id": "46c3ac5e-a8e8-47fe-b35f-a791d9c64e49",
   "metadata": {},
   "outputs": [],
   "source": [
    "def say():\n",
    "    return 'hello'"
   ]
  },
  {
   "cell_type": "code",
   "execution_count": 191,
   "id": "fe43f1a7-3d35-4ad4-aa08-08bc9a03a46b",
   "metadata": {},
   "outputs": [
    {
     "data": {
      "text/plain": [
       "'hello'"
      ]
     },
     "execution_count": 191,
     "metadata": {},
     "output_type": "execute_result"
    }
   ],
   "source": [
    "z = say()\n",
    "z"
   ]
  },
  {
   "cell_type": "code",
   "execution_count": 192,
   "id": "0c5fd553-c334-480c-91d4-75c48c934852",
   "metadata": {},
   "outputs": [],
   "source": [
    "def add(num1, num2):\n",
    "    print(num1 + num2)"
   ]
  },
  {
   "cell_type": "code",
   "execution_count": 193,
   "id": "a750c239-e3d8-466e-b342-8947f20ef9e9",
   "metadata": {},
   "outputs": [
    {
     "name": "stdout",
     "output_type": "stream",
     "text": [
      "9\n"
     ]
    }
   ],
   "source": [
    "z = add(2, 7)"
   ]
  },
  {
   "cell_type": "code",
   "execution_count": 196,
   "id": "f457abe4-0b1a-4608-a369-128731b4b29c",
   "metadata": {},
   "outputs": [],
   "source": [
    "z"
   ]
  },
  {
   "cell_type": "code",
   "execution_count": 197,
   "id": "4071307f-0ef1-4cb6-8747-5124c3582bc0",
   "metadata": {},
   "outputs": [],
   "source": [
    "def intro(name, age, sex = 5):\n",
    "    print(f\"나의 이름은 {name}이고, {age}살입니다.\")\n",
    "    if sex == 5:\n",
    "        print(\"남자입니다.\")\n",
    "    else:\n",
    "        print(\"여자입니다.\")"
   ]
  },
  {
   "cell_type": "code",
   "execution_count": 198,
   "id": "12ac8eab-3fa1-4e29-889d-635b885e9a28",
   "metadata": {},
   "outputs": [
    {
     "name": "stdout",
     "output_type": "stream",
     "text": [
      "나의 이름은 홍길동이고, 40살입니다.\n",
      "남자입니다.\n"
     ]
    }
   ],
   "source": [
    "intro(\"홍길동\", 40)"
   ]
  },
  {
   "cell_type": "code",
   "execution_count": 199,
   "id": "1a3e41e3-aebd-4a54-a3dc-ab23f2d909fd",
   "metadata": {},
   "outputs": [
    {
     "name": "stdout",
     "output_type": "stream",
     "text": [
      "나의 이름은 장원영이고, 20살입니다.\n",
      "여자입니다.\n"
     ]
    }
   ],
   "source": [
    "intro(\"장원영\", 20, 3)"
   ]
  },
  {
   "cell_type": "code",
   "execution_count": 202,
   "id": "a9ca3e89-93ee-474d-935b-08154fb3debd",
   "metadata": {},
   "outputs": [],
   "source": [
    "# n! 을 구하는 함수를 만들어보세요.\n",
    "def fac(n):\n",
    "    a = 1\n",
    "    for i in range(1, n+1):\n",
    "        a *= i\n",
    "    return a"
   ]
  },
  {
   "cell_type": "code",
   "execution_count": 203,
   "id": "c77932c1-44bb-4318-b239-9089644f75b1",
   "metadata": {},
   "outputs": [],
   "source": [
    "# 내가 나를 부르는 함수 : 재귀함수\n",
    "def fac(n):\n",
    "    if n == 1:\n",
    "        return 1\n",
    "    else:\n",
    "        return n * fac(n-1)"
   ]
  },
  {
   "cell_type": "code",
   "execution_count": 206,
   "id": "58a9eaa0-fd85-4cae-8534-e0ac3f0148d3",
   "metadata": {},
   "outputs": [],
   "source": [
    "# 함수 안에서 사용되는 변수는 함수 안에서만 영향을 미칩니다.\n",
    "def test():\n",
    "    global a\n",
    "    a = 5 # 지역변수"
   ]
  },
  {
   "cell_type": "code",
   "execution_count": 207,
   "id": "61e6a0a6-463a-42ee-93b5-213964acc8f8",
   "metadata": {},
   "outputs": [
    {
     "name": "stdout",
     "output_type": "stream",
     "text": [
      "5\n"
     ]
    }
   ],
   "source": [
    "a = 0 # 전역변수\n",
    "test()\n",
    "print(a)"
   ]
  },
  {
   "cell_type": "code",
   "execution_count": null,
   "id": "e68bace9-04b7-45d0-9f28-ecd3e19bfe6c",
   "metadata": {},
   "outputs": [],
   "source": []
  }
 ],
 "metadata": {
  "kernelspec": {
   "display_name": "Python 3 (ipykernel)",
   "language": "python",
   "name": "python3"
  },
  "language_info": {
   "codemirror_mode": {
    "name": "ipython",
    "version": 3
   },
   "file_extension": ".py",
   "mimetype": "text/x-python",
   "name": "python",
   "nbconvert_exporter": "python",
   "pygments_lexer": "ipython3",
   "version": "3.11.8"
  }
 },
 "nbformat": 4,
 "nbformat_minor": 5
}
