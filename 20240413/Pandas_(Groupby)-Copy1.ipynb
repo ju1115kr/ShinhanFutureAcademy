{
 "cells": [
  {
   "cell_type": "markdown",
   "metadata": {
    "id": "s6EHfpf4ZuzM"
   },
   "source": [
    "## Groupby\n",
    "Pandas의 groupby 기능은 데이터를 분할, 적용, 결합하는 과정을 통해 데이터 집계, 변환, 필터링 작업을 효율적으로 수행할 수 있게 해줍니다. 이 기능은 SQL의 GROUP BY 문과 유사하며, 복잡한 데이터 분석 작업을 간단하게 만들어 줍니다."
   ]
  },
  {
   "cell_type": "code",
   "execution_count": 1,
   "metadata": {
    "colab": {
     "base_uri": "https://localhost:8080/",
     "height": 206
    },
    "id": "lhWxXQXSZq5w",
    "outputId": "3a4e3b8c-60b9-4321-9cb2-be04fd07322c"
   },
   "outputs": [
    {
     "data": {
      "text/html": [
       "<div>\n",
       "<style scoped>\n",
       "    .dataframe tbody tr th:only-of-type {\n",
       "        vertical-align: middle;\n",
       "    }\n",
       "\n",
       "    .dataframe tbody tr th {\n",
       "        vertical-align: top;\n",
       "    }\n",
       "\n",
       "    .dataframe thead th {\n",
       "        text-align: right;\n",
       "    }\n",
       "</style>\n",
       "<table border=\"1\" class=\"dataframe\">\n",
       "  <thead>\n",
       "    <tr style=\"text-align: right;\">\n",
       "      <th></th>\n",
       "      <th>country</th>\n",
       "      <th>continent</th>\n",
       "      <th>year</th>\n",
       "      <th>lifeExp</th>\n",
       "      <th>pop</th>\n",
       "      <th>gdpPercap</th>\n",
       "    </tr>\n",
       "  </thead>\n",
       "  <tbody>\n",
       "    <tr>\n",
       "      <th>0</th>\n",
       "      <td>Afghanistan</td>\n",
       "      <td>Asia</td>\n",
       "      <td>1952</td>\n",
       "      <td>28.801</td>\n",
       "      <td>8425333</td>\n",
       "      <td>779.445314</td>\n",
       "    </tr>\n",
       "    <tr>\n",
       "      <th>1</th>\n",
       "      <td>Afghanistan</td>\n",
       "      <td>Asia</td>\n",
       "      <td>1957</td>\n",
       "      <td>30.332</td>\n",
       "      <td>9240934</td>\n",
       "      <td>820.853030</td>\n",
       "    </tr>\n",
       "    <tr>\n",
       "      <th>2</th>\n",
       "      <td>Afghanistan</td>\n",
       "      <td>Asia</td>\n",
       "      <td>1962</td>\n",
       "      <td>31.997</td>\n",
       "      <td>10267083</td>\n",
       "      <td>853.100710</td>\n",
       "    </tr>\n",
       "    <tr>\n",
       "      <th>3</th>\n",
       "      <td>Afghanistan</td>\n",
       "      <td>Asia</td>\n",
       "      <td>1967</td>\n",
       "      <td>34.020</td>\n",
       "      <td>11537966</td>\n",
       "      <td>836.197138</td>\n",
       "    </tr>\n",
       "    <tr>\n",
       "      <th>4</th>\n",
       "      <td>Afghanistan</td>\n",
       "      <td>Asia</td>\n",
       "      <td>1972</td>\n",
       "      <td>36.088</td>\n",
       "      <td>13079460</td>\n",
       "      <td>739.981106</td>\n",
       "    </tr>\n",
       "    <tr>\n",
       "      <th>...</th>\n",
       "      <td>...</td>\n",
       "      <td>...</td>\n",
       "      <td>...</td>\n",
       "      <td>...</td>\n",
       "      <td>...</td>\n",
       "      <td>...</td>\n",
       "    </tr>\n",
       "    <tr>\n",
       "      <th>1699</th>\n",
       "      <td>Zimbabwe</td>\n",
       "      <td>Africa</td>\n",
       "      <td>1987</td>\n",
       "      <td>62.351</td>\n",
       "      <td>9216418</td>\n",
       "      <td>706.157306</td>\n",
       "    </tr>\n",
       "    <tr>\n",
       "      <th>1700</th>\n",
       "      <td>Zimbabwe</td>\n",
       "      <td>Africa</td>\n",
       "      <td>1992</td>\n",
       "      <td>60.377</td>\n",
       "      <td>10704340</td>\n",
       "      <td>693.420786</td>\n",
       "    </tr>\n",
       "    <tr>\n",
       "      <th>1701</th>\n",
       "      <td>Zimbabwe</td>\n",
       "      <td>Africa</td>\n",
       "      <td>1997</td>\n",
       "      <td>46.809</td>\n",
       "      <td>11404948</td>\n",
       "      <td>792.449960</td>\n",
       "    </tr>\n",
       "    <tr>\n",
       "      <th>1702</th>\n",
       "      <td>Zimbabwe</td>\n",
       "      <td>Africa</td>\n",
       "      <td>2002</td>\n",
       "      <td>39.989</td>\n",
       "      <td>11926563</td>\n",
       "      <td>672.038623</td>\n",
       "    </tr>\n",
       "    <tr>\n",
       "      <th>1703</th>\n",
       "      <td>Zimbabwe</td>\n",
       "      <td>Africa</td>\n",
       "      <td>2007</td>\n",
       "      <td>43.487</td>\n",
       "      <td>12311143</td>\n",
       "      <td>469.709298</td>\n",
       "    </tr>\n",
       "  </tbody>\n",
       "</table>\n",
       "<p>1704 rows × 6 columns</p>\n",
       "</div>"
      ],
      "text/plain": [
       "          country continent  year  lifeExp       pop   gdpPercap\n",
       "0     Afghanistan      Asia  1952   28.801   8425333  779.445314\n",
       "1     Afghanistan      Asia  1957   30.332   9240934  820.853030\n",
       "2     Afghanistan      Asia  1962   31.997  10267083  853.100710\n",
       "3     Afghanistan      Asia  1967   34.020  11537966  836.197138\n",
       "4     Afghanistan      Asia  1972   36.088  13079460  739.981106\n",
       "...           ...       ...   ...      ...       ...         ...\n",
       "1699     Zimbabwe    Africa  1987   62.351   9216418  706.157306\n",
       "1700     Zimbabwe    Africa  1992   60.377  10704340  693.420786\n",
       "1701     Zimbabwe    Africa  1997   46.809  11404948  792.449960\n",
       "1702     Zimbabwe    Africa  2002   39.989  11926563  672.038623\n",
       "1703     Zimbabwe    Africa  2007   43.487  12311143  469.709298\n",
       "\n",
       "[1704 rows x 6 columns]"
      ]
     },
     "execution_count": 1,
     "metadata": {},
     "output_type": "execute_result"
    }
   ],
   "source": [
    "import pandas as pd\n",
    "\n",
    "df = pd.read_csv(\"Data/gapminder.tsv\", sep = '\\t')\n",
    "df"
   ]
  },
  {
   "cell_type": "markdown",
   "metadata": {
    "id": "-YAJPUpZdAKA"
   },
   "source": [
    "### 1. 주요 함수들\n",
    "* mean(): 그룹별 평균 값을 계산합니다.\n",
    "* sum(): 그룹별 합계를 계산합니다.\n",
    "* size(): 각 그룹의 크기(행의 개수)를 계산합니다.\n",
    "* count(): 각 그룹의 non-NA/null 값의 개수를 계산합니다.\n",
    "* min(), max(): 각 그룹의 최소값과 최대값을 계산합니다.\n",
    "* describe(): 각 그룹에 대한 기술통계를 요약하여 보여줍니다."
   ]
  },
  {
   "cell_type": "code",
   "execution_count": null,
   "metadata": {
    "colab": {
     "base_uri": "https://localhost:8080/"
    },
    "id": "UUlztg2Va_k8",
    "outputId": "4beb4376-09ba-4b30-8bb8-d33b7b625f17"
   },
   "outputs": [],
   "source": []
  },
  {
   "cell_type": "markdown",
   "metadata": {
    "id": "NzEMqVr4fVRm"
   },
   "source": [
    "### 2. agg 함수\n",
    "Pandas의 agg 함수는 집계(aggregation)를 위해 사용되며, 매우 유연하고 강력한 기능을 제공합니다. agg 함수는 하나 이상의 집계 연산을 데이터에 적용할 수 있게 하며, 이를 통해 데이터의 요약 통계를 쉽게 얻을 수 있습니다. groupby와 함께 사용될 때 특히 유용하며, 다양한 방식으로 집계를 커스텀할 수 있습니다."
   ]
  },
  {
   "cell_type": "code",
   "execution_count": 3,
   "metadata": {
    "id": "wBagjcnVdLeE"
   },
   "outputs": [
    {
     "data": {
      "text/html": [
       "<div>\n",
       "<style scoped>\n",
       "    .dataframe tbody tr th:only-of-type {\n",
       "        vertical-align: middle;\n",
       "    }\n",
       "\n",
       "    .dataframe tbody tr th {\n",
       "        vertical-align: top;\n",
       "    }\n",
       "\n",
       "    .dataframe thead th {\n",
       "        text-align: right;\n",
       "    }\n",
       "</style>\n",
       "<table border=\"1\" class=\"dataframe\">\n",
       "  <thead>\n",
       "    <tr style=\"text-align: right;\">\n",
       "      <th></th>\n",
       "      <th>lifeExp</th>\n",
       "      <th>pop</th>\n",
       "    </tr>\n",
       "    <tr>\n",
       "      <th>year</th>\n",
       "      <th></th>\n",
       "      <th></th>\n",
       "    </tr>\n",
       "  </thead>\n",
       "  <tbody>\n",
       "    <tr>\n",
       "      <th>1952</th>\n",
       "      <td>49.057620</td>\n",
       "      <td>1.695040e+07</td>\n",
       "    </tr>\n",
       "    <tr>\n",
       "      <th>1957</th>\n",
       "      <td>51.507401</td>\n",
       "      <td>1.876341e+07</td>\n",
       "    </tr>\n",
       "    <tr>\n",
       "      <th>1962</th>\n",
       "      <td>53.609249</td>\n",
       "      <td>2.042101e+07</td>\n",
       "    </tr>\n",
       "    <tr>\n",
       "      <th>1967</th>\n",
       "      <td>55.678290</td>\n",
       "      <td>2.265830e+07</td>\n",
       "    </tr>\n",
       "    <tr>\n",
       "      <th>1972</th>\n",
       "      <td>57.647386</td>\n",
       "      <td>2.518998e+07</td>\n",
       "    </tr>\n",
       "    <tr>\n",
       "      <th>1977</th>\n",
       "      <td>59.570157</td>\n",
       "      <td>2.767638e+07</td>\n",
       "    </tr>\n",
       "    <tr>\n",
       "      <th>1982</th>\n",
       "      <td>61.533197</td>\n",
       "      <td>3.020730e+07</td>\n",
       "    </tr>\n",
       "    <tr>\n",
       "      <th>1987</th>\n",
       "      <td>63.212613</td>\n",
       "      <td>3.303857e+07</td>\n",
       "    </tr>\n",
       "    <tr>\n",
       "      <th>1992</th>\n",
       "      <td>64.160338</td>\n",
       "      <td>3.599092e+07</td>\n",
       "    </tr>\n",
       "    <tr>\n",
       "      <th>1997</th>\n",
       "      <td>65.014676</td>\n",
       "      <td>3.883947e+07</td>\n",
       "    </tr>\n",
       "    <tr>\n",
       "      <th>2002</th>\n",
       "      <td>65.694923</td>\n",
       "      <td>4.145759e+07</td>\n",
       "    </tr>\n",
       "    <tr>\n",
       "      <th>2007</th>\n",
       "      <td>67.007423</td>\n",
       "      <td>4.402122e+07</td>\n",
       "    </tr>\n",
       "  </tbody>\n",
       "</table>\n",
       "</div>"
      ],
      "text/plain": [
       "        lifeExp           pop\n",
       "year                         \n",
       "1952  49.057620  1.695040e+07\n",
       "1957  51.507401  1.876341e+07\n",
       "1962  53.609249  2.042101e+07\n",
       "1967  55.678290  2.265830e+07\n",
       "1972  57.647386  2.518998e+07\n",
       "1977  59.570157  2.767638e+07\n",
       "1982  61.533197  3.020730e+07\n",
       "1987  63.212613  3.303857e+07\n",
       "1992  64.160338  3.599092e+07\n",
       "1997  65.014676  3.883947e+07\n",
       "2002  65.694923  4.145759e+07\n",
       "2007  67.007423  4.402122e+07"
      ]
     },
     "execution_count": 3,
     "metadata": {},
     "output_type": "execute_result"
    }
   ],
   "source": [
    "df.groupby(\"year\")[['lifeExp', 'pop']].mean()"
   ]
  },
  {
   "cell_type": "code",
   "execution_count": 5,
   "metadata": {},
   "outputs": [
    {
     "data": {
      "text/html": [
       "<div>\n",
       "<style scoped>\n",
       "    .dataframe tbody tr th:only-of-type {\n",
       "        vertical-align: middle;\n",
       "    }\n",
       "\n",
       "    .dataframe tbody tr th {\n",
       "        vertical-align: top;\n",
       "    }\n",
       "\n",
       "    .dataframe thead tr th {\n",
       "        text-align: left;\n",
       "    }\n",
       "\n",
       "    .dataframe thead tr:last-of-type th {\n",
       "        text-align: right;\n",
       "    }\n",
       "</style>\n",
       "<table border=\"1\" class=\"dataframe\">\n",
       "  <thead>\n",
       "    <tr>\n",
       "      <th></th>\n",
       "      <th>lifeExp</th>\n",
       "      <th>pop</th>\n",
       "      <th colspan=\"2\" halign=\"left\">gdpPercap</th>\n",
       "    </tr>\n",
       "    <tr>\n",
       "      <th></th>\n",
       "      <th>mean</th>\n",
       "      <th>max</th>\n",
       "      <th>mean</th>\n",
       "      <th>median</th>\n",
       "    </tr>\n",
       "    <tr>\n",
       "      <th>year</th>\n",
       "      <th></th>\n",
       "      <th></th>\n",
       "      <th></th>\n",
       "      <th></th>\n",
       "    </tr>\n",
       "  </thead>\n",
       "  <tbody>\n",
       "    <tr>\n",
       "      <th>1952</th>\n",
       "      <td>49.057620</td>\n",
       "      <td>556263527</td>\n",
       "      <td>3725.276046</td>\n",
       "      <td>1968.528344</td>\n",
       "    </tr>\n",
       "    <tr>\n",
       "      <th>1957</th>\n",
       "      <td>51.507401</td>\n",
       "      <td>637408000</td>\n",
       "      <td>4299.408345</td>\n",
       "      <td>2173.220291</td>\n",
       "    </tr>\n",
       "    <tr>\n",
       "      <th>1962</th>\n",
       "      <td>53.609249</td>\n",
       "      <td>665770000</td>\n",
       "      <td>4725.812342</td>\n",
       "      <td>2335.439533</td>\n",
       "    </tr>\n",
       "    <tr>\n",
       "      <th>1967</th>\n",
       "      <td>55.678290</td>\n",
       "      <td>754550000</td>\n",
       "      <td>5483.653047</td>\n",
       "      <td>2678.334740</td>\n",
       "    </tr>\n",
       "    <tr>\n",
       "      <th>1972</th>\n",
       "      <td>57.647386</td>\n",
       "      <td>862030000</td>\n",
       "      <td>6770.082815</td>\n",
       "      <td>3339.129407</td>\n",
       "    </tr>\n",
       "    <tr>\n",
       "      <th>1977</th>\n",
       "      <td>59.570157</td>\n",
       "      <td>943455000</td>\n",
       "      <td>7313.166421</td>\n",
       "      <td>3798.609244</td>\n",
       "    </tr>\n",
       "    <tr>\n",
       "      <th>1982</th>\n",
       "      <td>61.533197</td>\n",
       "      <td>1000281000</td>\n",
       "      <td>7518.901673</td>\n",
       "      <td>4216.228428</td>\n",
       "    </tr>\n",
       "    <tr>\n",
       "      <th>1987</th>\n",
       "      <td>63.212613</td>\n",
       "      <td>1084035000</td>\n",
       "      <td>7900.920218</td>\n",
       "      <td>4280.300366</td>\n",
       "    </tr>\n",
       "    <tr>\n",
       "      <th>1992</th>\n",
       "      <td>64.160338</td>\n",
       "      <td>1164970000</td>\n",
       "      <td>8158.608521</td>\n",
       "      <td>4386.085502</td>\n",
       "    </tr>\n",
       "    <tr>\n",
       "      <th>1997</th>\n",
       "      <td>65.014676</td>\n",
       "      <td>1230075000</td>\n",
       "      <td>9090.175363</td>\n",
       "      <td>4781.825478</td>\n",
       "    </tr>\n",
       "    <tr>\n",
       "      <th>2002</th>\n",
       "      <td>65.694923</td>\n",
       "      <td>1280400000</td>\n",
       "      <td>9917.848365</td>\n",
       "      <td>5319.804524</td>\n",
       "    </tr>\n",
       "    <tr>\n",
       "      <th>2007</th>\n",
       "      <td>67.007423</td>\n",
       "      <td>1318683096</td>\n",
       "      <td>11680.071820</td>\n",
       "      <td>6124.371108</td>\n",
       "    </tr>\n",
       "  </tbody>\n",
       "</table>\n",
       "</div>"
      ],
      "text/plain": [
       "        lifeExp         pop     gdpPercap             \n",
       "           mean         max          mean       median\n",
       "year                                                  \n",
       "1952  49.057620   556263527   3725.276046  1968.528344\n",
       "1957  51.507401   637408000   4299.408345  2173.220291\n",
       "1962  53.609249   665770000   4725.812342  2335.439533\n",
       "1967  55.678290   754550000   5483.653047  2678.334740\n",
       "1972  57.647386   862030000   6770.082815  3339.129407\n",
       "1977  59.570157   943455000   7313.166421  3798.609244\n",
       "1982  61.533197  1000281000   7518.901673  4216.228428\n",
       "1987  63.212613  1084035000   7900.920218  4280.300366\n",
       "1992  64.160338  1164970000   8158.608521  4386.085502\n",
       "1997  65.014676  1230075000   9090.175363  4781.825478\n",
       "2002  65.694923  1280400000   9917.848365  5319.804524\n",
       "2007  67.007423  1318683096  11680.071820  6124.371108"
      ]
     },
     "execution_count": 5,
     "metadata": {},
     "output_type": "execute_result"
    }
   ],
   "source": [
    "df.groupby(\"year\").agg({\"lifeExp\" : \"mean\", \"pop\" : 'max',\n",
    "                        \"gdpPercap\" : ['mean', 'median']})"
   ]
  },
  {
   "cell_type": "code",
   "execution_count": 7,
   "metadata": {},
   "outputs": [
    {
     "data": {
      "text/html": [
       "<div>\n",
       "<style scoped>\n",
       "    .dataframe tbody tr th:only-of-type {\n",
       "        vertical-align: middle;\n",
       "    }\n",
       "\n",
       "    .dataframe tbody tr th {\n",
       "        vertical-align: top;\n",
       "    }\n",
       "\n",
       "    .dataframe thead tr th {\n",
       "        text-align: left;\n",
       "    }\n",
       "\n",
       "    .dataframe thead tr:last-of-type th {\n",
       "        text-align: right;\n",
       "    }\n",
       "</style>\n",
       "<table border=\"1\" class=\"dataframe\">\n",
       "  <thead>\n",
       "    <tr>\n",
       "      <th></th>\n",
       "      <th colspan=\"2\" halign=\"left\">lifeExp</th>\n",
       "      <th colspan=\"2\" halign=\"left\">pop</th>\n",
       "      <th colspan=\"2\" halign=\"left\">gdpPercap</th>\n",
       "    </tr>\n",
       "    <tr>\n",
       "      <th></th>\n",
       "      <th>mean</th>\n",
       "      <th>median</th>\n",
       "      <th>mean</th>\n",
       "      <th>median</th>\n",
       "      <th>mean</th>\n",
       "      <th>median</th>\n",
       "    </tr>\n",
       "    <tr>\n",
       "      <th>year</th>\n",
       "      <th></th>\n",
       "      <th></th>\n",
       "      <th></th>\n",
       "      <th></th>\n",
       "      <th></th>\n",
       "      <th></th>\n",
       "    </tr>\n",
       "  </thead>\n",
       "  <tbody>\n",
       "    <tr>\n",
       "      <th>1952</th>\n",
       "      <td>49.057620</td>\n",
       "      <td>45.1355</td>\n",
       "      <td>1.695040e+07</td>\n",
       "      <td>3943953.0</td>\n",
       "      <td>3725.276046</td>\n",
       "      <td>1968.528344</td>\n",
       "    </tr>\n",
       "    <tr>\n",
       "      <th>1957</th>\n",
       "      <td>51.507401</td>\n",
       "      <td>48.3605</td>\n",
       "      <td>1.876341e+07</td>\n",
       "      <td>4282942.0</td>\n",
       "      <td>4299.408345</td>\n",
       "      <td>2173.220291</td>\n",
       "    </tr>\n",
       "    <tr>\n",
       "      <th>1962</th>\n",
       "      <td>53.609249</td>\n",
       "      <td>50.8810</td>\n",
       "      <td>2.042101e+07</td>\n",
       "      <td>4686039.5</td>\n",
       "      <td>4725.812342</td>\n",
       "      <td>2335.439533</td>\n",
       "    </tr>\n",
       "    <tr>\n",
       "      <th>1967</th>\n",
       "      <td>55.678290</td>\n",
       "      <td>53.8250</td>\n",
       "      <td>2.265830e+07</td>\n",
       "      <td>5170175.5</td>\n",
       "      <td>5483.653047</td>\n",
       "      <td>2678.334740</td>\n",
       "    </tr>\n",
       "    <tr>\n",
       "      <th>1972</th>\n",
       "      <td>57.647386</td>\n",
       "      <td>56.5300</td>\n",
       "      <td>2.518998e+07</td>\n",
       "      <td>5877996.5</td>\n",
       "      <td>6770.082815</td>\n",
       "      <td>3339.129407</td>\n",
       "    </tr>\n",
       "    <tr>\n",
       "      <th>1977</th>\n",
       "      <td>59.570157</td>\n",
       "      <td>59.6720</td>\n",
       "      <td>2.767638e+07</td>\n",
       "      <td>6404036.5</td>\n",
       "      <td>7313.166421</td>\n",
       "      <td>3798.609244</td>\n",
       "    </tr>\n",
       "    <tr>\n",
       "      <th>1982</th>\n",
       "      <td>61.533197</td>\n",
       "      <td>62.4415</td>\n",
       "      <td>3.020730e+07</td>\n",
       "      <td>7007320.0</td>\n",
       "      <td>7518.901673</td>\n",
       "      <td>4216.228428</td>\n",
       "    </tr>\n",
       "    <tr>\n",
       "      <th>1987</th>\n",
       "      <td>63.212613</td>\n",
       "      <td>65.8340</td>\n",
       "      <td>3.303857e+07</td>\n",
       "      <td>7774861.5</td>\n",
       "      <td>7900.920218</td>\n",
       "      <td>4280.300366</td>\n",
       "    </tr>\n",
       "    <tr>\n",
       "      <th>1992</th>\n",
       "      <td>64.160338</td>\n",
       "      <td>67.7030</td>\n",
       "      <td>3.599092e+07</td>\n",
       "      <td>8688686.5</td>\n",
       "      <td>8158.608521</td>\n",
       "      <td>4386.085502</td>\n",
       "    </tr>\n",
       "    <tr>\n",
       "      <th>1997</th>\n",
       "      <td>65.014676</td>\n",
       "      <td>69.3940</td>\n",
       "      <td>3.883947e+07</td>\n",
       "      <td>9735063.5</td>\n",
       "      <td>9090.175363</td>\n",
       "      <td>4781.825478</td>\n",
       "    </tr>\n",
       "    <tr>\n",
       "      <th>2002</th>\n",
       "      <td>65.694923</td>\n",
       "      <td>70.8255</td>\n",
       "      <td>4.145759e+07</td>\n",
       "      <td>10372918.5</td>\n",
       "      <td>9917.848365</td>\n",
       "      <td>5319.804524</td>\n",
       "    </tr>\n",
       "    <tr>\n",
       "      <th>2007</th>\n",
       "      <td>67.007423</td>\n",
       "      <td>71.9355</td>\n",
       "      <td>4.402122e+07</td>\n",
       "      <td>10517531.0</td>\n",
       "      <td>11680.071820</td>\n",
       "      <td>6124.371108</td>\n",
       "    </tr>\n",
       "  </tbody>\n",
       "</table>\n",
       "</div>"
      ],
      "text/plain": [
       "        lifeExp                    pop                 gdpPercap             \n",
       "           mean   median          mean      median          mean       median\n",
       "year                                                                         \n",
       "1952  49.057620  45.1355  1.695040e+07   3943953.0   3725.276046  1968.528344\n",
       "1957  51.507401  48.3605  1.876341e+07   4282942.0   4299.408345  2173.220291\n",
       "1962  53.609249  50.8810  2.042101e+07   4686039.5   4725.812342  2335.439533\n",
       "1967  55.678290  53.8250  2.265830e+07   5170175.5   5483.653047  2678.334740\n",
       "1972  57.647386  56.5300  2.518998e+07   5877996.5   6770.082815  3339.129407\n",
       "1977  59.570157  59.6720  2.767638e+07   6404036.5   7313.166421  3798.609244\n",
       "1982  61.533197  62.4415  3.020730e+07   7007320.0   7518.901673  4216.228428\n",
       "1987  63.212613  65.8340  3.303857e+07   7774861.5   7900.920218  4280.300366\n",
       "1992  64.160338  67.7030  3.599092e+07   8688686.5   8158.608521  4386.085502\n",
       "1997  65.014676  69.3940  3.883947e+07   9735063.5   9090.175363  4781.825478\n",
       "2002  65.694923  70.8255  4.145759e+07  10372918.5   9917.848365  5319.804524\n",
       "2007  67.007423  71.9355  4.402122e+07  10517531.0  11680.071820  6124.371108"
      ]
     },
     "execution_count": 7,
     "metadata": {},
     "output_type": "execute_result"
    }
   ],
   "source": [
    "df.groupby(\"year\")[['lifeExp', 'pop', 'gdpPercap']].agg(['mean', 'median'])"
   ]
  },
  {
   "cell_type": "code",
   "execution_count": 8,
   "metadata": {},
   "outputs": [],
   "source": [
    "def test(x):\n",
    "    return x.max() - x.min()"
   ]
  },
  {
   "cell_type": "markdown",
   "metadata": {
    "id": "uZx-_CyCfcgl"
   },
   "source": [
    "### 3. filter 함수\n",
    "Pandas의 filter 함수는 DataFrame이나 Series에서 특정 조건을 만족하는 데이터를 선택하기 위해 사용됩니다. 하지만 groupby 객체와 함께 사용될 때, filter는 그룹화된 데이터에 대해 조건에 따라 필터링을 수행하고, 특정 기준을 만족하는 그룹만을 반환합니다. 이 방식은 특정 조건에 따라 전체 데이터 세트에서 일부 그룹을 제외시키고자 할 때 유용합니다."
   ]
  },
  {
   "cell_type": "code",
   "execution_count": 13,
   "metadata": {
    "colab": {
     "base_uri": "https://localhost:8080/",
     "height": 424
    },
    "id": "nNV8KjC-fo56",
    "outputId": "9aaedb01-3015-4086-daec-5759d31aa096"
   },
   "outputs": [
    {
     "data": {
      "text/html": [
       "<div>\n",
       "<style scoped>\n",
       "    .dataframe tbody tr th:only-of-type {\n",
       "        vertical-align: middle;\n",
       "    }\n",
       "\n",
       "    .dataframe tbody tr th {\n",
       "        vertical-align: top;\n",
       "    }\n",
       "\n",
       "    .dataframe thead th {\n",
       "        text-align: right;\n",
       "    }\n",
       "</style>\n",
       "<table border=\"1\" class=\"dataframe\">\n",
       "  <thead>\n",
       "    <tr style=\"text-align: right;\">\n",
       "      <th></th>\n",
       "      <th>country</th>\n",
       "      <th>continent</th>\n",
       "      <th>year</th>\n",
       "      <th>lifeExp</th>\n",
       "      <th>pop</th>\n",
       "      <th>gdpPercap</th>\n",
       "    </tr>\n",
       "  </thead>\n",
       "  <tbody>\n",
       "    <tr>\n",
       "      <th>12</th>\n",
       "      <td>Albania</td>\n",
       "      <td>Europe</td>\n",
       "      <td>1952</td>\n",
       "      <td>55.230</td>\n",
       "      <td>1282697</td>\n",
       "      <td>1601.056136</td>\n",
       "    </tr>\n",
       "    <tr>\n",
       "      <th>13</th>\n",
       "      <td>Albania</td>\n",
       "      <td>Europe</td>\n",
       "      <td>1957</td>\n",
       "      <td>59.280</td>\n",
       "      <td>1476505</td>\n",
       "      <td>1942.284244</td>\n",
       "    </tr>\n",
       "    <tr>\n",
       "      <th>14</th>\n",
       "      <td>Albania</td>\n",
       "      <td>Europe</td>\n",
       "      <td>1962</td>\n",
       "      <td>64.820</td>\n",
       "      <td>1728137</td>\n",
       "      <td>2312.888958</td>\n",
       "    </tr>\n",
       "    <tr>\n",
       "      <th>15</th>\n",
       "      <td>Albania</td>\n",
       "      <td>Europe</td>\n",
       "      <td>1967</td>\n",
       "      <td>66.220</td>\n",
       "      <td>1984060</td>\n",
       "      <td>2760.196931</td>\n",
       "    </tr>\n",
       "    <tr>\n",
       "      <th>16</th>\n",
       "      <td>Albania</td>\n",
       "      <td>Europe</td>\n",
       "      <td>1972</td>\n",
       "      <td>67.690</td>\n",
       "      <td>2263554</td>\n",
       "      <td>3313.422188</td>\n",
       "    </tr>\n",
       "    <tr>\n",
       "      <th>...</th>\n",
       "      <td>...</td>\n",
       "      <td>...</td>\n",
       "      <td>...</td>\n",
       "      <td>...</td>\n",
       "      <td>...</td>\n",
       "      <td>...</td>\n",
       "    </tr>\n",
       "    <tr>\n",
       "      <th>1603</th>\n",
       "      <td>United Kingdom</td>\n",
       "      <td>Europe</td>\n",
       "      <td>1987</td>\n",
       "      <td>75.007</td>\n",
       "      <td>56981620</td>\n",
       "      <td>21664.787670</td>\n",
       "    </tr>\n",
       "    <tr>\n",
       "      <th>1604</th>\n",
       "      <td>United Kingdom</td>\n",
       "      <td>Europe</td>\n",
       "      <td>1992</td>\n",
       "      <td>76.420</td>\n",
       "      <td>57866349</td>\n",
       "      <td>22705.092540</td>\n",
       "    </tr>\n",
       "    <tr>\n",
       "      <th>1605</th>\n",
       "      <td>United Kingdom</td>\n",
       "      <td>Europe</td>\n",
       "      <td>1997</td>\n",
       "      <td>77.218</td>\n",
       "      <td>58808266</td>\n",
       "      <td>26074.531360</td>\n",
       "    </tr>\n",
       "    <tr>\n",
       "      <th>1606</th>\n",
       "      <td>United Kingdom</td>\n",
       "      <td>Europe</td>\n",
       "      <td>2002</td>\n",
       "      <td>78.471</td>\n",
       "      <td>59912431</td>\n",
       "      <td>29478.999190</td>\n",
       "    </tr>\n",
       "    <tr>\n",
       "      <th>1607</th>\n",
       "      <td>United Kingdom</td>\n",
       "      <td>Europe</td>\n",
       "      <td>2007</td>\n",
       "      <td>79.425</td>\n",
       "      <td>60776238</td>\n",
       "      <td>33203.261280</td>\n",
       "    </tr>\n",
       "  </tbody>\n",
       "</table>\n",
       "<p>384 rows × 6 columns</p>\n",
       "</div>"
      ],
      "text/plain": [
       "             country continent  year  lifeExp       pop     gdpPercap\n",
       "12           Albania    Europe  1952   55.230   1282697   1601.056136\n",
       "13           Albania    Europe  1957   59.280   1476505   1942.284244\n",
       "14           Albania    Europe  1962   64.820   1728137   2312.888958\n",
       "15           Albania    Europe  1967   66.220   1984060   2760.196931\n",
       "16           Albania    Europe  1972   67.690   2263554   3313.422188\n",
       "...              ...       ...   ...      ...       ...           ...\n",
       "1603  United Kingdom    Europe  1987   75.007  56981620  21664.787670\n",
       "1604  United Kingdom    Europe  1992   76.420  57866349  22705.092540\n",
       "1605  United Kingdom    Europe  1997   77.218  58808266  26074.531360\n",
       "1606  United Kingdom    Europe  2002   78.471  59912431  29478.999190\n",
       "1607  United Kingdom    Europe  2007   79.425  60776238  33203.261280\n",
       "\n",
       "[384 rows x 6 columns]"
      ]
     },
     "execution_count": 13,
     "metadata": {},
     "output_type": "execute_result"
    }
   ],
   "source": [
    "# 기대수명의 평균이 50이상인 대륙만 필터링\n",
    "df.groupby(\"continent\").filter(lambda x : x['lifeExp'].mean() > 70)"
   ]
  },
  {
   "cell_type": "markdown",
   "metadata": {
    "id": "M585vOTPhqUm"
   },
   "source": [
    "### 4. transform 함수\n",
    "Pandas의 transform 함수는 데이터프레임이나 시리즈의 각 요소에 함수를 적용하고, 그 결과를 같은 형태로 반환하는데 사용됩니다. transform은 특히 groupby 객체와 함께 사용될 때 유용하며, 각 그룹에 대해 데이터 변환을 수행한 후 원본 배열과 같은 크기의 결과를 반환합니다. 이는 그룹별로 요약된 값을 각 데이터 포인트에 적용해야 할 때 매우 편리합니다."
   ]
  },
  {
   "cell_type": "code",
   "execution_count": 15,
   "metadata": {
    "colab": {
     "base_uri": "https://localhost:8080/"
    },
    "id": "I4co233MhKvi",
    "outputId": "31b9db3b-e402-4998-fb13-7f5106e0cb50"
   },
   "outputs": [
    {
     "data": {
      "text/plain": [
       "0       53.802\n",
       "1       53.802\n",
       "2       53.802\n",
       "3       53.802\n",
       "4       53.802\n",
       "         ...  \n",
       "1699    52.843\n",
       "1700    52.843\n",
       "1701    52.843\n",
       "1702    52.843\n",
       "1703    52.843\n",
       "Name: lifeExp, Length: 1704, dtype: float64"
      ]
     },
     "execution_count": 15,
     "metadata": {},
     "output_type": "execute_result"
    }
   ],
   "source": [
    "# 대륙별로 기대수명의 최대값과 최소값을 뺀 범위\n",
    "\n",
    "def test(x):\n",
    "    return x.max() - x.min()\n",
    "\n",
    "df.groupby(\"continent\")['lifeExp'].transform(test)"
   ]
  },
  {
   "cell_type": "markdown",
   "metadata": {
    "id": "GcXngNNlmEWd"
   },
   "source": [
    "### 5. idxmax 함수\n",
    "idxmax() 함수는 Pandas의 Series나 DataFrame 객체에서 값이 최대인 항목의 인덱스를 반환합니다. 이 함수는 수치 데이터를 다룰 때 유용하며, 최댓값을 가지는 요소의 위치를 찾고자 할 때 사용됩니다. idxmax()는 기본적으로 열 방향(axis=0)으로 동작하며, 행 방향(axis=1)으로의 작동도 가능합니다. 반대인 idxmin() 함수도 있습니다."
   ]
  },
  {
   "cell_type": "code",
   "execution_count": 17,
   "metadata": {
    "id": "LuGfNnIWmDUc"
   },
   "outputs": [
    {
     "data": {
      "text/html": [
       "<div>\n",
       "<style scoped>\n",
       "    .dataframe tbody tr th:only-of-type {\n",
       "        vertical-align: middle;\n",
       "    }\n",
       "\n",
       "    .dataframe tbody tr th {\n",
       "        vertical-align: top;\n",
       "    }\n",
       "\n",
       "    .dataframe thead th {\n",
       "        text-align: right;\n",
       "    }\n",
       "</style>\n",
       "<table border=\"1\" class=\"dataframe\">\n",
       "  <thead>\n",
       "    <tr style=\"text-align: right;\">\n",
       "      <th></th>\n",
       "      <th>country</th>\n",
       "      <th>continent</th>\n",
       "      <th>year</th>\n",
       "      <th>lifeExp</th>\n",
       "      <th>pop</th>\n",
       "      <th>gdpPercap</th>\n",
       "    </tr>\n",
       "  </thead>\n",
       "  <tbody>\n",
       "    <tr>\n",
       "      <th>1140</th>\n",
       "      <td>Norway</td>\n",
       "      <td>Europe</td>\n",
       "      <td>1952</td>\n",
       "      <td>72.670</td>\n",
       "      <td>3327728</td>\n",
       "      <td>10095.421720</td>\n",
       "    </tr>\n",
       "    <tr>\n",
       "      <th>685</th>\n",
       "      <td>Iceland</td>\n",
       "      <td>Europe</td>\n",
       "      <td>1957</td>\n",
       "      <td>73.470</td>\n",
       "      <td>165110</td>\n",
       "      <td>9244.001412</td>\n",
       "    </tr>\n",
       "    <tr>\n",
       "      <th>686</th>\n",
       "      <td>Iceland</td>\n",
       "      <td>Europe</td>\n",
       "      <td>1962</td>\n",
       "      <td>73.680</td>\n",
       "      <td>182053</td>\n",
       "      <td>10350.159060</td>\n",
       "    </tr>\n",
       "    <tr>\n",
       "      <th>1467</th>\n",
       "      <td>Sweden</td>\n",
       "      <td>Europe</td>\n",
       "      <td>1967</td>\n",
       "      <td>74.160</td>\n",
       "      <td>7867931</td>\n",
       "      <td>15258.296970</td>\n",
       "    </tr>\n",
       "    <tr>\n",
       "      <th>1468</th>\n",
       "      <td>Sweden</td>\n",
       "      <td>Europe</td>\n",
       "      <td>1972</td>\n",
       "      <td>74.720</td>\n",
       "      <td>8122293</td>\n",
       "      <td>17832.024640</td>\n",
       "    </tr>\n",
       "    <tr>\n",
       "      <th>689</th>\n",
       "      <td>Iceland</td>\n",
       "      <td>Europe</td>\n",
       "      <td>1977</td>\n",
       "      <td>76.110</td>\n",
       "      <td>221823</td>\n",
       "      <td>19654.962470</td>\n",
       "    </tr>\n",
       "    <tr>\n",
       "      <th>798</th>\n",
       "      <td>Japan</td>\n",
       "      <td>Asia</td>\n",
       "      <td>1982</td>\n",
       "      <td>77.110</td>\n",
       "      <td>118454974</td>\n",
       "      <td>19384.105710</td>\n",
       "    </tr>\n",
       "    <tr>\n",
       "      <th>799</th>\n",
       "      <td>Japan</td>\n",
       "      <td>Asia</td>\n",
       "      <td>1987</td>\n",
       "      <td>78.670</td>\n",
       "      <td>122091325</td>\n",
       "      <td>22375.941890</td>\n",
       "    </tr>\n",
       "    <tr>\n",
       "      <th>800</th>\n",
       "      <td>Japan</td>\n",
       "      <td>Asia</td>\n",
       "      <td>1992</td>\n",
       "      <td>79.360</td>\n",
       "      <td>124329269</td>\n",
       "      <td>26824.895110</td>\n",
       "    </tr>\n",
       "    <tr>\n",
       "      <th>801</th>\n",
       "      <td>Japan</td>\n",
       "      <td>Asia</td>\n",
       "      <td>1997</td>\n",
       "      <td>80.690</td>\n",
       "      <td>125956499</td>\n",
       "      <td>28816.584990</td>\n",
       "    </tr>\n",
       "    <tr>\n",
       "      <th>802</th>\n",
       "      <td>Japan</td>\n",
       "      <td>Asia</td>\n",
       "      <td>2002</td>\n",
       "      <td>82.000</td>\n",
       "      <td>127065841</td>\n",
       "      <td>28604.591900</td>\n",
       "    </tr>\n",
       "    <tr>\n",
       "      <th>803</th>\n",
       "      <td>Japan</td>\n",
       "      <td>Asia</td>\n",
       "      <td>2007</td>\n",
       "      <td>82.603</td>\n",
       "      <td>127467972</td>\n",
       "      <td>31656.068060</td>\n",
       "    </tr>\n",
       "  </tbody>\n",
       "</table>\n",
       "</div>"
      ],
      "text/plain": [
       "      country continent  year  lifeExp        pop     gdpPercap\n",
       "1140   Norway    Europe  1952   72.670    3327728  10095.421720\n",
       "685   Iceland    Europe  1957   73.470     165110   9244.001412\n",
       "686   Iceland    Europe  1962   73.680     182053  10350.159060\n",
       "1467   Sweden    Europe  1967   74.160    7867931  15258.296970\n",
       "1468   Sweden    Europe  1972   74.720    8122293  17832.024640\n",
       "689   Iceland    Europe  1977   76.110     221823  19654.962470\n",
       "798     Japan      Asia  1982   77.110  118454974  19384.105710\n",
       "799     Japan      Asia  1987   78.670  122091325  22375.941890\n",
       "800     Japan      Asia  1992   79.360  124329269  26824.895110\n",
       "801     Japan      Asia  1997   80.690  125956499  28816.584990\n",
       "802     Japan      Asia  2002   82.000  127065841  28604.591900\n",
       "803     Japan      Asia  2007   82.603  127467972  31656.068060"
      ]
     },
     "execution_count": 17,
     "metadata": {},
     "output_type": "execute_result"
    }
   ],
   "source": [
    "# 각 년도별로 기대수명이 가장 높았던 나라는 어디일까?\n",
    "\n",
    "idx = df.groupby(\"year\")['lifeExp'].idxmax() # index max : 최대값이 있는 위치\n",
    "df.iloc[idx]"
   ]
  },
  {
   "cell_type": "markdown",
   "metadata": {
    "id": "JRedqKJSidFD"
   },
   "source": [
    "### 연습문제"
   ]
  },
  {
   "cell_type": "code",
   "execution_count": 19,
   "metadata": {
    "colab": {
     "base_uri": "https://localhost:8080/",
     "height": 300
    },
    "id": "b124ftxch6bL",
    "outputId": "2669f978-f259-4137-d685-b657ac18d6ed"
   },
   "outputs": [
    {
     "data": {
      "text/html": [
       "<div>\n",
       "<style scoped>\n",
       "    .dataframe tbody tr th:only-of-type {\n",
       "        vertical-align: middle;\n",
       "    }\n",
       "\n",
       "    .dataframe tbody tr th {\n",
       "        vertical-align: top;\n",
       "    }\n",
       "\n",
       "    .dataframe thead th {\n",
       "        text-align: right;\n",
       "    }\n",
       "</style>\n",
       "<table border=\"1\" class=\"dataframe\">\n",
       "  <thead>\n",
       "    <tr style=\"text-align: right;\">\n",
       "      <th></th>\n",
       "      <th>Company</th>\n",
       "      <th>Person</th>\n",
       "      <th>Sales</th>\n",
       "      <th>Country</th>\n",
       "    </tr>\n",
       "  </thead>\n",
       "  <tbody>\n",
       "    <tr>\n",
       "      <th>0</th>\n",
       "      <td>Google</td>\n",
       "      <td>Sam</td>\n",
       "      <td>200</td>\n",
       "      <td>USA</td>\n",
       "    </tr>\n",
       "    <tr>\n",
       "      <th>1</th>\n",
       "      <td>Google</td>\n",
       "      <td>Charlie</td>\n",
       "      <td>120</td>\n",
       "      <td>USA</td>\n",
       "    </tr>\n",
       "    <tr>\n",
       "      <th>2</th>\n",
       "      <td>Microsoft</td>\n",
       "      <td>Amy</td>\n",
       "      <td>340</td>\n",
       "      <td>USA</td>\n",
       "    </tr>\n",
       "    <tr>\n",
       "      <th>3</th>\n",
       "      <td>Microsoft</td>\n",
       "      <td>Vanessa</td>\n",
       "      <td>124</td>\n",
       "      <td>Canada</td>\n",
       "    </tr>\n",
       "    <tr>\n",
       "      <th>4</th>\n",
       "      <td>Facebook</td>\n",
       "      <td>Carl</td>\n",
       "      <td>243</td>\n",
       "      <td>Canada</td>\n",
       "    </tr>\n",
       "    <tr>\n",
       "      <th>5</th>\n",
       "      <td>Facebook</td>\n",
       "      <td>Sarah</td>\n",
       "      <td>350</td>\n",
       "      <td>USA</td>\n",
       "    </tr>\n",
       "    <tr>\n",
       "      <th>6</th>\n",
       "      <td>Apple</td>\n",
       "      <td>John</td>\n",
       "      <td>300</td>\n",
       "      <td>USA</td>\n",
       "    </tr>\n",
       "    <tr>\n",
       "      <th>7</th>\n",
       "      <td>Apple</td>\n",
       "      <td>Emma</td>\n",
       "      <td>320</td>\n",
       "      <td>Canada</td>\n",
       "    </tr>\n",
       "  </tbody>\n",
       "</table>\n",
       "</div>"
      ],
      "text/plain": [
       "     Company   Person  Sales Country\n",
       "0     Google      Sam    200     USA\n",
       "1     Google  Charlie    120     USA\n",
       "2  Microsoft      Amy    340     USA\n",
       "3  Microsoft  Vanessa    124  Canada\n",
       "4   Facebook     Carl    243  Canada\n",
       "5   Facebook    Sarah    350     USA\n",
       "6      Apple     John    300     USA\n",
       "7      Apple     Emma    320  Canada"
      ]
     },
     "execution_count": 19,
     "metadata": {},
     "output_type": "execute_result"
    }
   ],
   "source": [
    "data = {\n",
    "    'Company': ['Google', 'Google', 'Microsoft', 'Microsoft', 'Facebook', 'Facebook', 'Apple', 'Apple'],\n",
    "    'Person': ['Sam', 'Charlie', 'Amy', 'Vanessa', 'Carl', 'Sarah', 'John', 'Emma'],\n",
    "    'Sales': [200, 120, 340, 124, 243, 350, 300, 320],\n",
    "    'Country': ['USA', 'USA', 'USA', 'Canada', 'Canada', 'USA', 'USA', 'Canada']\n",
    "}\n",
    "\n",
    "df = pd.DataFrame(data)\n",
    "df"
   ]
  },
  {
   "cell_type": "markdown",
   "metadata": {
    "id": "sOMACjxfi2Do"
   },
   "source": [
    "1. 회사별로 매출(Sales)의 총합을 계산하세요."
   ]
  },
  {
   "cell_type": "code",
   "execution_count": 20,
   "metadata": {
    "colab": {
     "base_uri": "https://localhost:8080/"
    },
    "id": "LVfdoI4vi1OZ",
    "outputId": "f3fd30f0-441f-42ee-f982-e62d6cab6980"
   },
   "outputs": [
    {
     "data": {
      "text/plain": [
       "Company\n",
       "Apple        620\n",
       "Facebook     593\n",
       "Google       320\n",
       "Microsoft    464\n",
       "Name: Sales, dtype: int64"
      ]
     },
     "execution_count": 20,
     "metadata": {},
     "output_type": "execute_result"
    }
   ],
   "source": [
    "df.groupby(\"Company\")['Sales'].sum()"
   ]
  },
  {
   "cell_type": "markdown",
   "metadata": {
    "id": "gG6bvpQFi-sn"
   },
   "source": [
    "2. 국가(Country)별로 몇 명의 직원(Person)이 있는지 계산하세요."
   ]
  },
  {
   "cell_type": "code",
   "execution_count": 22,
   "metadata": {
    "colab": {
     "base_uri": "https://localhost:8080/"
    },
    "id": "E2UIvQYci9Ci",
    "outputId": "467bb2fa-7d29-46cd-c758-32ae4d358571"
   },
   "outputs": [
    {
     "data": {
      "text/plain": [
       "Country\n",
       "Canada    3\n",
       "USA       5\n",
       "Name: Person, dtype: int64"
      ]
     },
     "execution_count": 22,
     "metadata": {},
     "output_type": "execute_result"
    }
   ],
   "source": [
    "df.groupby(\"Country\")['Person'].nunique()"
   ]
  },
  {
   "cell_type": "markdown",
   "metadata": {
    "id": "5nBTNvERjFYY"
   },
   "source": [
    "3. 각 회사에서 가장 높은 매출(Sales)을 기록한 사람(Person)의 이름과 해당 매출액을 출력하세요."
   ]
  },
  {
   "cell_type": "code",
   "execution_count": 24,
   "metadata": {
    "colab": {
     "base_uri": "https://localhost:8080/",
     "height": 175
    },
    "id": "XxgNdBXajC5C",
    "outputId": "248fb75b-3337-4a38-e2b5-cc524897446c"
   },
   "outputs": [
    {
     "data": {
      "text/html": [
       "<div>\n",
       "<style scoped>\n",
       "    .dataframe tbody tr th:only-of-type {\n",
       "        vertical-align: middle;\n",
       "    }\n",
       "\n",
       "    .dataframe tbody tr th {\n",
       "        vertical-align: top;\n",
       "    }\n",
       "\n",
       "    .dataframe thead th {\n",
       "        text-align: right;\n",
       "    }\n",
       "</style>\n",
       "<table border=\"1\" class=\"dataframe\">\n",
       "  <thead>\n",
       "    <tr style=\"text-align: right;\">\n",
       "      <th></th>\n",
       "      <th>Company</th>\n",
       "      <th>Person</th>\n",
       "      <th>Sales</th>\n",
       "      <th>Country</th>\n",
       "    </tr>\n",
       "  </thead>\n",
       "  <tbody>\n",
       "    <tr>\n",
       "      <th>7</th>\n",
       "      <td>Apple</td>\n",
       "      <td>Emma</td>\n",
       "      <td>320</td>\n",
       "      <td>Canada</td>\n",
       "    </tr>\n",
       "    <tr>\n",
       "      <th>5</th>\n",
       "      <td>Facebook</td>\n",
       "      <td>Sarah</td>\n",
       "      <td>350</td>\n",
       "      <td>USA</td>\n",
       "    </tr>\n",
       "    <tr>\n",
       "      <th>0</th>\n",
       "      <td>Google</td>\n",
       "      <td>Sam</td>\n",
       "      <td>200</td>\n",
       "      <td>USA</td>\n",
       "    </tr>\n",
       "    <tr>\n",
       "      <th>2</th>\n",
       "      <td>Microsoft</td>\n",
       "      <td>Amy</td>\n",
       "      <td>340</td>\n",
       "      <td>USA</td>\n",
       "    </tr>\n",
       "  </tbody>\n",
       "</table>\n",
       "</div>"
      ],
      "text/plain": [
       "     Company Person  Sales Country\n",
       "7      Apple   Emma    320  Canada\n",
       "5   Facebook  Sarah    350     USA\n",
       "0     Google    Sam    200     USA\n",
       "2  Microsoft    Amy    340     USA"
      ]
     },
     "execution_count": 24,
     "metadata": {},
     "output_type": "execute_result"
    }
   ],
   "source": [
    "idx = df.groupby(\"Company\")['Sales'].idxmax()\n",
    "df.iloc[idx]"
   ]
  },
  {
   "cell_type": "markdown",
   "metadata": {
    "id": "MZoyIIYRjaEg"
   },
   "source": [
    "4. 회사별로 평균 매출(Sales)보다 높은 매출을 기록한 모든 기록을 필터링하세요."
   ]
  },
  {
   "cell_type": "code",
   "execution_count": 26,
   "metadata": {
    "colab": {
     "base_uri": "https://localhost:8080/",
     "height": 175
    },
    "id": "QvPbPhBujO_K",
    "outputId": "92e2a5e8-1bd3-42a0-c371-b9b498093e0f"
   },
   "outputs": [
    {
     "data": {
      "text/html": [
       "<div>\n",
       "<style scoped>\n",
       "    .dataframe tbody tr th:only-of-type {\n",
       "        vertical-align: middle;\n",
       "    }\n",
       "\n",
       "    .dataframe tbody tr th {\n",
       "        vertical-align: top;\n",
       "    }\n",
       "\n",
       "    .dataframe thead th {\n",
       "        text-align: right;\n",
       "    }\n",
       "</style>\n",
       "<table border=\"1\" class=\"dataframe\">\n",
       "  <thead>\n",
       "    <tr style=\"text-align: right;\">\n",
       "      <th></th>\n",
       "      <th>Company</th>\n",
       "      <th>Person</th>\n",
       "      <th>Sales</th>\n",
       "      <th>Country</th>\n",
       "    </tr>\n",
       "  </thead>\n",
       "  <tbody>\n",
       "    <tr>\n",
       "      <th>0</th>\n",
       "      <td>Google</td>\n",
       "      <td>Sam</td>\n",
       "      <td>200</td>\n",
       "      <td>USA</td>\n",
       "    </tr>\n",
       "    <tr>\n",
       "      <th>2</th>\n",
       "      <td>Microsoft</td>\n",
       "      <td>Amy</td>\n",
       "      <td>340</td>\n",
       "      <td>USA</td>\n",
       "    </tr>\n",
       "    <tr>\n",
       "      <th>5</th>\n",
       "      <td>Facebook</td>\n",
       "      <td>Sarah</td>\n",
       "      <td>350</td>\n",
       "      <td>USA</td>\n",
       "    </tr>\n",
       "    <tr>\n",
       "      <th>7</th>\n",
       "      <td>Apple</td>\n",
       "      <td>Emma</td>\n",
       "      <td>320</td>\n",
       "      <td>Canada</td>\n",
       "    </tr>\n",
       "  </tbody>\n",
       "</table>\n",
       "</div>"
      ],
      "text/plain": [
       "     Company Person  Sales Country\n",
       "0     Google    Sam    200     USA\n",
       "2  Microsoft    Amy    340     USA\n",
       "5   Facebook  Sarah    350     USA\n",
       "7      Apple   Emma    320  Canada"
      ]
     },
     "execution_count": 26,
     "metadata": {},
     "output_type": "execute_result"
    }
   ],
   "source": [
    "a = df.groupby(\"Company\")['Sales'].transform(lambda x : x > x.mean())\n",
    "df[a]"
   ]
  },
  {
   "cell_type": "markdown",
   "metadata": {
    "id": "XeSfmewPkhJH"
   },
   "source": [
    "5. 모든 회사의 매출(Sales) 중앙값을 계산하세요."
   ]
  },
  {
   "cell_type": "code",
   "execution_count": 27,
   "metadata": {
    "colab": {
     "base_uri": "https://localhost:8080/"
    },
    "id": "yy5mBRi5juz4",
    "outputId": "187446ea-91b2-4023-c67e-1acd1b24132e"
   },
   "outputs": [
    {
     "data": {
      "text/plain": [
       "Company\n",
       "Apple        310.0\n",
       "Facebook     296.5\n",
       "Google       160.0\n",
       "Microsoft    232.0\n",
       "Name: Sales, dtype: float64"
      ]
     },
     "execution_count": 27,
     "metadata": {},
     "output_type": "execute_result"
    }
   ],
   "source": [
    "df.groupby(\"Company\")['Sales'].median()"
   ]
  },
  {
   "cell_type": "markdown",
   "metadata": {
    "id": "3V3eAwz3kkft"
   },
   "source": [
    "6. 회사별로 매출(Sales)의 최소값과 최대값의 차이(범위)를 계산하세요."
   ]
  },
  {
   "cell_type": "code",
   "execution_count": 28,
   "metadata": {
    "colab": {
     "base_uri": "https://localhost:8080/"
    },
    "id": "pCn7XjEIkaC_",
    "outputId": "0658f804-aed6-4124-9689-a47e81279ddc"
   },
   "outputs": [
    {
     "data": {
      "text/plain": [
       "Company\n",
       "Apple         20\n",
       "Facebook     107\n",
       "Google        80\n",
       "Microsoft    216\n",
       "Name: Sales, dtype: int64"
      ]
     },
     "execution_count": 28,
     "metadata": {},
     "output_type": "execute_result"
    }
   ],
   "source": [
    "def test(x):\n",
    "    return x.max() - x.min()\n",
    "\n",
    "df.groupby(\"Company\")['Sales'].agg(test)"
   ]
  },
  {
   "cell_type": "markdown",
   "metadata": {
    "id": "qD6OXBl4lAXd"
   },
   "source": [
    "7. 국가별로 각 회사의 평균 매출(Sales)을 계산하세요."
   ]
  },
  {
   "cell_type": "code",
   "execution_count": 29,
   "metadata": {
    "id": "5aU7_ZcEk8c_"
   },
   "outputs": [
    {
     "data": {
      "text/plain": [
       "Country  Company  \n",
       "Canada   Apple        320.0\n",
       "         Facebook     243.0\n",
       "         Microsoft    124.0\n",
       "USA      Apple        300.0\n",
       "         Facebook     350.0\n",
       "         Google       160.0\n",
       "         Microsoft    340.0\n",
       "Name: Sales, dtype: float64"
      ]
     },
     "execution_count": 29,
     "metadata": {},
     "output_type": "execute_result"
    }
   ],
   "source": [
    "df.groupby([\"Country\", \"Company\"])['Sales'].mean()"
   ]
  },
  {
   "cell_type": "markdown",
   "metadata": {
    "id": "PQIPnWFDlBP6"
   },
   "source": [
    "8. 'USA' 국가에서 각 회사의 매출(Sales) 총합을 계산하세요."
   ]
  },
  {
   "cell_type": "code",
   "execution_count": 32,
   "metadata": {
    "id": "6ELrvHUmlCnO"
   },
   "outputs": [
    {
     "data": {
      "text/plain": [
       "Company\n",
       "Apple        300\n",
       "Facebook     350\n",
       "Google       320\n",
       "Microsoft    340\n",
       "Name: Sales, dtype: int64"
      ]
     },
     "execution_count": 32,
     "metadata": {},
     "output_type": "execute_result"
    }
   ],
   "source": [
    "df[df['Country'] == 'USA'].groupby(\"Company\")['Sales'].sum()"
   ]
  },
  {
   "cell_type": "markdown",
   "metadata": {
    "id": "u80oA90AlDCu"
   },
   "source": [
    "9. 각 회사별로 매출(Sales)을 기준으로 내림차순 정렬하세요. (단일 회사 내에서의 정렬)"
   ]
  },
  {
   "cell_type": "code",
   "execution_count": 34,
   "metadata": {
    "id": "B3stjByLlEmD"
   },
   "outputs": [
    {
     "data": {
      "text/html": [
       "<div>\n",
       "<style scoped>\n",
       "    .dataframe tbody tr th:only-of-type {\n",
       "        vertical-align: middle;\n",
       "    }\n",
       "\n",
       "    .dataframe tbody tr th {\n",
       "        vertical-align: top;\n",
       "    }\n",
       "\n",
       "    .dataframe thead th {\n",
       "        text-align: right;\n",
       "    }\n",
       "</style>\n",
       "<table border=\"1\" class=\"dataframe\">\n",
       "  <thead>\n",
       "    <tr style=\"text-align: right;\">\n",
       "      <th></th>\n",
       "      <th>Company</th>\n",
       "      <th>Person</th>\n",
       "      <th>Sales</th>\n",
       "      <th>Country</th>\n",
       "    </tr>\n",
       "  </thead>\n",
       "  <tbody>\n",
       "    <tr>\n",
       "      <th>7</th>\n",
       "      <td>Apple</td>\n",
       "      <td>Emma</td>\n",
       "      <td>320</td>\n",
       "      <td>Canada</td>\n",
       "    </tr>\n",
       "    <tr>\n",
       "      <th>6</th>\n",
       "      <td>Apple</td>\n",
       "      <td>John</td>\n",
       "      <td>300</td>\n",
       "      <td>USA</td>\n",
       "    </tr>\n",
       "    <tr>\n",
       "      <th>5</th>\n",
       "      <td>Facebook</td>\n",
       "      <td>Sarah</td>\n",
       "      <td>350</td>\n",
       "      <td>USA</td>\n",
       "    </tr>\n",
       "    <tr>\n",
       "      <th>4</th>\n",
       "      <td>Facebook</td>\n",
       "      <td>Carl</td>\n",
       "      <td>243</td>\n",
       "      <td>Canada</td>\n",
       "    </tr>\n",
       "    <tr>\n",
       "      <th>0</th>\n",
       "      <td>Google</td>\n",
       "      <td>Sam</td>\n",
       "      <td>200</td>\n",
       "      <td>USA</td>\n",
       "    </tr>\n",
       "    <tr>\n",
       "      <th>1</th>\n",
       "      <td>Google</td>\n",
       "      <td>Charlie</td>\n",
       "      <td>120</td>\n",
       "      <td>USA</td>\n",
       "    </tr>\n",
       "    <tr>\n",
       "      <th>2</th>\n",
       "      <td>Microsoft</td>\n",
       "      <td>Amy</td>\n",
       "      <td>340</td>\n",
       "      <td>USA</td>\n",
       "    </tr>\n",
       "    <tr>\n",
       "      <th>3</th>\n",
       "      <td>Microsoft</td>\n",
       "      <td>Vanessa</td>\n",
       "      <td>124</td>\n",
       "      <td>Canada</td>\n",
       "    </tr>\n",
       "  </tbody>\n",
       "</table>\n",
       "</div>"
      ],
      "text/plain": [
       "     Company   Person  Sales Country\n",
       "7      Apple     Emma    320  Canada\n",
       "6      Apple     John    300     USA\n",
       "5   Facebook    Sarah    350     USA\n",
       "4   Facebook     Carl    243  Canada\n",
       "0     Google      Sam    200     USA\n",
       "1     Google  Charlie    120     USA\n",
       "2  Microsoft      Amy    340     USA\n",
       "3  Microsoft  Vanessa    124  Canada"
      ]
     },
     "execution_count": 34,
     "metadata": {},
     "output_type": "execute_result"
    }
   ],
   "source": [
    "df.sort_values(['Company', 'Sales'], ascending = [True, False])"
   ]
  },
  {
   "cell_type": "markdown",
   "metadata": {
    "id": "sqn9GSEdlJi-"
   },
   "source": [
    "10. 모든 회사의 매출(Sales) 평균을 계산하고, 이 평균을 초과하는 매출을 기록한 회사와 직원, 매출액을 출력하세요."
   ]
  },
  {
   "cell_type": "code",
   "execution_count": 36,
   "metadata": {
    "colab": {
     "base_uri": "https://localhost:8080/",
     "height": 175
    },
    "id": "k0pdeVMWlOfV",
    "outputId": "c50c23c3-93e4-45c0-f52f-31181880697c"
   },
   "outputs": [
    {
     "data": {
      "text/html": [
       "<div>\n",
       "<style scoped>\n",
       "    .dataframe tbody tr th:only-of-type {\n",
       "        vertical-align: middle;\n",
       "    }\n",
       "\n",
       "    .dataframe tbody tr th {\n",
       "        vertical-align: top;\n",
       "    }\n",
       "\n",
       "    .dataframe thead th {\n",
       "        text-align: right;\n",
       "    }\n",
       "</style>\n",
       "<table border=\"1\" class=\"dataframe\">\n",
       "  <thead>\n",
       "    <tr style=\"text-align: right;\">\n",
       "      <th></th>\n",
       "      <th>Company</th>\n",
       "      <th>Person</th>\n",
       "      <th>Sales</th>\n",
       "      <th>Country</th>\n",
       "    </tr>\n",
       "  </thead>\n",
       "  <tbody>\n",
       "    <tr>\n",
       "      <th>2</th>\n",
       "      <td>Microsoft</td>\n",
       "      <td>Amy</td>\n",
       "      <td>340</td>\n",
       "      <td>USA</td>\n",
       "    </tr>\n",
       "    <tr>\n",
       "      <th>5</th>\n",
       "      <td>Facebook</td>\n",
       "      <td>Sarah</td>\n",
       "      <td>350</td>\n",
       "      <td>USA</td>\n",
       "    </tr>\n",
       "    <tr>\n",
       "      <th>6</th>\n",
       "      <td>Apple</td>\n",
       "      <td>John</td>\n",
       "      <td>300</td>\n",
       "      <td>USA</td>\n",
       "    </tr>\n",
       "    <tr>\n",
       "      <th>7</th>\n",
       "      <td>Apple</td>\n",
       "      <td>Emma</td>\n",
       "      <td>320</td>\n",
       "      <td>Canada</td>\n",
       "    </tr>\n",
       "  </tbody>\n",
       "</table>\n",
       "</div>"
      ],
      "text/plain": [
       "     Company Person  Sales Country\n",
       "2  Microsoft    Amy    340     USA\n",
       "5   Facebook  Sarah    350     USA\n",
       "6      Apple   John    300     USA\n",
       "7      Apple   Emma    320  Canada"
      ]
     },
     "execution_count": 36,
     "metadata": {},
     "output_type": "execute_result"
    }
   ],
   "source": [
    "a = df['Sales'].mean()\n",
    "df[df['Sales'] > a]"
   ]
  },
  {
   "cell_type": "code",
   "execution_count": null,
   "metadata": {},
   "outputs": [],
   "source": []
  }
 ],
 "metadata": {
  "colab": {
   "provenance": []
  },
  "kernelspec": {
   "display_name": "Python 3 (ipykernel)",
   "language": "python",
   "name": "python3"
  },
  "language_info": {
   "codemirror_mode": {
    "name": "ipython",
    "version": 3
   },
   "file_extension": ".py",
   "mimetype": "text/x-python",
   "name": "python",
   "nbconvert_exporter": "python",
   "pygments_lexer": "ipython3",
   "version": "3.11.7"
  }
 },
 "nbformat": 4,
 "nbformat_minor": 4
}
