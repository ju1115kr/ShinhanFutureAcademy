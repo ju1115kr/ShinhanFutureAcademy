{
 "cells": [
  {
   "cell_type": "code",
   "execution_count": 1,
   "id": "d44fecd0-b060-4bed-a9ce-f9a6b95d7500",
   "metadata": {},
   "outputs": [
    {
     "ename": "FileNotFoundError",
     "evalue": "[Errno 2] No such file or directory: 'Data/2024-03-22_국내주식.xlsx'",
     "output_type": "error",
     "traceback": [
      "\u001b[0;31m---------------------------------------------------------------------------\u001b[0m",
      "\u001b[0;31mFileNotFoundError\u001b[0m                         Traceback (most recent call last)",
      "Cell \u001b[0;32mIn[1], line 6\u001b[0m\n\u001b[1;32m      1\u001b[0m \u001b[38;5;66;03m# 각 항목별 가중치를 두어, 필요한 데이터를 산정 후 재계산 \u001b[39;00m\n\u001b[1;32m      2\u001b[0m \u001b[38;5;66;03m# 가중치항목: 영업이익증가율, 매출액증가율, 영업대비매출액(영업이익률/매출액), ROE, 거래량\u001b[39;00m\n\u001b[1;32m      3\u001b[0m \u001b[38;5;66;03m# 이상치 제거함수(detect_outliers)를 두고 이상치 내용들은 제거함\u001b[39;00m\n\u001b[1;32m      5\u001b[0m \u001b[38;5;28;01mimport\u001b[39;00m \u001b[38;5;21;01mpandas\u001b[39;00m \u001b[38;5;28;01mas\u001b[39;00m \u001b[38;5;21;01mpd\u001b[39;00m\n\u001b[0;32m----> 6\u001b[0m stock \u001b[38;5;241m=\u001b[39m pd\u001b[38;5;241m.\u001b[39mread_excel(\u001b[38;5;124m\"\u001b[39m\u001b[38;5;124mData/2024-03-22_국내주식.xlsx\u001b[39m\u001b[38;5;124m\"\u001b[39m)\n\u001b[1;32m      8\u001b[0m \u001b[38;5;28;01mdef\u001b[39;00m \u001b[38;5;21mdetect_outliers\u001b[39m(df, columns):\n\u001b[1;32m      9\u001b[0m     q1 \u001b[38;5;241m=\u001b[39m df[columns]\u001b[38;5;241m.\u001b[39mquantile(\u001b[38;5;241m0.25\u001b[39m)\n",
      "File \u001b[0;32m/opt/anaconda3/lib/python3.11/site-packages/pandas/io/excel/_base.py:504\u001b[0m, in \u001b[0;36mread_excel\u001b[0;34m(io, sheet_name, header, names, index_col, usecols, dtype, engine, converters, true_values, false_values, skiprows, nrows, na_values, keep_default_na, na_filter, verbose, parse_dates, date_parser, date_format, thousands, decimal, comment, skipfooter, storage_options, dtype_backend, engine_kwargs)\u001b[0m\n\u001b[1;32m    502\u001b[0m \u001b[38;5;28;01mif\u001b[39;00m \u001b[38;5;129;01mnot\u001b[39;00m \u001b[38;5;28misinstance\u001b[39m(io, ExcelFile):\n\u001b[1;32m    503\u001b[0m     should_close \u001b[38;5;241m=\u001b[39m \u001b[38;5;28;01mTrue\u001b[39;00m\n\u001b[0;32m--> 504\u001b[0m     io \u001b[38;5;241m=\u001b[39m ExcelFile(\n\u001b[1;32m    505\u001b[0m         io,\n\u001b[1;32m    506\u001b[0m         storage_options\u001b[38;5;241m=\u001b[39mstorage_options,\n\u001b[1;32m    507\u001b[0m         engine\u001b[38;5;241m=\u001b[39mengine,\n\u001b[1;32m    508\u001b[0m         engine_kwargs\u001b[38;5;241m=\u001b[39mengine_kwargs,\n\u001b[1;32m    509\u001b[0m     )\n\u001b[1;32m    510\u001b[0m \u001b[38;5;28;01melif\u001b[39;00m engine \u001b[38;5;129;01mand\u001b[39;00m engine \u001b[38;5;241m!=\u001b[39m io\u001b[38;5;241m.\u001b[39mengine:\n\u001b[1;32m    511\u001b[0m     \u001b[38;5;28;01mraise\u001b[39;00m \u001b[38;5;167;01mValueError\u001b[39;00m(\n\u001b[1;32m    512\u001b[0m         \u001b[38;5;124m\"\u001b[39m\u001b[38;5;124mEngine should not be specified when passing \u001b[39m\u001b[38;5;124m\"\u001b[39m\n\u001b[1;32m    513\u001b[0m         \u001b[38;5;124m\"\u001b[39m\u001b[38;5;124man ExcelFile - ExcelFile already has the engine set\u001b[39m\u001b[38;5;124m\"\u001b[39m\n\u001b[1;32m    514\u001b[0m     )\n",
      "File \u001b[0;32m/opt/anaconda3/lib/python3.11/site-packages/pandas/io/excel/_base.py:1563\u001b[0m, in \u001b[0;36mExcelFile.__init__\u001b[0;34m(self, path_or_buffer, engine, storage_options, engine_kwargs)\u001b[0m\n\u001b[1;32m   1561\u001b[0m     ext \u001b[38;5;241m=\u001b[39m \u001b[38;5;124m\"\u001b[39m\u001b[38;5;124mxls\u001b[39m\u001b[38;5;124m\"\u001b[39m\n\u001b[1;32m   1562\u001b[0m \u001b[38;5;28;01melse\u001b[39;00m:\n\u001b[0;32m-> 1563\u001b[0m     ext \u001b[38;5;241m=\u001b[39m inspect_excel_format(\n\u001b[1;32m   1564\u001b[0m         content_or_path\u001b[38;5;241m=\u001b[39mpath_or_buffer, storage_options\u001b[38;5;241m=\u001b[39mstorage_options\n\u001b[1;32m   1565\u001b[0m     )\n\u001b[1;32m   1566\u001b[0m     \u001b[38;5;28;01mif\u001b[39;00m ext \u001b[38;5;129;01mis\u001b[39;00m \u001b[38;5;28;01mNone\u001b[39;00m:\n\u001b[1;32m   1567\u001b[0m         \u001b[38;5;28;01mraise\u001b[39;00m \u001b[38;5;167;01mValueError\u001b[39;00m(\n\u001b[1;32m   1568\u001b[0m             \u001b[38;5;124m\"\u001b[39m\u001b[38;5;124mExcel file format cannot be determined, you must specify \u001b[39m\u001b[38;5;124m\"\u001b[39m\n\u001b[1;32m   1569\u001b[0m             \u001b[38;5;124m\"\u001b[39m\u001b[38;5;124man engine manually.\u001b[39m\u001b[38;5;124m\"\u001b[39m\n\u001b[1;32m   1570\u001b[0m         )\n",
      "File \u001b[0;32m/opt/anaconda3/lib/python3.11/site-packages/pandas/io/excel/_base.py:1419\u001b[0m, in \u001b[0;36minspect_excel_format\u001b[0;34m(content_or_path, storage_options)\u001b[0m\n\u001b[1;32m   1416\u001b[0m \u001b[38;5;28;01mif\u001b[39;00m \u001b[38;5;28misinstance\u001b[39m(content_or_path, \u001b[38;5;28mbytes\u001b[39m):\n\u001b[1;32m   1417\u001b[0m     content_or_path \u001b[38;5;241m=\u001b[39m BytesIO(content_or_path)\n\u001b[0;32m-> 1419\u001b[0m \u001b[38;5;28;01mwith\u001b[39;00m get_handle(\n\u001b[1;32m   1420\u001b[0m     content_or_path, \u001b[38;5;124m\"\u001b[39m\u001b[38;5;124mrb\u001b[39m\u001b[38;5;124m\"\u001b[39m, storage_options\u001b[38;5;241m=\u001b[39mstorage_options, is_text\u001b[38;5;241m=\u001b[39m\u001b[38;5;28;01mFalse\u001b[39;00m\n\u001b[1;32m   1421\u001b[0m ) \u001b[38;5;28;01mas\u001b[39;00m handle:\n\u001b[1;32m   1422\u001b[0m     stream \u001b[38;5;241m=\u001b[39m handle\u001b[38;5;241m.\u001b[39mhandle\n\u001b[1;32m   1423\u001b[0m     stream\u001b[38;5;241m.\u001b[39mseek(\u001b[38;5;241m0\u001b[39m)\n",
      "File \u001b[0;32m/opt/anaconda3/lib/python3.11/site-packages/pandas/io/common.py:872\u001b[0m, in \u001b[0;36mget_handle\u001b[0;34m(path_or_buf, mode, encoding, compression, memory_map, is_text, errors, storage_options)\u001b[0m\n\u001b[1;32m    863\u001b[0m         handle \u001b[38;5;241m=\u001b[39m \u001b[38;5;28mopen\u001b[39m(\n\u001b[1;32m    864\u001b[0m             handle,\n\u001b[1;32m    865\u001b[0m             ioargs\u001b[38;5;241m.\u001b[39mmode,\n\u001b[0;32m   (...)\u001b[0m\n\u001b[1;32m    868\u001b[0m             newline\u001b[38;5;241m=\u001b[39m\u001b[38;5;124m\"\u001b[39m\u001b[38;5;124m\"\u001b[39m,\n\u001b[1;32m    869\u001b[0m         )\n\u001b[1;32m    870\u001b[0m     \u001b[38;5;28;01melse\u001b[39;00m:\n\u001b[1;32m    871\u001b[0m         \u001b[38;5;66;03m# Binary mode\u001b[39;00m\n\u001b[0;32m--> 872\u001b[0m         handle \u001b[38;5;241m=\u001b[39m \u001b[38;5;28mopen\u001b[39m(handle, ioargs\u001b[38;5;241m.\u001b[39mmode)\n\u001b[1;32m    873\u001b[0m     handles\u001b[38;5;241m.\u001b[39mappend(handle)\n\u001b[1;32m    875\u001b[0m \u001b[38;5;66;03m# Convert BytesIO or file objects passed with an encoding\u001b[39;00m\n",
      "\u001b[0;31mFileNotFoundError\u001b[0m: [Errno 2] No such file or directory: 'Data/2024-03-22_국내주식.xlsx'"
     ]
    }
   ],
   "source": [
    "# 각 항목별 가중치를 두어, 필요한 데이터를 산정 후 재계산 \n",
    "# 가중치항목: 영업이익증가율, 매출액증가율, 영업대비매출액(영업이익률/매출액), ROE, 거래량\n",
    "# 이상치 제거함수(detect_outliers)를 두고 이상치 내용들은 제거함\n",
    "\n",
    "import pandas as pd\n",
    "stock = pd.read_excel(\"Data/2024-03-22_국내주식.xlsx\")\n",
    "\n",
    "def detect_outliers(df, columns):\n",
    "    q1 = df[columns].quantile(0.25)\n",
    "    q3 = df[columns].quantile(0.75)\n",
    "    IQR = q3 - q1\n",
    "\n",
    "    boundary = 1.5 * IQR\n",
    "\n",
    "    index1 = df[df[columns] > q3 + boundary].index\n",
    "    index2 = df[df[columns] < q1 - boundary].index\n",
    "\n",
    "    df[columns] = df[columns].drop(index1)\n",
    "    df[columns] = df[columns].drop(index2)\n",
    "\n",
    "    return df\n",
    "\n",
    "realStock = detect_outliers(stock, \"ROE\")\n",
    "realStock = detect_outliers(realStock, \"거래량\")\n",
    "realStock = detect_outliers(realStock, \"거래대금\")\n",
    "realStock = detect_outliers(realStock, \"PBR\")\n",
    "realStock = detect_outliers(realStock, \"PER\")\n",
    "\n",
    "realStock['영업대비매출액'] = realStock['영업이익']/realStock['매출액']\n",
    "realStock['부채비율'] = realStock['부채총계'] / realStock['자산총계']\n",
    "\n",
    "realStock = detect_outliers(realStock, \"영업대비매출액\")\n",
    "realStock = detect_outliers(realStock, \"부채비율\")\n",
    "\n",
    "realStock['R영업이익증가율'] = realStock['영업이익증가율'].rank(method='average')\n",
    "realStock['R매출액증가율'] = realStock['매출액증가율'].rank(method='average')\n",
    "realStock['R영업대비매출액'] = realStock['영업대비매출액'].rank(method='average')\n",
    "realStock['R부채비율'] = realStock['부채비율'].rank(method='average')\n",
    "realStock['R_ROE'] = realStock['ROE'].rank(method='average')\n",
    "realStock['R거래량'] = realStock['거래량'].rank(method='average')\n",
    "realStock['R_ROE'] = realStock['ROE'].rank(method='average')\n",
    "\n",
    "# 각 항목에 대한 비중을 아래와 같이 조정함\n",
    "# 단기적인 초점보다는 ROE(장기비중) 투자 관점에 맞추어, 지속적인 투자가 가능하도록 계산식을 산정\n",
    "realStock['score'] = realStock['R영업이익증가율'] * 0.2 + realStock['R매출액증가율'] * 0.2 + realStock['R영업대비매출액'] * 0.2 + realStock['R_ROE'] * 0.25 +   realStock['R거래량'] * 0.15\n",
    "dropedStock = realStock.dropna()\n",
    "\n",
    "# 각 근거를 바탕으로 내림차순 순위로 계산\n",
    "dropedStock.sort_values('score', ascending=0)"
   ]
  },
  {
   "cell_type": "code",
   "execution_count": null,
   "id": "4f0ef0da-a716-4add-887c-6f29848f2da9",
   "metadata": {},
   "outputs": [],
   "source": []
  }
 ],
 "metadata": {
  "kernelspec": {
   "display_name": "Python 3 (ipykernel)",
   "language": "python",
   "name": "python3"
  },
  "language_info": {
   "codemirror_mode": {
    "name": "ipython",
    "version": 3
   },
   "file_extension": ".py",
   "mimetype": "text/x-python",
   "name": "python",
   "nbconvert_exporter": "python",
   "pygments_lexer": "ipython3",
   "version": "3.11.8"
  }
 },
 "nbformat": 4,
 "nbformat_minor": 5
}
