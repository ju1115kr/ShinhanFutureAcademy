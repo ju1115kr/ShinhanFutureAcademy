{
  "nbformat": 4,
  "nbformat_minor": 0,
  "metadata": {
    "colab": {
      "provenance": []
    },
    "kernelspec": {
      "name": "python3",
      "display_name": "Python 3"
    },
    "language_info": {
      "name": "python"
    }
  },
  "cells": [
    {
      "cell_type": "markdown",
      "source": [
        "## 데이터프레임 정보 확인하기\n",
        "판다스(Pandas)에서 데이터프레임(DataFrame)의 정보를 얻기 위한 기본 함수들은 데이터 분석을 시작할 때 매우 유용합니다. 여기에 몇 가지 주요 함수를 소개하겠습니다."
      ],
      "metadata": {
        "id": "Qb-mFqxTgB3I"
      }
    },
    {
      "cell_type": "code",
      "execution_count": 1,
      "metadata": {
        "id": "9wgVzS38f__9"
      },
      "outputs": [],
      "source": [
        "import pandas as pd"
      ]
    },
    {
      "cell_type": "markdown",
      "source": [
        "### head()\n",
        "head(n) 함수는 데이터프레임의 상위 n 행을 반환합니다. n을 지정하지 않으면 기본값으로 상위 5행을 반환합니다."
      ],
      "metadata": {
        "id": "xk1u2zDtgK3L"
      }
    },
    {
      "cell_type": "code",
      "source": [],
      "metadata": {
        "id": "VYd9SNUugKds"
      },
      "execution_count": null,
      "outputs": []
    },
    {
      "cell_type": "markdown",
      "source": [
        "### tail()\n",
        "tail(n) 함수는 데이터프레임의 하위 n 행을 반환합니다. 이 역시 n을 지정하지 않으면 기본값으로 하위 5행을 반환합니다."
      ],
      "metadata": {
        "id": "P_LLRdeRgOPi"
      }
    },
    {
      "cell_type": "code",
      "source": [],
      "metadata": {
        "id": "rp6xbnLZgQCS"
      },
      "execution_count": null,
      "outputs": []
    },
    {
      "cell_type": "markdown",
      "source": [
        "### info()\n",
        "info() 함수는 데이터프레임에 대한 요약 정보를 제공합니다. 이 정보에는 행의 개수, 각 열의 데이터 타입, 결측치가 아닌 값의 개수, 메모리 사용량 등이 포함됩니다."
      ],
      "metadata": {
        "id": "IGmY9DRdgSdl"
      }
    },
    {
      "cell_type": "code",
      "source": [],
      "metadata": {
        "id": "ApM4qXJ1gTzP"
      },
      "execution_count": null,
      "outputs": []
    },
    {
      "cell_type": "markdown",
      "source": [
        "### shape\n",
        "shape 속성은 데이터프레임의 형태를 튜플로 반환합니다. 첫 번째 요소는 행의 개수이고, 두 번째 요소는 열의 개수입니다."
      ],
      "metadata": {
        "id": "hnl8ebmWgU2F"
      }
    },
    {
      "cell_type": "code",
      "source": [],
      "metadata": {
        "id": "jQHEJ_YtgW59"
      },
      "execution_count": null,
      "outputs": []
    },
    {
      "cell_type": "markdown",
      "source": [
        "### describe()\n",
        "describe() 함수는 수치형 열에 대한 기술통계를 반환합니다. 기본적으로 평균, 표준편차, 최소값, 최대값, 1/4분위수, 중앙값(2/4분위수), 3/4분위수 등을 제공합니다.\n",
        "\n",
        "문자열이나 카테고리형 데이터에 대한 기술통계를 보기 위해서는 include 매개변수에 ['object'], ['category'] 또는 이 둘을 결합한 리스트를 전달합니다. 또한 모든 열에 대한 통계를 얻기 위해 include='all'을 사용할 수도 있습니다."
      ],
      "metadata": {
        "id": "FkoTh25ZgeaI"
      }
    },
    {
      "cell_type": "code",
      "source": [],
      "metadata": {
        "id": "3p_3-VOMggdO"
      },
      "execution_count": null,
      "outputs": []
    },
    {
      "cell_type": "markdown",
      "source": [
        "## loc, iloc\n",
        "pandas에서 loc과 iloc은 데이터프레임(DataFrame)이나 시리즈(Series) 내의 데이터를 접근하기 위한 방법입니다. 두 방법 모두 행(데이터)과 열(특성)을 선택하는 데 사용되지만, 주요 차이점은 loc이 라벨 기반의 인덱싱을 사용하는 반면, iloc은 정수 기반의 인덱싱을 사용한다는 것입니다.\n",
        "\n",
        "### loc\n",
        "* loc은 라벨 기반의 인덱싱을 제공합니다. 이는 인덱스 라벨(이름) 또는 조건을 사용하여 데이터를 선택할 수 있음을 의미합니다.\n",
        "* 행 라벨 또는 열 라벨을 기준으로 데이터를 선택할 수 있습니다.\n",
        "* 슬라이싱을 사용할 때 시작점과 끝점이 모두 포함됩니다(inclusive).\n",
        "* loc[행, 열] 형태로 사용됩니다. 여기서 행과 열은 라벨 이름이나 조건이 될 수 있습니다."
      ],
      "metadata": {
        "id": "Ps53tEwSgl-C"
      }
    },
    {
      "cell_type": "code",
      "source": [],
      "metadata": {
        "id": "yc3jnadWgupz"
      },
      "execution_count": null,
      "outputs": []
    },
    {
      "cell_type": "markdown",
      "source": [
        "### iloc\n",
        "* iloc은 정수 기반의 위치 인덱싱을 제공합니다. 이는 파이썬의 표준 인덱싱 방식과 유사하여, 인덱스의 정수 값으로 데이터를 선택할 수 있음을 의미합니다.\n",
        "* 정수 위치를 이용하여 행과 열을 선택할 수 있습니다.\n",
        "* 슬라이싱을 사용할 때는 파이썬 리스트의 슬라이싱과 유사하게 시작점은 포함되지만 끝점은 포함되지 않습니다(exclusive).\n",
        "* iloc[행, 열] 형태로 사용됩니다. 여기서 행과 열은 정수의 위치입니다."
      ],
      "metadata": {
        "id": "-S6-zlEjg1-u"
      }
    },
    {
      "cell_type": "code",
      "source": [],
      "metadata": {
        "id": "58FfMNuCg6Yj"
      },
      "execution_count": null,
      "outputs": []
    },
    {
      "cell_type": "markdown",
      "source": [
        "## isin() 메서드\n",
        "isin() 메서드는 판다스(Pandas)에서 주어진 값 목록에 대해 각 요소가 포함되어 있는지 여부를 검사하는 데 사용됩니다. 이 메서드는 데이터프레임(DataFrame)이나 시리즈(Series)의 각 요소가 지정된 값 목록 중 하나와 일치할 때 True를, 그렇지 않을 때는 False를 반환하는 불리언(Boolean) 시리즈를 생성합니다. 이를 통해 데이터를 필터링하거나 조건에 따라 선택하는 과정을 간소화할 수 있습니다."
      ],
      "metadata": {
        "id": "kM9kYIOag_Cv"
      }
    },
    {
      "cell_type": "code",
      "source": [],
      "metadata": {
        "id": "TLltPGzxhAe3"
      },
      "execution_count": null,
      "outputs": []
    },
    {
      "cell_type": "markdown",
      "source": [
        "## .str.contains() 메서드\n",
        ".str.contains() 메서드는 판다스(Pandas)에서 문자열을 포함하는 시리즈(Series)나 데이터프레임(DataFrame)의 특정 열에서, 주어진 패턴이나 문자열이 포함되어 있는지 여부를 검사할 때 사용됩니다. 이 메서드는 주로 문자열 데이터를 필터링하거나 조건에 따라 선택하는 데 사용되며, 정규 표현식을 지원하여 강력한 문자열 검색 기능을 제공합니다."
      ],
      "metadata": {
        "id": "AAWgui2NhBBI"
      }
    },
    {
      "cell_type": "code",
      "source": [],
      "metadata": {
        "id": "53BhjyG7hCv5"
      },
      "execution_count": null,
      "outputs": []
    },
    {
      "cell_type": "markdown",
      "source": [
        "## 연습문제 (실습 데이터 : gapminder.tsv)\n",
        "1. 2000년 데이터만 선택하세요."
      ],
      "metadata": {
        "id": "tLZZt_kQhEZx"
      }
    },
    {
      "cell_type": "code",
      "source": [],
      "metadata": {
        "id": "hasZBCKyhJkb"
      },
      "execution_count": null,
      "outputs": []
    },
    {
      "cell_type": "markdown",
      "source": [
        "2. 아시아(Asia) 대륙의 1982년 데이터를 모두 선택하세요."
      ],
      "metadata": {
        "id": "D_LXE_NjhPLB"
      }
    },
    {
      "cell_type": "code",
      "source": [],
      "metadata": {
        "id": "-SNEFB9HhQ1k"
      },
      "execution_count": null,
      "outputs": []
    },
    {
      "cell_type": "markdown",
      "source": [
        "3. 인구가 1억 이상인 국가들의 2007년 데이터를 선택하세요."
      ],
      "metadata": {
        "id": "lKVgejTnhRMa"
      }
    },
    {
      "cell_type": "code",
      "source": [],
      "metadata": {
        "id": "EAm1fbDshSe8"
      },
      "execution_count": null,
      "outputs": []
    },
    {
      "cell_type": "markdown",
      "source": [
        "4. 데이터셋의 첫 5개 행과 마지막 3개 컬럼을 선택하세요."
      ],
      "metadata": {
        "id": "6ZzVfGS7hSv3"
      }
    },
    {
      "cell_type": "code",
      "source": [],
      "metadata": {
        "id": "ED4wWzx7hUEO"
      },
      "execution_count": null,
      "outputs": []
    },
    {
      "cell_type": "markdown",
      "source": [
        "5. 100번째 행부터 105번째 행까지, 컬럼은 'country', 'continent', 'year'만 선택하세요. (iloc을 이용하여 해결하세요.)"
      ],
      "metadata": {
        "id": "ll8B-EKwhUV0"
      }
    },
    {
      "cell_type": "code",
      "source": [],
      "metadata": {
        "id": "IyayS_vghV0_"
      },
      "execution_count": null,
      "outputs": []
    },
    {
      "cell_type": "markdown",
      "source": [
        "6. 국가 이름에 'United'가 포함된 모든 행을 선택하세요."
      ],
      "metadata": {
        "id": "lpLvKZ1mhZRs"
      }
    },
    {
      "cell_type": "code",
      "source": [],
      "metadata": {
        "id": "G8qZIApqhadA"
      },
      "execution_count": null,
      "outputs": []
    },
    {
      "cell_type": "markdown",
      "source": [
        "7. 대륙 이름에 'Asia'가 포함되고, GDP가 10,000 이상인 모든 국가의 1990년 데이터를 선택하세요."
      ],
      "metadata": {
        "id": "l41AexVxhavR"
      }
    },
    {
      "cell_type": "code",
      "source": [],
      "metadata": {
        "id": "v6oeWLq1hb_f"
      },
      "execution_count": null,
      "outputs": []
    },
    {
      "cell_type": "markdown",
      "source": [
        "8. 대륙이 'Europe' 또는 'Africa'인 국가들의 1960년 데이터를 선택하세요."
      ],
      "metadata": {
        "id": "qdymw57ehdK_"
      }
    },
    {
      "cell_type": "code",
      "source": [],
      "metadata": {
        "id": "v2OZPBYiheTI"
      },
      "execution_count": null,
      "outputs": []
    },
    {
      "cell_type": "markdown",
      "source": [
        "9. 2000년과 2005년 데이터를 모두 선택하세요."
      ],
      "metadata": {
        "id": "xF10TRrNhenQ"
      }
    },
    {
      "cell_type": "code",
      "source": [],
      "metadata": {
        "id": "7SjrHIw0hft8"
      },
      "execution_count": null,
      "outputs": []
    },
    {
      "cell_type": "markdown",
      "source": [
        "10. 'Korea, Rep.', 'Japan', 'China' 세 국가의 2000년 이후 데이터를 선택하세요."
      ],
      "metadata": {
        "id": "KUgdCfR1hgGr"
      }
    },
    {
      "cell_type": "code",
      "source": [],
      "metadata": {
        "id": "MO1t2n1mhhfB"
      },
      "execution_count": null,
      "outputs": []
    }
  ]
}