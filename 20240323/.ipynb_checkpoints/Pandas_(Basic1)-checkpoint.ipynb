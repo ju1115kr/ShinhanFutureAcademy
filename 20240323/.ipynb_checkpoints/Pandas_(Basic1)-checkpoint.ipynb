{
  "nbformat": 4,
  "nbformat_minor": 0,
  "metadata": {
    "colab": {
      "provenance": []
    },
    "kernelspec": {
      "name": "python3",
      "display_name": "Python 3"
    },
    "language_info": {
      "name": "python"
    }
  },
  "cells": [
    {
      "cell_type": "markdown",
      "source": [
        "# Pandas\n",
        "판다스(Pandas)는 Python 프로그래밍 언어를 위한 무료, 오픈 소스 라이브러리로, 데이터 조작 및 분석을 위해 주로 사용됩니다. 특히, 수치 데이터를 다루기 위한 데이터 구조와 함수를 제공하여, 복잡한 데이터 분석 작업을 보다 쉽게 할 수 있도록 돕습니다. 판다스는 금융, 과학, 사회 과학 분야에서 데이터 분석 및 모델링에 널리 사용됩니다."
      ],
      "metadata": {
        "id": "pAkCnkIKd8fZ"
      }
    },
    {
      "cell_type": "code",
      "execution_count": 1,
      "metadata": {
        "id": "Z4mKzYKFd7d_"
      },
      "outputs": [],
      "source": [
        "import pandas as pd"
      ]
    },
    {
      "cell_type": "markdown",
      "source": [
        "## 데이터 불러오기\n",
        "Pandas에서 데이터를 불러오는 것은 외부 데이터 소스로부터 데이터를 읽어와 판다스의 데이터 구조인 DataFrame이나 Series로 변환하는 과정을 의미합니다. 이를 통해 데이터를 분석하고 조작할 준비를 마치게 됩니다. 판다스는 다양한 형식의 데이터를 쉽게 불러올 수 있는 함수들을 제공하며, 가장 일반적으로 사용되는 데이터 포맷은 CSV, Excel, SQL 데이터베이스, JSON 등입니다."
      ],
      "metadata": {
        "id": "peN05Y6VeG7a"
      }
    },
    {
      "cell_type": "code",
      "source": [],
      "metadata": {
        "id": "v6uWTgkSeDAi"
      },
      "execution_count": null,
      "outputs": []
    },
    {
      "cell_type": "markdown",
      "source": [
        "## 시리즈 만들기\n",
        "판다스(Pandas)에서 시리즈(Series)는 1차원 배열과 유사한 데이터 구조로, 각 데이터(값)에 인덱스가 붙어 있는 형태를 말합니다. 시리즈는 다양한 데이터 타입(예: 정수, 실수, 문자열 등)을 담을 수 있으며, 판다스의 기본적인 데이터 구조 중 하나입니다."
      ],
      "metadata": {
        "id": "YfHtN4AweM9u"
      }
    },
    {
      "cell_type": "markdown",
      "source": [
        "* 리스트를 사용하여 시리즈 만들기"
      ],
      "metadata": {
        "id": "AjFsIe_neRRy"
      }
    },
    {
      "cell_type": "code",
      "source": [
        "data = [1, 2, 3, 4, 5]"
      ],
      "metadata": {
        "id": "alEAWm9teP0N"
      },
      "execution_count": null,
      "outputs": []
    },
    {
      "cell_type": "markdown",
      "source": [
        "* 시리즈 행 이름 설정하기"
      ],
      "metadata": {
        "id": "utsUKYHIeU3D"
      }
    },
    {
      "cell_type": "code",
      "source": [],
      "metadata": {
        "id": "xpS43LFmeWH-"
      },
      "execution_count": null,
      "outputs": []
    },
    {
      "cell_type": "markdown",
      "source": [
        "* 딕셔너리를 사용하여 시리즈 만들기"
      ],
      "metadata": {
        "id": "WoxFydPaeWf8"
      }
    },
    {
      "cell_type": "code",
      "source": [
        "data_dict = {'a': 1, 'b': 2, 'c': 3}"
      ],
      "metadata": {
        "id": "Qcd9ytPReYTw"
      },
      "execution_count": null,
      "outputs": []
    },
    {
      "cell_type": "markdown",
      "source": [
        "## 데이터프레임 만들기\n",
        "데이터프레임(DataFrame)을 만든다는 것은 판다스(Pandas) 라이브러리를 사용하여 테이블 형태의 데이터 구조를 생성하는 과정을 말합니다. 데이터프레임은 로우와 컬럼으로 이루어져 있으며, 각 컬럼은 서로 다른 데이터 타입을 가질 수 있습니다. 이는 SQL 테이블이나 엑셀 스프레드시트와 유사한 형태로, 데이터 분석에 있어 가장 핵심적인 도구 중 하나입니다."
      ],
      "metadata": {
        "id": "T-dgefnwemkX"
      }
    },
    {
      "cell_type": "markdown",
      "source": [
        "* 딕셔너리를 사용하여 데이터프레임 만들기"
      ],
      "metadata": {
        "id": "Hjc_bjjXeq-z"
      }
    },
    {
      "cell_type": "code",
      "source": [
        "data = {\n",
        "    'Column1': [1, 2, 3, 4],\n",
        "    'Column2': ['A', 'B', 'C', 'D'],\n",
        "    'Column3': [True, False, True, False]\n",
        "}\n",
        "\n",
        "data"
      ],
      "metadata": {
        "colab": {
          "base_uri": "https://localhost:8080/"
        },
        "id": "uFGJtO1Hep_Z",
        "outputId": "e34990e4-86fc-49a7-a94b-f81cfde66803"
      },
      "execution_count": 2,
      "outputs": [
        {
          "output_type": "execute_result",
          "data": {
            "text/plain": [
              "{'Column1': [1, 2, 3, 4],\n",
              " 'Column2': ['A', 'B', 'C', 'D'],\n",
              " 'Column3': [True, False, True, False]}"
            ]
          },
          "metadata": {},
          "execution_count": 2
        }
      ]
    },
    {
      "cell_type": "markdown",
      "source": [
        "* 리스트를 사용하여 데이터프레임 만들기"
      ],
      "metadata": {
        "id": "QM4LtlwYevcv"
      }
    },
    {
      "cell_type": "code",
      "source": [
        "data = [\n",
        "    [1, 'A', True],\n",
        "    [2, 'B', False],\n",
        "    [3, 'C', True],\n",
        "    [4, 'D', False]\n",
        "]\n",
        "\n",
        "data"
      ],
      "metadata": {
        "colab": {
          "base_uri": "https://localhost:8080/"
        },
        "id": "eiLvL8bCetp2",
        "outputId": "c184547b-b4d2-4f54-d73f-0200773a53ee"
      },
      "execution_count": 3,
      "outputs": [
        {
          "output_type": "execute_result",
          "data": {
            "text/plain": [
              "[[1, 'A', True], [2, 'B', False], [3, 'C', True], [4, 'D', False]]"
            ]
          },
          "metadata": {},
          "execution_count": 3
        }
      ]
    },
    {
      "cell_type": "markdown",
      "source": [
        "* 데이터프레임 행, 열 이름 설정하기"
      ],
      "metadata": {
        "id": "WNOOyK-1e2o2"
      }
    },
    {
      "cell_type": "code",
      "source": [],
      "metadata": {
        "id": "LoznC58ye03f"
      },
      "execution_count": null,
      "outputs": []
    },
    {
      "cell_type": "markdown",
      "source": [
        "* rename() 메서드를 사용하여 행, 열이름 수정하기"
      ],
      "metadata": {
        "id": "Lkq4VhjEe7be"
      }
    },
    {
      "cell_type": "code",
      "source": [],
      "metadata": {
        "id": "2JCVVNEXe-UY"
      },
      "execution_count": null,
      "outputs": []
    },
    {
      "cell_type": "markdown",
      "source": [
        "## 연습문제\n",
        "1. 숫자 1부터 10까지 담긴 시리즈를 생성하세요."
      ],
      "metadata": {
        "id": "blh9C8gkfH8W"
      }
    },
    {
      "cell_type": "code",
      "source": [],
      "metadata": {
        "id": "wDIvm0nmfKr2"
      },
      "execution_count": null,
      "outputs": []
    },
    {
      "cell_type": "markdown",
      "source": [
        "2. 다음 리스트를 사용하여 시리즈를 생성하고, 인덱스로 ['a', 'b', 'c', 'd', 'e']를 사용하세요."
      ],
      "metadata": {
        "id": "cGiZkIWKfMTz"
      }
    },
    {
      "cell_type": "code",
      "source": [
        "data = [10, 20, 30, 40, 50]"
      ],
      "metadata": {
        "id": "KRdCS7mXfOOT"
      },
      "execution_count": 4,
      "outputs": []
    },
    {
      "cell_type": "markdown",
      "source": [
        "3. 3개의 컬럼('A', 'B', 'C')과 4개의 행을 가진 데이터프레임을 생성하세요. (데이터프레임이 가지는 값은 임의의 숫자를 넣어서 만드세요.)"
      ],
      "metadata": {
        "id": "VxUcI8YhfQXR"
      }
    },
    {
      "cell_type": "code",
      "source": [],
      "metadata": {
        "id": "aqGxcslafbGC"
      },
      "execution_count": null,
      "outputs": []
    },
    {
      "cell_type": "markdown",
      "source": [
        "4. 다음 데이터를 사용하여 2개의 컬럼을 가진 데이터프레임을 생성하세요."
      ],
      "metadata": {
        "id": "lCX3nqGMfd8_"
      }
    },
    {
      "cell_type": "code",
      "source": [
        "data = {'Name': ['John', 'Anna', 'Peter', 'Linda'], 'Age': [28, 34, 29, 32]}"
      ],
      "metadata": {
        "id": "IZ6JXQ8nfgOc"
      },
      "execution_count": 5,
      "outputs": []
    },
    {
      "cell_type": "markdown",
      "source": [
        "5. 문제 3에서 생성한 데이터프레임의 컬럼 이름을 'X', 'Y', 'Z'로 변경하세요."
      ],
      "metadata": {
        "id": "6EqJpmBPfnfb"
      }
    },
    {
      "cell_type": "code",
      "source": [],
      "metadata": {
        "id": "s8B3AVOXfmap"
      },
      "execution_count": null,
      "outputs": []
    },
    {
      "cell_type": "markdown",
      "source": [
        "6. 문제 4에서 생성한 데이터프레임의 행 인덱스를 [100, 101, 102, 103]으로 변경하세요."
      ],
      "metadata": {
        "id": "ulY015zdfve4"
      }
    },
    {
      "cell_type": "code",
      "source": [],
      "metadata": {
        "id": "tHtirq0ufxFE"
      },
      "execution_count": null,
      "outputs": []
    },
    {
      "cell_type": "markdown",
      "source": [
        "7. rename() 함수를 사용해서 아래 데이터프레임의 열 이름 \"A\" 를 \"Alpha\" 로 수정하세요."
      ],
      "metadata": {
        "id": "DdYznd9pfxq4"
      }
    },
    {
      "cell_type": "code",
      "source": [
        "import numpy as np\n",
        "random_data = np.random.rand(5, 5)\n",
        "df = pd.DataFrame(random_data, columns=['A', 'B', 'C', 'D', 'E'])\n",
        "df"
      ],
      "metadata": {
        "colab": {
          "base_uri": "https://localhost:8080/",
          "height": 206
        },
        "id": "yF-x9selfzNE",
        "outputId": "0e444986-15b9-4a73-b333-beb5bdd963dd"
      },
      "execution_count": 6,
      "outputs": [
        {
          "output_type": "execute_result",
          "data": {
            "text/plain": [
              "          A         B         C         D         E\n",
              "0  0.482646  0.593602  0.843085  0.551159  0.708175\n",
              "1  0.978902  0.692889  0.727870  0.272286  0.256338\n",
              "2  0.786565  0.104489  0.494380  0.768191  0.194379\n",
              "3  0.332892  0.005128  0.160572  0.951725  0.099884\n",
              "4  0.193315  0.362209  0.823137  0.240553  0.284471"
            ],
            "text/html": [
              "\n",
              "  <div id=\"df-da0ea1ee-19b2-46ac-bce3-a26a733b3094\" class=\"colab-df-container\">\n",
              "    <div>\n",
              "<style scoped>\n",
              "    .dataframe tbody tr th:only-of-type {\n",
              "        vertical-align: middle;\n",
              "    }\n",
              "\n",
              "    .dataframe tbody tr th {\n",
              "        vertical-align: top;\n",
              "    }\n",
              "\n",
              "    .dataframe thead th {\n",
              "        text-align: right;\n",
              "    }\n",
              "</style>\n",
              "<table border=\"1\" class=\"dataframe\">\n",
              "  <thead>\n",
              "    <tr style=\"text-align: right;\">\n",
              "      <th></th>\n",
              "      <th>A</th>\n",
              "      <th>B</th>\n",
              "      <th>C</th>\n",
              "      <th>D</th>\n",
              "      <th>E</th>\n",
              "    </tr>\n",
              "  </thead>\n",
              "  <tbody>\n",
              "    <tr>\n",
              "      <th>0</th>\n",
              "      <td>0.482646</td>\n",
              "      <td>0.593602</td>\n",
              "      <td>0.843085</td>\n",
              "      <td>0.551159</td>\n",
              "      <td>0.708175</td>\n",
              "    </tr>\n",
              "    <tr>\n",
              "      <th>1</th>\n",
              "      <td>0.978902</td>\n",
              "      <td>0.692889</td>\n",
              "      <td>0.727870</td>\n",
              "      <td>0.272286</td>\n",
              "      <td>0.256338</td>\n",
              "    </tr>\n",
              "    <tr>\n",
              "      <th>2</th>\n",
              "      <td>0.786565</td>\n",
              "      <td>0.104489</td>\n",
              "      <td>0.494380</td>\n",
              "      <td>0.768191</td>\n",
              "      <td>0.194379</td>\n",
              "    </tr>\n",
              "    <tr>\n",
              "      <th>3</th>\n",
              "      <td>0.332892</td>\n",
              "      <td>0.005128</td>\n",
              "      <td>0.160572</td>\n",
              "      <td>0.951725</td>\n",
              "      <td>0.099884</td>\n",
              "    </tr>\n",
              "    <tr>\n",
              "      <th>4</th>\n",
              "      <td>0.193315</td>\n",
              "      <td>0.362209</td>\n",
              "      <td>0.823137</td>\n",
              "      <td>0.240553</td>\n",
              "      <td>0.284471</td>\n",
              "    </tr>\n",
              "  </tbody>\n",
              "</table>\n",
              "</div>\n",
              "    <div class=\"colab-df-buttons\">\n",
              "\n",
              "  <div class=\"colab-df-container\">\n",
              "    <button class=\"colab-df-convert\" onclick=\"convertToInteractive('df-da0ea1ee-19b2-46ac-bce3-a26a733b3094')\"\n",
              "            title=\"Convert this dataframe to an interactive table.\"\n",
              "            style=\"display:none;\">\n",
              "\n",
              "  <svg xmlns=\"http://www.w3.org/2000/svg\" height=\"24px\" viewBox=\"0 -960 960 960\">\n",
              "    <path d=\"M120-120v-720h720v720H120Zm60-500h600v-160H180v160Zm220 220h160v-160H400v160Zm0 220h160v-160H400v160ZM180-400h160v-160H180v160Zm440 0h160v-160H620v160ZM180-180h160v-160H180v160Zm440 0h160v-160H620v160Z\"/>\n",
              "  </svg>\n",
              "    </button>\n",
              "\n",
              "  <style>\n",
              "    .colab-df-container {\n",
              "      display:flex;\n",
              "      gap: 12px;\n",
              "    }\n",
              "\n",
              "    .colab-df-convert {\n",
              "      background-color: #E8F0FE;\n",
              "      border: none;\n",
              "      border-radius: 50%;\n",
              "      cursor: pointer;\n",
              "      display: none;\n",
              "      fill: #1967D2;\n",
              "      height: 32px;\n",
              "      padding: 0 0 0 0;\n",
              "      width: 32px;\n",
              "    }\n",
              "\n",
              "    .colab-df-convert:hover {\n",
              "      background-color: #E2EBFA;\n",
              "      box-shadow: 0px 1px 2px rgba(60, 64, 67, 0.3), 0px 1px 3px 1px rgba(60, 64, 67, 0.15);\n",
              "      fill: #174EA6;\n",
              "    }\n",
              "\n",
              "    .colab-df-buttons div {\n",
              "      margin-bottom: 4px;\n",
              "    }\n",
              "\n",
              "    [theme=dark] .colab-df-convert {\n",
              "      background-color: #3B4455;\n",
              "      fill: #D2E3FC;\n",
              "    }\n",
              "\n",
              "    [theme=dark] .colab-df-convert:hover {\n",
              "      background-color: #434B5C;\n",
              "      box-shadow: 0px 1px 3px 1px rgba(0, 0, 0, 0.15);\n",
              "      filter: drop-shadow(0px 1px 2px rgba(0, 0, 0, 0.3));\n",
              "      fill: #FFFFFF;\n",
              "    }\n",
              "  </style>\n",
              "\n",
              "    <script>\n",
              "      const buttonEl =\n",
              "        document.querySelector('#df-da0ea1ee-19b2-46ac-bce3-a26a733b3094 button.colab-df-convert');\n",
              "      buttonEl.style.display =\n",
              "        google.colab.kernel.accessAllowed ? 'block' : 'none';\n",
              "\n",
              "      async function convertToInteractive(key) {\n",
              "        const element = document.querySelector('#df-da0ea1ee-19b2-46ac-bce3-a26a733b3094');\n",
              "        const dataTable =\n",
              "          await google.colab.kernel.invokeFunction('convertToInteractive',\n",
              "                                                    [key], {});\n",
              "        if (!dataTable) return;\n",
              "\n",
              "        const docLinkHtml = 'Like what you see? Visit the ' +\n",
              "          '<a target=\"_blank\" href=https://colab.research.google.com/notebooks/data_table.ipynb>data table notebook</a>'\n",
              "          + ' to learn more about interactive tables.';\n",
              "        element.innerHTML = '';\n",
              "        dataTable['output_type'] = 'display_data';\n",
              "        await google.colab.output.renderOutput(dataTable, element);\n",
              "        const docLink = document.createElement('div');\n",
              "        docLink.innerHTML = docLinkHtml;\n",
              "        element.appendChild(docLink);\n",
              "      }\n",
              "    </script>\n",
              "  </div>\n",
              "\n",
              "\n",
              "<div id=\"df-2803ca5b-f8d0-42e9-a8c0-47cd87b985a5\">\n",
              "  <button class=\"colab-df-quickchart\" onclick=\"quickchart('df-2803ca5b-f8d0-42e9-a8c0-47cd87b985a5')\"\n",
              "            title=\"Suggest charts\"\n",
              "            style=\"display:none;\">\n",
              "\n",
              "<svg xmlns=\"http://www.w3.org/2000/svg\" height=\"24px\"viewBox=\"0 0 24 24\"\n",
              "     width=\"24px\">\n",
              "    <g>\n",
              "        <path d=\"M19 3H5c-1.1 0-2 .9-2 2v14c0 1.1.9 2 2 2h14c1.1 0 2-.9 2-2V5c0-1.1-.9-2-2-2zM9 17H7v-7h2v7zm4 0h-2V7h2v10zm4 0h-2v-4h2v4z\"/>\n",
              "    </g>\n",
              "</svg>\n",
              "  </button>\n",
              "\n",
              "<style>\n",
              "  .colab-df-quickchart {\n",
              "      --bg-color: #E8F0FE;\n",
              "      --fill-color: #1967D2;\n",
              "      --hover-bg-color: #E2EBFA;\n",
              "      --hover-fill-color: #174EA6;\n",
              "      --disabled-fill-color: #AAA;\n",
              "      --disabled-bg-color: #DDD;\n",
              "  }\n",
              "\n",
              "  [theme=dark] .colab-df-quickchart {\n",
              "      --bg-color: #3B4455;\n",
              "      --fill-color: #D2E3FC;\n",
              "      --hover-bg-color: #434B5C;\n",
              "      --hover-fill-color: #FFFFFF;\n",
              "      --disabled-bg-color: #3B4455;\n",
              "      --disabled-fill-color: #666;\n",
              "  }\n",
              "\n",
              "  .colab-df-quickchart {\n",
              "    background-color: var(--bg-color);\n",
              "    border: none;\n",
              "    border-radius: 50%;\n",
              "    cursor: pointer;\n",
              "    display: none;\n",
              "    fill: var(--fill-color);\n",
              "    height: 32px;\n",
              "    padding: 0;\n",
              "    width: 32px;\n",
              "  }\n",
              "\n",
              "  .colab-df-quickchart:hover {\n",
              "    background-color: var(--hover-bg-color);\n",
              "    box-shadow: 0 1px 2px rgba(60, 64, 67, 0.3), 0 1px 3px 1px rgba(60, 64, 67, 0.15);\n",
              "    fill: var(--button-hover-fill-color);\n",
              "  }\n",
              "\n",
              "  .colab-df-quickchart-complete:disabled,\n",
              "  .colab-df-quickchart-complete:disabled:hover {\n",
              "    background-color: var(--disabled-bg-color);\n",
              "    fill: var(--disabled-fill-color);\n",
              "    box-shadow: none;\n",
              "  }\n",
              "\n",
              "  .colab-df-spinner {\n",
              "    border: 2px solid var(--fill-color);\n",
              "    border-color: transparent;\n",
              "    border-bottom-color: var(--fill-color);\n",
              "    animation:\n",
              "      spin 1s steps(1) infinite;\n",
              "  }\n",
              "\n",
              "  @keyframes spin {\n",
              "    0% {\n",
              "      border-color: transparent;\n",
              "      border-bottom-color: var(--fill-color);\n",
              "      border-left-color: var(--fill-color);\n",
              "    }\n",
              "    20% {\n",
              "      border-color: transparent;\n",
              "      border-left-color: var(--fill-color);\n",
              "      border-top-color: var(--fill-color);\n",
              "    }\n",
              "    30% {\n",
              "      border-color: transparent;\n",
              "      border-left-color: var(--fill-color);\n",
              "      border-top-color: var(--fill-color);\n",
              "      border-right-color: var(--fill-color);\n",
              "    }\n",
              "    40% {\n",
              "      border-color: transparent;\n",
              "      border-right-color: var(--fill-color);\n",
              "      border-top-color: var(--fill-color);\n",
              "    }\n",
              "    60% {\n",
              "      border-color: transparent;\n",
              "      border-right-color: var(--fill-color);\n",
              "    }\n",
              "    80% {\n",
              "      border-color: transparent;\n",
              "      border-right-color: var(--fill-color);\n",
              "      border-bottom-color: var(--fill-color);\n",
              "    }\n",
              "    90% {\n",
              "      border-color: transparent;\n",
              "      border-bottom-color: var(--fill-color);\n",
              "    }\n",
              "  }\n",
              "</style>\n",
              "\n",
              "  <script>\n",
              "    async function quickchart(key) {\n",
              "      const quickchartButtonEl =\n",
              "        document.querySelector('#' + key + ' button');\n",
              "      quickchartButtonEl.disabled = true;  // To prevent multiple clicks.\n",
              "      quickchartButtonEl.classList.add('colab-df-spinner');\n",
              "      try {\n",
              "        const charts = await google.colab.kernel.invokeFunction(\n",
              "            'suggestCharts', [key], {});\n",
              "      } catch (error) {\n",
              "        console.error('Error during call to suggestCharts:', error);\n",
              "      }\n",
              "      quickchartButtonEl.classList.remove('colab-df-spinner');\n",
              "      quickchartButtonEl.classList.add('colab-df-quickchart-complete');\n",
              "    }\n",
              "    (() => {\n",
              "      let quickchartButtonEl =\n",
              "        document.querySelector('#df-2803ca5b-f8d0-42e9-a8c0-47cd87b985a5 button');\n",
              "      quickchartButtonEl.style.display =\n",
              "        google.colab.kernel.accessAllowed ? 'block' : 'none';\n",
              "    })();\n",
              "  </script>\n",
              "</div>\n",
              "\n",
              "  <div id=\"id_41dc0d71-dcee-4006-8ec3-c56c1f96be72\">\n",
              "    <style>\n",
              "      .colab-df-generate {\n",
              "        background-color: #E8F0FE;\n",
              "        border: none;\n",
              "        border-radius: 50%;\n",
              "        cursor: pointer;\n",
              "        display: none;\n",
              "        fill: #1967D2;\n",
              "        height: 32px;\n",
              "        padding: 0 0 0 0;\n",
              "        width: 32px;\n",
              "      }\n",
              "\n",
              "      .colab-df-generate:hover {\n",
              "        background-color: #E2EBFA;\n",
              "        box-shadow: 0px 1px 2px rgba(60, 64, 67, 0.3), 0px 1px 3px 1px rgba(60, 64, 67, 0.15);\n",
              "        fill: #174EA6;\n",
              "      }\n",
              "\n",
              "      [theme=dark] .colab-df-generate {\n",
              "        background-color: #3B4455;\n",
              "        fill: #D2E3FC;\n",
              "      }\n",
              "\n",
              "      [theme=dark] .colab-df-generate:hover {\n",
              "        background-color: #434B5C;\n",
              "        box-shadow: 0px 1px 3px 1px rgba(0, 0, 0, 0.15);\n",
              "        filter: drop-shadow(0px 1px 2px rgba(0, 0, 0, 0.3));\n",
              "        fill: #FFFFFF;\n",
              "      }\n",
              "    </style>\n",
              "    <button class=\"colab-df-generate\" onclick=\"generateWithVariable('df')\"\n",
              "            title=\"Generate code using this dataframe.\"\n",
              "            style=\"display:none;\">\n",
              "\n",
              "  <svg xmlns=\"http://www.w3.org/2000/svg\" height=\"24px\"viewBox=\"0 0 24 24\"\n",
              "       width=\"24px\">\n",
              "    <path d=\"M7,19H8.4L18.45,9,17,7.55,7,17.6ZM5,21V16.75L18.45,3.32a2,2,0,0,1,2.83,0l1.4,1.43a1.91,1.91,0,0,1,.58,1.4,1.91,1.91,0,0,1-.58,1.4L9.25,21ZM18.45,9,17,7.55Zm-12,3A5.31,5.31,0,0,0,4.9,8.1,5.31,5.31,0,0,0,1,6.5,5.31,5.31,0,0,0,4.9,4.9,5.31,5.31,0,0,0,6.5,1,5.31,5.31,0,0,0,8.1,4.9,5.31,5.31,0,0,0,12,6.5,5.46,5.46,0,0,0,6.5,12Z\"/>\n",
              "  </svg>\n",
              "    </button>\n",
              "    <script>\n",
              "      (() => {\n",
              "      const buttonEl =\n",
              "        document.querySelector('#id_41dc0d71-dcee-4006-8ec3-c56c1f96be72 button.colab-df-generate');\n",
              "      buttonEl.style.display =\n",
              "        google.colab.kernel.accessAllowed ? 'block' : 'none';\n",
              "\n",
              "      buttonEl.onclick = () => {\n",
              "        google.colab.notebook.generateWithVariable('df');\n",
              "      }\n",
              "      })();\n",
              "    </script>\n",
              "  </div>\n",
              "\n",
              "    </div>\n",
              "  </div>\n"
            ],
            "application/vnd.google.colaboratory.intrinsic+json": {
              "type": "dataframe",
              "variable_name": "df",
              "summary": "{\n  \"name\": \"df\",\n  \"rows\": 5,\n  \"fields\": [\n    {\n      \"column\": \"A\",\n      \"properties\": {\n        \"dtype\": \"number\",\n        \"std\": 0.3235344180968557,\n        \"min\": 0.19331479013166197,\n        \"max\": 0.978901695431916,\n        \"num_unique_values\": 5,\n        \"samples\": [\n          0.978901695431916,\n          0.19331479013166197,\n          0.7865645206764605\n        ],\n        \"semantic_type\": \"\",\n        \"description\": \"\"\n      }\n    },\n    {\n      \"column\": \"B\",\n      \"properties\": {\n        \"dtype\": \"number\",\n        \"std\": 0.2984385085646762,\n        \"min\": 0.005127702676301693,\n        \"max\": 0.6928885013706754,\n        \"num_unique_values\": 5,\n        \"samples\": [\n          0.6928885013706754,\n          0.36220924144867905,\n          0.1044889599851736\n        ],\n        \"semantic_type\": \"\",\n        \"description\": \"\"\n      }\n    },\n    {\n      \"column\": \"C\",\n      \"properties\": {\n        \"dtype\": \"number\",\n        \"std\": 0.2867936551305442,\n        \"min\": 0.16057221898690255,\n        \"max\": 0.843084813779917,\n        \"num_unique_values\": 5,\n        \"samples\": [\n          0.7278701406621565,\n          0.8231370393211036,\n          0.4943801193508691\n        ],\n        \"semantic_type\": \"\",\n        \"description\": \"\"\n      }\n    },\n    {\n      \"column\": \"D\",\n      \"properties\": {\n        \"dtype\": \"number\",\n        \"std\": 0.30888669243245775,\n        \"min\": 0.24055305182040543,\n        \"max\": 0.9517248316621479,\n        \"num_unique_values\": 5,\n        \"samples\": [\n          0.2722856381120904,\n          0.24055305182040543,\n          0.7681905449176158\n        ],\n        \"semantic_type\": \"\",\n        \"description\": \"\"\n      }\n    },\n    {\n      \"column\": \"E\",\n      \"properties\": {\n        \"dtype\": \"number\",\n        \"std\": 0.23429821904837173,\n        \"min\": 0.09988377954130978,\n        \"max\": 0.7081750048797815,\n        \"num_unique_values\": 5,\n        \"samples\": [\n          0.2563379461633516,\n          0.28447070452934675,\n          0.19437897058012688\n        ],\n        \"semantic_type\": \"\",\n        \"description\": \"\"\n      }\n    }\n  ]\n}"
            }
          },
          "metadata": {},
          "execution_count": 6
        }
      ]
    },
    {
      "cell_type": "markdown",
      "source": [
        "8. 7번 문제에서 만든 데이터프레임의 행 이름 \"0\" 을 \"Start_0\" 으로 수정하세요."
      ],
      "metadata": {
        "id": "9rXQjZGef2Tq"
      }
    },
    {
      "cell_type": "code",
      "source": [],
      "metadata": {
        "id": "zvrTINdrf03o"
      },
      "execution_count": null,
      "outputs": []
    }
  ]
}