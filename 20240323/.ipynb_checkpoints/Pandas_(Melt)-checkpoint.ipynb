{
  "nbformat": 4,
  "nbformat_minor": 0,
  "metadata": {
    "colab": {
      "provenance": []
    },
    "kernelspec": {
      "name": "python3",
      "display_name": "Python 3"
    },
    "language_info": {
      "name": "python"
    }
  },
  "cells": [
    {
      "cell_type": "markdown",
      "source": [
        "## Melt\n",
        "Pandas에서 melt 함수는 데이터의 형태를 변경하는 데 사용되는 '긴 형식(long format)'으로 변환하는 작업을 말합니다. 이는 여러 열에 걸쳐 있던 데이터를 하나의 열로 통합하고, 해당 데이터의 식별 변수를 다른 열로 표시하여, 데이터를 더욱 분석하기 용이한 형태로 만듭니다. melt는 데이터를 재구조화하는 데 유용하며, 특히 여러 변수가 하나의 열에 포함된 '키-값' 쌍 형태로 나타낼 때 많이 사용됩니다.\n",
        "\n",
        "<br>\n",
        "\n",
        "### Melt의 주요 매개변수\n",
        "* id_vars: 위치를 그대로 유지할 열의 이름입니다. 이 열들의 데이터는 여러 행으로 반복됩니다.\n",
        "* value_vars: 긴 형식으로 변환할 열의 이름입니다. 지정하지 않으면, id_vars를 제외한 모든 열이 value_vars로 간주됩니다.\n",
        "* var_name: value_vars로 지정된 열의 이름을 저장할 열의 이름입니다. 기본값은 'variable'입니다.\n",
        "* value_name: value_vars 열의 값이 저장될 열의 이름입니다. 기본값은 'value'입니다."
      ],
      "metadata": {
        "id": "6ApO_2lFlad8"
      }
    },
    {
      "cell_type": "code",
      "execution_count": null,
      "metadata": {
        "id": "iiTZb56XlYzI"
      },
      "outputs": [],
      "source": [
        "import pandas as pd"
      ]
    },
    {
      "cell_type": "code",
      "source": [],
      "metadata": {
        "id": "shNrIXFtlike"
      },
      "execution_count": null,
      "outputs": []
    }
  ]
}